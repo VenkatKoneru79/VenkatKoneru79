{
 "cells": [
  {
   "cell_type": "code",
   "execution_count": 178,
   "metadata": {},
   "outputs": [],
   "source": [
    "import numpy as np\n",
    "import pandas as pd \n",
    "import matplotlib.pyplot as plt \n",
    "import seaborn as sns \n",
    "import plotly.express as px"
   ]
  },
  {
   "cell_type": "code",
   "execution_count": 179,
   "metadata": {},
   "outputs": [],
   "source": [
    "from sklearn.preprocessing import MinMaxScaler,label_binarize\n",
    "from sklearn.model_selection import train_test_split,GridSearchCV,validation_curve\n",
    "from sklearn.multiclass import OneVsRestClassifier\n",
    "from sklearn.linear_model import LogisticRegression\n",
    "from sklearn.tree import DecisionTreeClassifier\n",
    "from sklearn.ensemble import RandomForestClassifier\n",
    "from sklearn.svm import SVC\n",
    "from sklearn.metrics import f1_score,confusion_matrix,accuracy_score,auc,roc_curve,classification_report"
   ]
  },
  {
   "cell_type": "code",
   "execution_count": 180,
   "metadata": {},
   "outputs": [
    {
     "data": {
      "text/html": [
       "<div>\n",
       "<style scoped>\n",
       "    .dataframe tbody tr th:only-of-type {\n",
       "        vertical-align: middle;\n",
       "    }\n",
       "\n",
       "    .dataframe tbody tr th {\n",
       "        vertical-align: top;\n",
       "    }\n",
       "\n",
       "    .dataframe thead th {\n",
       "        text-align: right;\n",
       "    }\n",
       "</style>\n",
       "<table border=\"1\" class=\"dataframe\">\n",
       "  <thead>\n",
       "    <tr style=\"text-align: right;\">\n",
       "      <th></th>\n",
       "      <th>Temperature</th>\n",
       "      <th>Humidity</th>\n",
       "      <th>Wind Speed</th>\n",
       "      <th>Precipitation (%)</th>\n",
       "      <th>Cloud Cover</th>\n",
       "      <th>Atmospheric Pressure</th>\n",
       "      <th>UV Index</th>\n",
       "      <th>Season</th>\n",
       "      <th>Visibility (km)</th>\n",
       "      <th>Location</th>\n",
       "      <th>Weather Type</th>\n",
       "    </tr>\n",
       "  </thead>\n",
       "  <tbody>\n",
       "    <tr>\n",
       "      <th>0</th>\n",
       "      <td>14.0</td>\n",
       "      <td>73</td>\n",
       "      <td>9.5</td>\n",
       "      <td>82.0</td>\n",
       "      <td>partly cloudy</td>\n",
       "      <td>1010.82</td>\n",
       "      <td>2</td>\n",
       "      <td>Winter</td>\n",
       "      <td>3.5</td>\n",
       "      <td>inland</td>\n",
       "      <td>Rainy</td>\n",
       "    </tr>\n",
       "    <tr>\n",
       "      <th>1</th>\n",
       "      <td>39.0</td>\n",
       "      <td>96</td>\n",
       "      <td>8.5</td>\n",
       "      <td>71.0</td>\n",
       "      <td>partly cloudy</td>\n",
       "      <td>1011.43</td>\n",
       "      <td>7</td>\n",
       "      <td>Spring</td>\n",
       "      <td>10.0</td>\n",
       "      <td>inland</td>\n",
       "      <td>Cloudy</td>\n",
       "    </tr>\n",
       "    <tr>\n",
       "      <th>2</th>\n",
       "      <td>30.0</td>\n",
       "      <td>64</td>\n",
       "      <td>7.0</td>\n",
       "      <td>16.0</td>\n",
       "      <td>clear</td>\n",
       "      <td>1018.72</td>\n",
       "      <td>5</td>\n",
       "      <td>Spring</td>\n",
       "      <td>5.5</td>\n",
       "      <td>mountain</td>\n",
       "      <td>Sunny</td>\n",
       "    </tr>\n",
       "    <tr>\n",
       "      <th>3</th>\n",
       "      <td>38.0</td>\n",
       "      <td>83</td>\n",
       "      <td>1.5</td>\n",
       "      <td>82.0</td>\n",
       "      <td>clear</td>\n",
       "      <td>1026.25</td>\n",
       "      <td>7</td>\n",
       "      <td>Spring</td>\n",
       "      <td>1.0</td>\n",
       "      <td>coastal</td>\n",
       "      <td>Sunny</td>\n",
       "    </tr>\n",
       "    <tr>\n",
       "      <th>4</th>\n",
       "      <td>27.0</td>\n",
       "      <td>74</td>\n",
       "      <td>17.0</td>\n",
       "      <td>66.0</td>\n",
       "      <td>overcast</td>\n",
       "      <td>990.67</td>\n",
       "      <td>1</td>\n",
       "      <td>Winter</td>\n",
       "      <td>2.5</td>\n",
       "      <td>mountain</td>\n",
       "      <td>Rainy</td>\n",
       "    </tr>\n",
       "    <tr>\n",
       "      <th>...</th>\n",
       "      <td>...</td>\n",
       "      <td>...</td>\n",
       "      <td>...</td>\n",
       "      <td>...</td>\n",
       "      <td>...</td>\n",
       "      <td>...</td>\n",
       "      <td>...</td>\n",
       "      <td>...</td>\n",
       "      <td>...</td>\n",
       "      <td>...</td>\n",
       "      <td>...</td>\n",
       "    </tr>\n",
       "    <tr>\n",
       "      <th>13195</th>\n",
       "      <td>10.0</td>\n",
       "      <td>74</td>\n",
       "      <td>14.5</td>\n",
       "      <td>71.0</td>\n",
       "      <td>overcast</td>\n",
       "      <td>1003.15</td>\n",
       "      <td>1</td>\n",
       "      <td>Summer</td>\n",
       "      <td>1.0</td>\n",
       "      <td>mountain</td>\n",
       "      <td>Rainy</td>\n",
       "    </tr>\n",
       "    <tr>\n",
       "      <th>13196</th>\n",
       "      <td>-1.0</td>\n",
       "      <td>76</td>\n",
       "      <td>3.5</td>\n",
       "      <td>23.0</td>\n",
       "      <td>cloudy</td>\n",
       "      <td>1067.23</td>\n",
       "      <td>1</td>\n",
       "      <td>Winter</td>\n",
       "      <td>6.0</td>\n",
       "      <td>coastal</td>\n",
       "      <td>Snowy</td>\n",
       "    </tr>\n",
       "    <tr>\n",
       "      <th>13197</th>\n",
       "      <td>30.0</td>\n",
       "      <td>77</td>\n",
       "      <td>5.5</td>\n",
       "      <td>28.0</td>\n",
       "      <td>overcast</td>\n",
       "      <td>1012.69</td>\n",
       "      <td>3</td>\n",
       "      <td>Autumn</td>\n",
       "      <td>9.0</td>\n",
       "      <td>coastal</td>\n",
       "      <td>Cloudy</td>\n",
       "    </tr>\n",
       "    <tr>\n",
       "      <th>13198</th>\n",
       "      <td>3.0</td>\n",
       "      <td>76</td>\n",
       "      <td>10.0</td>\n",
       "      <td>94.0</td>\n",
       "      <td>overcast</td>\n",
       "      <td>984.27</td>\n",
       "      <td>0</td>\n",
       "      <td>Winter</td>\n",
       "      <td>2.0</td>\n",
       "      <td>inland</td>\n",
       "      <td>Snowy</td>\n",
       "    </tr>\n",
       "    <tr>\n",
       "      <th>13199</th>\n",
       "      <td>-5.0</td>\n",
       "      <td>38</td>\n",
       "      <td>0.0</td>\n",
       "      <td>92.0</td>\n",
       "      <td>overcast</td>\n",
       "      <td>1015.37</td>\n",
       "      <td>5</td>\n",
       "      <td>Autumn</td>\n",
       "      <td>10.0</td>\n",
       "      <td>mountain</td>\n",
       "      <td>Rainy</td>\n",
       "    </tr>\n",
       "  </tbody>\n",
       "</table>\n",
       "<p>13200 rows × 11 columns</p>\n",
       "</div>"
      ],
      "text/plain": [
       "       Temperature  Humidity  Wind Speed  Precipitation (%)    Cloud Cover  \\\n",
       "0             14.0        73         9.5               82.0  partly cloudy   \n",
       "1             39.0        96         8.5               71.0  partly cloudy   \n",
       "2             30.0        64         7.0               16.0          clear   \n",
       "3             38.0        83         1.5               82.0          clear   \n",
       "4             27.0        74        17.0               66.0       overcast   \n",
       "...            ...       ...         ...                ...            ...   \n",
       "13195         10.0        74        14.5               71.0       overcast   \n",
       "13196         -1.0        76         3.5               23.0         cloudy   \n",
       "13197         30.0        77         5.5               28.0       overcast   \n",
       "13198          3.0        76        10.0               94.0       overcast   \n",
       "13199         -5.0        38         0.0               92.0       overcast   \n",
       "\n",
       "       Atmospheric Pressure  UV Index  Season  Visibility (km)  Location  \\\n",
       "0                   1010.82         2  Winter              3.5    inland   \n",
       "1                   1011.43         7  Spring             10.0    inland   \n",
       "2                   1018.72         5  Spring              5.5  mountain   \n",
       "3                   1026.25         7  Spring              1.0   coastal   \n",
       "4                    990.67         1  Winter              2.5  mountain   \n",
       "...                     ...       ...     ...              ...       ...   \n",
       "13195               1003.15         1  Summer              1.0  mountain   \n",
       "13196               1067.23         1  Winter              6.0   coastal   \n",
       "13197               1012.69         3  Autumn              9.0   coastal   \n",
       "13198                984.27         0  Winter              2.0    inland   \n",
       "13199               1015.37         5  Autumn             10.0  mountain   \n",
       "\n",
       "      Weather Type  \n",
       "0            Rainy  \n",
       "1           Cloudy  \n",
       "2            Sunny  \n",
       "3            Sunny  \n",
       "4            Rainy  \n",
       "...            ...  \n",
       "13195        Rainy  \n",
       "13196        Snowy  \n",
       "13197       Cloudy  \n",
       "13198        Snowy  \n",
       "13199        Rainy  \n",
       "\n",
       "[13200 rows x 11 columns]"
      ]
     },
     "execution_count": 180,
     "metadata": {},
     "output_type": "execute_result"
    }
   ],
   "source": [
    "data = pd.read_csv(\"weather_classification_data.csv\")\n",
    "data"
   ]
  },
  {
   "cell_type": "code",
   "execution_count": 181,
   "metadata": {},
   "outputs": [
    {
     "name": "stdout",
     "output_type": "stream",
     "text": [
      "Temperature             0\n",
      "Humidity                0\n",
      "Wind Speed              0\n",
      "Precipitation (%)       0\n",
      "Cloud Cover             0\n",
      "Atmospheric Pressure    0\n",
      "UV Index                0\n",
      "Season                  0\n",
      "Visibility (km)         0\n",
      "Location                0\n",
      "Weather Type            0\n",
      "dtype: int64\n",
      "0\n",
      "<class 'pandas.core.frame.DataFrame'>\n",
      "RangeIndex: 13200 entries, 0 to 13199\n",
      "Data columns (total 11 columns):\n",
      " #   Column                Non-Null Count  Dtype  \n",
      "---  ------                --------------  -----  \n",
      " 0   Temperature           13200 non-null  float64\n",
      " 1   Humidity              13200 non-null  int64  \n",
      " 2   Wind Speed            13200 non-null  float64\n",
      " 3   Precipitation (%)     13200 non-null  float64\n",
      " 4   Cloud Cover           13200 non-null  object \n",
      " 5   Atmospheric Pressure  13200 non-null  float64\n",
      " 6   UV Index              13200 non-null  int64  \n",
      " 7   Season                13200 non-null  object \n",
      " 8   Visibility (km)       13200 non-null  float64\n",
      " 9   Location              13200 non-null  object \n",
      " 10  Weather Type          13200 non-null  object \n",
      "dtypes: float64(5), int64(2), object(4)\n",
      "memory usage: 1.1+ MB\n",
      "None\n",
      "['Rainy' 'Cloudy' 'Sunny' 'Snowy']\n"
     ]
    }
   ],
   "source": [
    "print(data.isna().sum())\n",
    "print(data.duplicated().sum())\n",
    "print(data.info())\n",
    "\n",
    "\n",
    "print(data[\"Weather Type\"].unique())\n",
    "\n",
    "\n"
   ]
  },
  {
   "cell_type": "code",
   "execution_count": 182,
   "metadata": {},
   "outputs": [
    {
     "name": "stdout",
     "output_type": "stream",
     "text": [
      "        Temperature      Humidity    Wind Speed  Precipitation (%)  \\\n",
      "count  13200.000000  13200.000000  13200.000000       13200.000000   \n",
      "mean      19.127576     68.710833      9.832197          53.644394   \n",
      "std       17.386327     20.194248      6.908704          31.946541   \n",
      "min      -25.000000     20.000000      0.000000           0.000000   \n",
      "25%        4.000000     57.000000      5.000000          19.000000   \n",
      "50%       21.000000     70.000000      9.000000          58.000000   \n",
      "75%       31.000000     84.000000     13.500000          82.000000   \n",
      "max      109.000000    109.000000     48.500000         109.000000   \n",
      "\n",
      "       Atmospheric Pressure      UV Index  Visibility (km)  \n",
      "count          13200.000000  13200.000000     13200.000000  \n",
      "mean            1005.827896      4.005758         5.462917  \n",
      "std               37.199589      3.856600         3.371499  \n",
      "min              800.120000      0.000000         0.000000  \n",
      "25%              994.800000      1.000000         3.000000  \n",
      "50%             1007.650000      3.000000         5.000000  \n",
      "75%             1016.772500      7.000000         7.500000  \n",
      "max             1199.210000     14.000000        20.000000  \n"
     ]
    }
   ],
   "source": [
    "print(data.describe()) \n"
   ]
  },
  {
   "cell_type": "code",
   "execution_count": 183,
   "metadata": {},
   "outputs": [
    {
     "data": {
      "text/plain": [
       "-25.0"
      ]
     },
     "execution_count": 183,
     "metadata": {},
     "output_type": "execute_result"
    }
   ],
   "source": [
    "# data.columns\n",
    "new_order  = ['Temperature', 'Humidity', 'Wind Speed', 'Precipitation (%)', 'Atmospheric Pressure', 'UV Index','Visibility (km)','Cloud Cover', 'Season', 'Location', 'Weather Type']\n",
    "data = data[new_order]\n",
    "\n",
    "data[\"Temperature\"].min()\n",
    "\n"
   ]
  },
  {
   "cell_type": "markdown",
   "metadata": {},
   "source": [
    "## EDA"
   ]
  },
  {
   "cell_type": "markdown",
   "metadata": {},
   "source": [
    "The following plot illustrates the frequency distribution and summary of data, focusing exclusively on numerical variables.\n",
    "\n",
    "Histogram: This plot shows how data points are distributed across different values, providing a visual representation of the frequency of data points within specified ranges.\n",
    "Box Plot: This plot highlights the interquartile range (IQR), indicating how data is concentrated within this range, and also displays the median, offering insights into the central tendency of the dataset\n",
    "\n",
    "In our dataset, the integer-type variables are Temperature, Humidity, Wind Speed, and Precipitation. We observed that Wind Speed and Precipitation contain outliers. These outliers represent rare cases, and it is uncertain whether such extreme values for Temperature and Wind Speed will recur. Therefore, we chose not to handle or remove these outliers."
   ]
  },
  {
   "cell_type": "code",
   "execution_count": 184,
   "metadata": {},
   "outputs": [
    {
     "data": {
      "image/png": "[encoded data removed]",
      "text/plain": [
       "<Figure size 800x400 with 2 Axes>"
      ]
     },
     "metadata": {},
     "output_type": "display_data"
    },
    {
     "data": {
      "image/png": "[encoded data removed]",
      "text/plain": [
       "<Figure size 800x400 with 2 Axes>"
      ]
     },
     "metadata": {},
     "output_type": "display_data"
    },
    {
     "data": {
      "image/png": "[encoded data removed]",
      "text/plain": [
       "<Figure size 800x400 with 2 Axes>"
      ]
     },
     "metadata": {},
     "output_type": "display_data"
    },
    {
     "data": {
      "image/png": "[encoded data removed]",
      "text/plain": [
       "<Figure size 800x400 with 2 Axes>"
      ]
     },
     "metadata": {},
     "output_type": "display_data"
    }
   ],
   "source": [
    "def Plot_1(data, col):\n",
    "    plt.figure(figsize=(8, 4))\n",
    "    \n",
    "    plt.subplot(1, 2, 1)\n",
    "    plt.hist(data[col], bins=10, edgecolor='black',color= 'skyblue')\n",
    "    plt.xlabel(col)\n",
    "    plt.ylabel('Frequency')\n",
    "    plt.title(f'{col} Distribution')\n",
    "    \n",
    "    plt.subplot(1, 2, 2)\n",
    "    plt.boxplot(data[col])\n",
    "    plt.ylabel(col)\n",
    "    plt.title(f'{col} BoxPlot')\n",
    "    \n",
    "    plt.tight_layout()\n",
    "    plt.show()\n",
    "\n",
    "for i in range(4):\n",
    "    Plot_1(data, data.columns[i])\n"
   ]
  },
  {
   "cell_type": "markdown",
   "metadata": {},
   "source": [
    "The following plot is a bar plot analysis of categorical variables within the dataset, clearly showing the percentage of data points for each category. The dataset includes three categorical columns: Cloud Cover, Season, and Location. Although Weather Type is also present, it serves as our target variable.\n",
    "\n",
    "This count plot visually represents the frequency of different categories for Cloud Cover, Season, and Location in the dataset. The bars are sorted by percentage, allowing us to easily verify which types of cloud cover, locations, and seasons are most prevalent in the data."
   ]
  },
  {
   "cell_type": "code",
   "execution_count": 185,
   "metadata": {},
   "outputs": [
    {
     "name": "stderr",
     "output_type": "stream",
     "text": [
      "C:\\Users\\sneha\\AppData\\Local\\Temp\\ipykernel_20144\\3250176690.py:4: FutureWarning:\n",
      "\n",
      "\n",
      "\n",
      "Passing `palette` without assigning `hue` is deprecated and will be removed in v0.14.0. Assign the `x` variable to `hue` and set `legend=False` for the same effect.\n",
      "\n",
      "\n"
     ]
    },
    {
     "data": {
      "image/png": "[encoded data removed]",
      "text/plain": [
       "<Figure size 640x480 with 1 Axes>"
      ]
     },
     "metadata": {},
     "output_type": "display_data"
    },
    {
     "name": "stderr",
     "output_type": "stream",
     "text": [
      "C:\\Users\\sneha\\AppData\\Local\\Temp\\ipykernel_20144\\3250176690.py:4: FutureWarning:\n",
      "\n",
      "\n",
      "\n",
      "Passing `palette` without assigning `hue` is deprecated and will be removed in v0.14.0. Assign the `x` variable to `hue` and set `legend=False` for the same effect.\n",
      "\n",
      "\n"
     ]
    },
    {
     "data": {
      "image/png": "[encoded data removed]",
      "text/plain": [
       "<Figure size 640x480 with 1 Axes>"
      ]
     },
     "metadata": {},
     "output_type": "display_data"
    },
    {
     "name": "stderr",
     "output_type": "stream",
     "text": [
      "C:\\Users\\sneha\\AppData\\Local\\Temp\\ipykernel_20144\\3250176690.py:4: FutureWarning:\n",
      "\n",
      "\n",
      "\n",
      "Passing `palette` without assigning `hue` is deprecated and will be removed in v0.14.0. Assign the `x` variable to `hue` and set `legend=False` for the same effect.\n",
      "\n",
      "\n"
     ]
    },
    {
     "data": {
      "image/png": "[encoded data removed]",
      "text/plain": [
       "<Figure size 640x480 with 1 Axes>"
      ]
     },
     "metadata": {},
     "output_type": "display_data"
    }
   ],
   "source": [
    "def Plot_2(data, col):\n",
    "\n",
    "    palette = sns.color_palette(\"Set1\", len(data[col].unique()))\n",
    "    count = sns.countplot(data=data, x=col, order=data[col].value_counts().index,palette= palette)\n",
    "    total = len(data)\n",
    "    \n",
    "    for p in count.patches:\n",
    "        percentage = '{:.1f}%'.format(100 * p.get_height() / total)\n",
    "        count.annotate(percentage, (p.get_x() + p.get_width() / 2., p.get_height()), ha='center', va='bottom')\n",
    "\n",
    "    plt.show()\n",
    "\n",
    "for i in range(-4,-1):\n",
    "    Plot_2(data,data.columns[i])"
   ]
  },
  {
   "cell_type": "markdown",
   "metadata": {},
   "source": [
    "the below plot shows the visulization about my X varaible with my y variable so hear my y = weather type i have just plot the colored compared plot with below with all other variable "
   ]
  },
  {
   "cell_type": "code",
   "execution_count": 186,
   "metadata": {},
   "outputs": [
    {
     "name": "stderr",
     "output_type": "stream",
     "text": [
      "C:\\Users\\sneha\\AppData\\Local\\Temp\\ipykernel_20144\\2282917058.py:11: FutureWarning:\n",
      "\n",
      "\n",
      "\n",
      "Passing `palette` without assigning `hue` is deprecated and will be removed in v0.14.0. Assign the `x` variable to `hue` and set `legend=False` for the same effect.\n",
      "\n",
      "\n"
     ]
    },
    {
     "data": {
      "image/png": "[encoded data removed]",
      "text/plain": [
       "<Figure size 600x400 with 1 Axes>"
      ]
     },
     "metadata": {},
     "output_type": "display_data"
    },
    {
     "name": "stderr",
     "output_type": "stream",
     "text": [
      "C:\\Users\\sneha\\AppData\\Local\\Temp\\ipykernel_20144\\2282917058.py:11: FutureWarning:\n",
      "\n",
      "\n",
      "\n",
      "Passing `palette` without assigning `hue` is deprecated and will be removed in v0.14.0. Assign the `x` variable to `hue` and set `legend=False` for the same effect.\n",
      "\n",
      "\n"
     ]
    },
    {
     "data": {
      "image/png": "[encoded data removed]",
      "text/plain": [
       "<Figure size 600x400 with 1 Axes>"
      ]
     },
     "metadata": {},
     "output_type": "display_data"
    },
    {
     "name": "stderr",
     "output_type": "stream",
     "text": [
      "C:\\Users\\sneha\\AppData\\Local\\Temp\\ipykernel_20144\\2282917058.py:11: FutureWarning:\n",
      "\n",
      "\n",
      "\n",
      "Passing `palette` without assigning `hue` is deprecated and will be removed in v0.14.0. Assign the `x` variable to `hue` and set `legend=False` for the same effect.\n",
      "\n",
      "\n"
     ]
    },
    {
     "data": {
      "image/png": "[encoded data removed]",
      "text/plain": [
       "<Figure size 600x400 with 1 Axes>"
      ]
     },
     "metadata": {},
     "output_type": "display_data"
    },
    {
     "name": "stderr",
     "output_type": "stream",
     "text": [
      "C:\\Users\\sneha\\AppData\\Local\\Temp\\ipykernel_20144\\2282917058.py:11: FutureWarning:\n",
      "\n",
      "\n",
      "\n",
      "Passing `palette` without assigning `hue` is deprecated and will be removed in v0.14.0. Assign the `x` variable to `hue` and set `legend=False` for the same effect.\n",
      "\n",
      "\n"
     ]
    },
    {
     "data": {
      "image/png": "[encoded data removed]",
      "text/plain": [
       "<Figure size 600x400 with 1 Axes>"
      ]
     },
     "metadata": {},
     "output_type": "display_data"
    },
    {
     "name": "stderr",
     "output_type": "stream",
     "text": [
      "C:\\Users\\sneha\\AppData\\Local\\Temp\\ipykernel_20144\\2282917058.py:11: FutureWarning:\n",
      "\n",
      "\n",
      "\n",
      "Passing `palette` without assigning `hue` is deprecated and will be removed in v0.14.0. Assign the `x` variable to `hue` and set `legend=False` for the same effect.\n",
      "\n",
      "\n"
     ]
    },
    {
     "data": {
      "image/png": "[encoded data removed]",
      "text/plain": [
       "<Figure size 600x400 with 1 Axes>"
      ]
     },
     "metadata": {},
     "output_type": "display_data"
    },
    {
     "name": "stderr",
     "output_type": "stream",
     "text": [
      "C:\\Users\\sneha\\AppData\\Local\\Temp\\ipykernel_20144\\2282917058.py:11: FutureWarning:\n",
      "\n",
      "\n",
      "\n",
      "Passing `palette` without assigning `hue` is deprecated and will be removed in v0.14.0. Assign the `x` variable to `hue` and set `legend=False` for the same effect.\n",
      "\n",
      "\n"
     ]
    },
    {
     "data": {
      "image/png": "[encoded data removed]",
      "text/plain": [
       "<Figure size 600x400 with 1 Axes>"
      ]
     },
     "metadata": {},
     "output_type": "display_data"
    },
    {
     "name": "stderr",
     "output_type": "stream",
     "text": [
      "C:\\Users\\sneha\\AppData\\Local\\Temp\\ipykernel_20144\\2282917058.py:11: FutureWarning:\n",
      "\n",
      "\n",
      "\n",
      "Passing `palette` without assigning `hue` is deprecated and will be removed in v0.14.0. Assign the `x` variable to `hue` and set `legend=False` for the same effect.\n",
      "\n",
      "\n"
     ]
    },
    {
     "data": {
      "image/png": "[encoded data removed]",
      "text/plain": [
       "<Figure size 600x400 with 1 Axes>"
      ]
     },
     "metadata": {},
     "output_type": "display_data"
    },
    {
     "data": {
      "image/png": "[encoded data removed]",
      "text/plain": [
       "<Figure size 1000x600 with 1 Axes>"
      ]
     },
     "metadata": {},
     "output_type": "display_data"
    },
    {
     "data": {
      "image/png": "[encoded data removed]",
      "text/plain": [
       "<Figure size 1000x600 with 1 Axes>"
      ]
     },
     "metadata": {},
     "output_type": "display_data"
    },
    {
     "data": {
      "image/png": "[encoded data removed]",
      "text/plain": [
       "<Figure size 1000x600 with 1 Axes>"
      ]
     },
     "metadata": {},
     "output_type": "display_data"
    },
    {
     "data": {
      "image/png": "[encoded data removed]",
      "text/plain": [
       "<Figure size 1000x600 with 1 Axes>"
      ]
     },
     "metadata": {},
     "output_type": "display_data"
    },
    {
     "data": {
      "text/plain": [
       "[None, None, None, None, None, None, None, None, None, None, None]"
      ]
     },
     "execution_count": 186,
     "metadata": {},
     "output_type": "execute_result"
    }
   ],
   "source": [
    "target = data[\"Weather Type\"]\n",
    "\n",
    "def Plot_3(data, col):\n",
    "    if data[col].dtype == 'object':\n",
    "        plt.figure(figsize=(10, 6))\n",
    "        sns.countplot(data=data, x=col, hue=target, palette='hot', order=data[col].value_counts().index)\n",
    "        plt.title(f'Count Plot of {col}')\n",
    "        plt.show()\n",
    "    else:\n",
    "        plt.figure(figsize=(6, 4))\n",
    "        sns.boxplot(data=data, x=target, y=col, palette='hot')\n",
    "        plt.title(f'Box Plot of {col}')\n",
    "        plt.show()\n",
    "\n",
    "[Plot_3(data,col) for col in data.columns]\n"
   ]
  },
  {
   "cell_type": "markdown",
   "metadata": {},
   "source": [
    "Hear we perform one hot encoding for catagorical variable i.e(Cloud cover,Season,location)and for taget varaible we perform label encoding because the above above weather type plot explain me the data of "
   ]
  },
  {
   "cell_type": "markdown",
   "metadata": {},
   "source": [
    "## One hot encoding"
   ]
  },
  {
   "cell_type": "markdown",
   "metadata": {},
   "source": [
    "For the columns ‘Cloud Cover’, ‘Season’, and ‘Location’, I performed one-hot encoding to handle the categorical data. The categories within these columns have different relationships with each other, but they all influence the weather type. The data appears balanced across these categories, as indicated by the above plot. This ensures that the model can effectively learn from all relevant features without bias towards any particular category.\n",
    "\n",
    "Additionally, one-hot encoding helps in converting categorical variables into a format that can be provided to ML algorithms to improve predictions. By including all these encoded features, we ensure that the model captures the nuanced relationships between different weather conditions and the target variable."
   ]
  },
  {
   "cell_type": "code",
   "execution_count": 187,
   "metadata": {},
   "outputs": [
    {
     "data": {
      "text/html": [
       "<div>\n",
       "<style scoped>\n",
       "    .dataframe tbody tr th:only-of-type {\n",
       "        vertical-align: middle;\n",
       "    }\n",
       "\n",
       "    .dataframe tbody tr th {\n",
       "        vertical-align: top;\n",
       "    }\n",
       "\n",
       "    .dataframe thead th {\n",
       "        text-align: right;\n",
       "    }\n",
       "</style>\n",
       "<table border=\"1\" class=\"dataframe\">\n",
       "  <thead>\n",
       "    <tr style=\"text-align: right;\">\n",
       "      <th></th>\n",
       "      <th>Temperature</th>\n",
       "      <th>Humidity</th>\n",
       "      <th>Wind Speed</th>\n",
       "      <th>Precipitation (%)</th>\n",
       "      <th>Atmospheric Pressure</th>\n",
       "      <th>UV Index</th>\n",
       "      <th>Visibility (km)</th>\n",
       "      <th>Weather Type</th>\n",
       "      <th>Cloud Cover_clear</th>\n",
       "      <th>Cloud Cover_cloudy</th>\n",
       "      <th>Cloud Cover_overcast</th>\n",
       "      <th>Cloud Cover_partly cloudy</th>\n",
       "      <th>Season_Autumn</th>\n",
       "      <th>Season_Spring</th>\n",
       "      <th>Season_Summer</th>\n",
       "      <th>Season_Winter</th>\n",
       "      <th>Location_coastal</th>\n",
       "      <th>Location_inland</th>\n",
       "      <th>Location_mountain</th>\n",
       "    </tr>\n",
       "  </thead>\n",
       "  <tbody>\n",
       "    <tr>\n",
       "      <th>0</th>\n",
       "      <td>14.0</td>\n",
       "      <td>73</td>\n",
       "      <td>9.5</td>\n",
       "      <td>82.0</td>\n",
       "      <td>1010.82</td>\n",
       "      <td>2</td>\n",
       "      <td>3.5</td>\n",
       "      <td>1</td>\n",
       "      <td>False</td>\n",
       "      <td>False</td>\n",
       "      <td>False</td>\n",
       "      <td>True</td>\n",
       "      <td>False</td>\n",
       "      <td>False</td>\n",
       "      <td>False</td>\n",
       "      <td>True</td>\n",
       "      <td>False</td>\n",
       "      <td>True</td>\n",
       "      <td>False</td>\n",
       "    </tr>\n",
       "    <tr>\n",
       "      <th>1</th>\n",
       "      <td>39.0</td>\n",
       "      <td>96</td>\n",
       "      <td>8.5</td>\n",
       "      <td>71.0</td>\n",
       "      <td>1011.43</td>\n",
       "      <td>7</td>\n",
       "      <td>10.0</td>\n",
       "      <td>2</td>\n",
       "      <td>False</td>\n",
       "      <td>False</td>\n",
       "      <td>False</td>\n",
       "      <td>True</td>\n",
       "      <td>False</td>\n",
       "      <td>True</td>\n",
       "      <td>False</td>\n",
       "      <td>False</td>\n",
       "      <td>False</td>\n",
       "      <td>True</td>\n",
       "      <td>False</td>\n",
       "    </tr>\n",
       "    <tr>\n",
       "      <th>2</th>\n",
       "      <td>30.0</td>\n",
       "      <td>64</td>\n",
       "      <td>7.0</td>\n",
       "      <td>16.0</td>\n",
       "      <td>1018.72</td>\n",
       "      <td>5</td>\n",
       "      <td>5.5</td>\n",
       "      <td>3</td>\n",
       "      <td>True</td>\n",
       "      <td>False</td>\n",
       "      <td>False</td>\n",
       "      <td>False</td>\n",
       "      <td>False</td>\n",
       "      <td>True</td>\n",
       "      <td>False</td>\n",
       "      <td>False</td>\n",
       "      <td>False</td>\n",
       "      <td>False</td>\n",
       "      <td>True</td>\n",
       "    </tr>\n",
       "    <tr>\n",
       "      <th>3</th>\n",
       "      <td>38.0</td>\n",
       "      <td>83</td>\n",
       "      <td>1.5</td>\n",
       "      <td>82.0</td>\n",
       "      <td>1026.25</td>\n",
       "      <td>7</td>\n",
       "      <td>1.0</td>\n",
       "      <td>3</td>\n",
       "      <td>True</td>\n",
       "      <td>False</td>\n",
       "      <td>False</td>\n",
       "      <td>False</td>\n",
       "      <td>False</td>\n",
       "      <td>True</td>\n",
       "      <td>False</td>\n",
       "      <td>False</td>\n",
       "      <td>True</td>\n",
       "      <td>False</td>\n",
       "      <td>False</td>\n",
       "    </tr>\n",
       "    <tr>\n",
       "      <th>4</th>\n",
       "      <td>27.0</td>\n",
       "      <td>74</td>\n",
       "      <td>17.0</td>\n",
       "      <td>66.0</td>\n",
       "      <td>990.67</td>\n",
       "      <td>1</td>\n",
       "      <td>2.5</td>\n",
       "      <td>1</td>\n",
       "      <td>False</td>\n",
       "      <td>False</td>\n",
       "      <td>True</td>\n",
       "      <td>False</td>\n",
       "      <td>False</td>\n",
       "      <td>False</td>\n",
       "      <td>False</td>\n",
       "      <td>True</td>\n",
       "      <td>False</td>\n",
       "      <td>False</td>\n",
       "      <td>True</td>\n",
       "    </tr>\n",
       "    <tr>\n",
       "      <th>...</th>\n",
       "      <td>...</td>\n",
       "      <td>...</td>\n",
       "      <td>...</td>\n",
       "      <td>...</td>\n",
       "      <td>...</td>\n",
       "      <td>...</td>\n",
       "      <td>...</td>\n",
       "      <td>...</td>\n",
       "      <td>...</td>\n",
       "      <td>...</td>\n",
       "      <td>...</td>\n",
       "      <td>...</td>\n",
       "      <td>...</td>\n",
       "      <td>...</td>\n",
       "      <td>...</td>\n",
       "      <td>...</td>\n",
       "      <td>...</td>\n",
       "      <td>...</td>\n",
       "      <td>...</td>\n",
       "    </tr>\n",
       "    <tr>\n",
       "      <th>13195</th>\n",
       "      <td>10.0</td>\n",
       "      <td>74</td>\n",
       "      <td>14.5</td>\n",
       "      <td>71.0</td>\n",
       "      <td>1003.15</td>\n",
       "      <td>1</td>\n",
       "      <td>1.0</td>\n",
       "      <td>1</td>\n",
       "      <td>False</td>\n",
       "      <td>False</td>\n",
       "      <td>True</td>\n",
       "      <td>False</td>\n",
       "      <td>False</td>\n",
       "      <td>False</td>\n",
       "      <td>True</td>\n",
       "      <td>False</td>\n",
       "      <td>False</td>\n",
       "      <td>False</td>\n",
       "      <td>True</td>\n",
       "    </tr>\n",
       "    <tr>\n",
       "      <th>13196</th>\n",
       "      <td>-1.0</td>\n",
       "      <td>76</td>\n",
       "      <td>3.5</td>\n",
       "      <td>23.0</td>\n",
       "      <td>1067.23</td>\n",
       "      <td>1</td>\n",
       "      <td>6.0</td>\n",
       "      <td>4</td>\n",
       "      <td>False</td>\n",
       "      <td>True</td>\n",
       "      <td>False</td>\n",
       "      <td>False</td>\n",
       "      <td>False</td>\n",
       "      <td>False</td>\n",
       "      <td>False</td>\n",
       "      <td>True</td>\n",
       "      <td>True</td>\n",
       "      <td>False</td>\n",
       "      <td>False</td>\n",
       "    </tr>\n",
       "    <tr>\n",
       "      <th>13197</th>\n",
       "      <td>30.0</td>\n",
       "      <td>77</td>\n",
       "      <td>5.5</td>\n",
       "      <td>28.0</td>\n",
       "      <td>1012.69</td>\n",
       "      <td>3</td>\n",
       "      <td>9.0</td>\n",
       "      <td>2</td>\n",
       "      <td>False</td>\n",
       "      <td>False</td>\n",
       "      <td>True</td>\n",
       "      <td>False</td>\n",
       "      <td>True</td>\n",
       "      <td>False</td>\n",
       "      <td>False</td>\n",
       "      <td>False</td>\n",
       "      <td>True</td>\n",
       "      <td>False</td>\n",
       "      <td>False</td>\n",
       "    </tr>\n",
       "    <tr>\n",
       "      <th>13198</th>\n",
       "      <td>3.0</td>\n",
       "      <td>76</td>\n",
       "      <td>10.0</td>\n",
       "      <td>94.0</td>\n",
       "      <td>984.27</td>\n",
       "      <td>0</td>\n",
       "      <td>2.0</td>\n",
       "      <td>4</td>\n",
       "      <td>False</td>\n",
       "      <td>False</td>\n",
       "      <td>True</td>\n",
       "      <td>False</td>\n",
       "      <td>False</td>\n",
       "      <td>False</td>\n",
       "      <td>False</td>\n",
       "      <td>True</td>\n",
       "      <td>False</td>\n",
       "      <td>True</td>\n",
       "      <td>False</td>\n",
       "    </tr>\n",
       "    <tr>\n",
       "      <th>13199</th>\n",
       "      <td>-5.0</td>\n",
       "      <td>38</td>\n",
       "      <td>0.0</td>\n",
       "      <td>92.0</td>\n",
       "      <td>1015.37</td>\n",
       "      <td>5</td>\n",
       "      <td>10.0</td>\n",
       "      <td>1</td>\n",
       "      <td>False</td>\n",
       "      <td>False</td>\n",
       "      <td>True</td>\n",
       "      <td>False</td>\n",
       "      <td>True</td>\n",
       "      <td>False</td>\n",
       "      <td>False</td>\n",
       "      <td>False</td>\n",
       "      <td>False</td>\n",
       "      <td>False</td>\n",
       "      <td>True</td>\n",
       "    </tr>\n",
       "  </tbody>\n",
       "</table>\n",
       "<p>13200 rows × 19 columns</p>\n",
       "</div>"
      ],
      "text/plain": [
       "       Temperature  Humidity  Wind Speed  Precipitation (%)  \\\n",
       "0             14.0        73         9.5               82.0   \n",
       "1             39.0        96         8.5               71.0   \n",
       "2             30.0        64         7.0               16.0   \n",
       "3             38.0        83         1.5               82.0   \n",
       "4             27.0        74        17.0               66.0   \n",
       "...            ...       ...         ...                ...   \n",
       "13195         10.0        74        14.5               71.0   \n",
       "13196         -1.0        76         3.5               23.0   \n",
       "13197         30.0        77         5.5               28.0   \n",
       "13198          3.0        76        10.0               94.0   \n",
       "13199         -5.0        38         0.0               92.0   \n",
       "\n",
       "       Atmospheric Pressure  UV Index  Visibility (km)  Weather Type  \\\n",
       "0                   1010.82         2              3.5             1   \n",
       "1                   1011.43         7             10.0             2   \n",
       "2                   1018.72         5              5.5             3   \n",
       "3                   1026.25         7              1.0             3   \n",
       "4                    990.67         1              2.5             1   \n",
       "...                     ...       ...              ...           ...   \n",
       "13195               1003.15         1              1.0             1   \n",
       "13196               1067.23         1              6.0             4   \n",
       "13197               1012.69         3              9.0             2   \n",
       "13198                984.27         0              2.0             4   \n",
       "13199               1015.37         5             10.0             1   \n",
       "\n",
       "       Cloud Cover_clear  Cloud Cover_cloudy  Cloud Cover_overcast  \\\n",
       "0                  False               False                 False   \n",
       "1                  False               False                 False   \n",
       "2                   True               False                 False   \n",
       "3                   True               False                 False   \n",
       "4                  False               False                  True   \n",
       "...                  ...                 ...                   ...   \n",
       "13195              False               False                  True   \n",
       "13196              False                True                 False   \n",
       "13197              False               False                  True   \n",
       "13198              False               False                  True   \n",
       "13199              False               False                  True   \n",
       "\n",
       "       Cloud Cover_partly cloudy  Season_Autumn  Season_Spring  Season_Summer  \\\n",
       "0                           True          False          False          False   \n",
       "1                           True          False           True          False   \n",
       "2                          False          False           True          False   \n",
       "3                          False          False           True          False   \n",
       "4                          False          False          False          False   \n",
       "...                          ...            ...            ...            ...   \n",
       "13195                      False          False          False           True   \n",
       "13196                      False          False          False          False   \n",
       "13197                      False           True          False          False   \n",
       "13198                      False          False          False          False   \n",
       "13199                      False           True          False          False   \n",
       "\n",
       "       Season_Winter  Location_coastal  Location_inland  Location_mountain  \n",
       "0               True             False             True              False  \n",
       "1              False             False             True              False  \n",
       "2              False             False            False               True  \n",
       "3              False              True            False              False  \n",
       "4               True             False            False               True  \n",
       "...              ...               ...              ...                ...  \n",
       "13195          False             False            False               True  \n",
       "13196           True              True            False              False  \n",
       "13197          False              True            False              False  \n",
       "13198           True             False             True              False  \n",
       "13199          False             False            False               True  \n",
       "\n",
       "[13200 rows x 19 columns]"
      ]
     },
     "execution_count": 187,
     "metadata": {},
     "output_type": "execute_result"
    }
   ],
   "source": [
    "data_1 = pd.get_dummies(data, columns=['Cloud Cover', 'Season', 'Location']) # one hot encoding \n",
    "\n",
    "data_1[\"Weather Type\"] = pd.factorize(data[\"Weather Type\"])[0] +1 # factorize \n",
    "\n",
    "data_1\n"
   ]
  },
  {
   "cell_type": "markdown",
   "metadata": {},
   "source": [
    "The correlation plot below illustrates the relationships between each column in the dataset. It clearly shows that humidity, wind speed, and precipitation are highly positively correlated. However, I have considered all elements in the dataset for analysis, as each variable has some relationship with the weather type. Therefore, I included all variables in the model operation."
   ]
  },
  {
   "cell_type": "code",
   "execution_count": 188,
   "metadata": {},
   "outputs": [
    {
     "data": {
      "application/vnd.plotly.v1+json": {
       "config": {
        "plotlyServerURL": "https://plot.ly"
       },
       "data": [
        {
         "coloraxis": "coloraxis",
         "hovertemplate": "x: %{x}<br>y: %{y}<br>color: %{z}<extra></extra>",
         "name": "0",
         "texttemplate": "%{z}",
         "type": "heatmap",
         "x": [
          "Temperature",
          "Humidity",
          "Wind Speed",
          "Precipitation (%)",
          "Atmospheric Pressure",
          "UV Index",
          "Visibility (km)",
          "Weather Type",
          "Cloud Cover_clear",
          "Cloud Cover_cloudy",
          "Cloud Cover_overcast",
          "Cloud Cover_partly cloudy",
          "Season_Autumn",
          "Season_Spring",
          "Season_Summer",
          "Season_Winter",
          "Location_coastal",
          "Location_inland",
          "Location_mountain"
         ],
         "xaxis": "x",
         "y": [
          "Temperature",
          "Humidity",
          "Wind Speed",
          "Precipitation (%)",
          "Atmospheric Pressure",
          "UV Index",
          "Visibility (km)",
          "Weather Type",
          "Cloud Cover_clear",
          "Cloud Cover_cloudy",
          "Cloud Cover_overcast",
          "Cloud Cover_partly cloudy",
          "Season_Autumn",
          "Season_Spring",
          "Season_Summer",
          "Season_Winter",
          "Location_coastal",
          "Location_inland",
          "Location_mountain"
         ],
         "yaxis": "y",
         "z": [
          [
           1,
           -0.20796860323982955,
           -0.07002190731914462,
           -0.287206137300833,
           0.20918821192139872,
           0.37477343759248394,
           0.25075063468920145,
           -0.4073957330510774,
           0.38422358279275587,
           -0.06348401204331292,
           -0.3516531540100396,
           0.09409487108919604,
           0.1854445805337028,
           0.1855961723406462,
           0.1907614180971213,
           -0.44727158945667544,
           0.22901404901893768,
           -0.10028061207473682,
           -0.1110726964783422
          ],
          [
           -0.20796860323982955,
           1,
           0.4060790315155347,
           0.6386309686155681,
           -0.12065284945221179,
           -0.3426936308024624,
           -0.4799687239748768,
           -0.08185958710589789,
           -0.36323896375017356,
           -0.1728232258437061,
           0.3630612084303195,
           -0.036002943532047554,
           -0.09483857161040443,
           -0.0995256247244448,
           -0.07587144871706503,
           0.21527980859215,
           -0.10223082877109965,
           0.057215300869148035,
           0.03713020174425976
          ],
          [
           -0.07002190731914462,
           0.4060790315155347,
           1,
           0.44377047340905584,
           -0.07775696877407748,
           -0.06814730857691018,
           -0.3118277669744301,
           -0.17207569697068292,
           -0.24847422371722352,
           -0.06137077966000872,
           0.22042576385447374,
           -0.01611553618605794,
           -0.01954878018845614,
           -0.04888823077097557,
           -0.016584110768253175,
           0.06794332723573335,
           -0.02706163289310006,
           0.026780896593078973,
           -0.0018081407556195146
          ],
          [
           -0.287206137300833,
           0.6386309686155681,
           0.44377047340905584,
           1,
           -0.17744419792857785,
           -0.29160117720270146,
           -0.4574443455393301,
           -0.05541193928779015,
           -0.425975634125585,
           -0.0019640426886612175,
           0.40308803605295873,
           -0.09175594972294265,
           -0.09966548971803084,
           -0.1125164562021915,
           -0.09815699189358834,
           0.24719608412377997,
           -0.11401719037973283,
           0.05933570084082097,
           0.04588764498052544
          ],
          [
           0.20918821192139872,
           -0.12065284945221179,
           -0.07775696877407748,
           -0.17744419792857785,
           1,
           0.1541283290663454,
           0.12018242930928305,
           -0.0947537277554703,
           0.16693233717129202,
           -0.032857844147418665,
           -0.1520829046747768,
           0.042075799971176324,
           0.06579218168245538,
           0.06433573306014408,
           0.049043489635917766,
           -0.14271657361031115,
           0.08288728625161623,
           -0.026307161861016014,
           -0.05018947995802917
          ],
          [
           0.37477343759248394,
           -0.3426936308024624,
           -0.06814730857691018,
           -0.29160117720270146,
           0.1541283290663454,
           1,
           0.3629221808465771,
           0.05852716779267089,
           0.44064419363213814,
           0.15999874981426235,
           -0.3834281971176396,
           0.002055066711711608,
           0.09669264659595937,
           0.10054759293395087,
           0.10610042489711721,
           -0.2415016878540722,
           0.11348993814406727,
           -0.04422455057710534,
           -0.060514177232019975
          ],
          [
           0.25075063468920145,
           -0.4799687239748768,
           -0.3118277669744301,
           -0.4574443455393301,
           0.12018242930928305,
           0.3629221808465771,
           1,
           0.012546512997100117,
           0.24345366643940858,
           0.22113505220334342,
           -0.349575416044259,
           0.0970442908129355,
           0.11843918305559949,
           0.1145230241039902,
           0.10114073277699027,
           -0.26605219758474136,
           0.11772901930021284,
           -0.06333948527719484,
           -0.04530913096687469
          ],
          [
           -0.4073957330510774,
           -0.08185958710589789,
           -0.17207569697068292,
           -0.05541193928779015,
           -0.0947537277554703,
           0.05852716779267089,
           0.012546512997100117,
           1,
           0.19666324186910975,
           0.004096331432182,
           -0.021340333355791725,
           -0.13152472485758301,
           -0.18659695182372787,
           -0.19309073249012798,
           -0.18959676042365986,
           0.4532907636110615,
           -0.24900763584986993,
           0.1038801292638042,
           0.12592561659306226
          ],
          [
           0.38422358279275587,
           -0.36323896375017356,
           -0.24847422371722352,
           -0.425975634125585,
           0.16693233717129202,
           0.44064419363213814,
           0.24345366643940858,
           0.19666324186910975,
           1,
           -0.0788335008811315,
           -0.40698841026327726,
           -0.31947269561360686,
           0.07864508261281532,
           0.06205267394838159,
           0.06628924190463979,
           -0.16472004606438845,
           0.0755904436129083,
           -0.04032038295733816,
           -0.02943983917185352
          ],
          [
           -0.06348401204331292,
           -0.1728232258437061,
           -0.06137077966000872,
           -0.0019640426886612175,
           -0.032857844147418665,
           0.15999874981426235,
           0.22113505220334342,
           0.004096331432182,
           -0.0788335008811315,
           1,
           -0.16591148984724086,
           -0.13023513583711155,
           0.03357307184121477,
           0.03412632606802747,
           -0.0006596215409332365,
           -0.0535355406602461,
           0.04301725933845253,
           -0.02442128823472172,
           -0.015277893605873038
          ],
          [
           -0.3516531540100396,
           0.3630612084303195,
           0.22042576385447374,
           0.40308803605295873,
           -0.1520829046747768,
           -0.3834281971176396,
           -0.349575416044259,
           -0.021340333355791725,
           -0.40698841026327726,
           -0.16591148984724086,
           1,
           -0.6723561722152815,
           -0.10449146971822856,
           -0.09579381355275376,
           -0.09503170508942943,
           0.23509730549620006,
           -0.11375623369533719,
           0.05337466580566301,
           0.05160862316556114
          ],
          [
           0.09409487108919604,
           -0.036002943532047554,
           -0.01611553618605794,
           -0.09175594972294265,
           0.042075799971176324,
           0.002055066711711608,
           0.0970442908129355,
           -0.13152472485758301,
           -0.31947269561360686,
           -0.13023513583711155,
           -0.6723561722152815,
           1,
           0.03633570392587752,
           0.03987346008995744,
           0.048497308590777326,
           -0.09926200346067308,
           0.04496594071048922,
           -0.01578944649429193,
           -0.025709399971321743
          ],
          [
           0.1854445805337028,
           -0.09483857161040443,
           -0.01954878018845614,
           -0.09966548971803084,
           0.06579218168245538,
           0.09669264659595937,
           0.11843918305559949,
           -0.18659695182372787,
           0.07864508261281532,
           0.03357307184121477,
           -0.10449146971822856,
           0.03633570392587752,
           1,
           -0.23927856138237366,
           -0.23318357335084608,
           -0.4155647083407926,
           0.09735146572695126,
           -0.04744288154758095,
           -0.04240055014564668
          ],
          [
           0.1855961723406462,
           -0.0995256247244448,
           -0.04888823077097557,
           -0.1125164562021915,
           0.06433573306014408,
           0.10054759293395087,
           0.1145230241039902,
           -0.19309073249012798,
           0.06205267394838159,
           0.03412632606802747,
           -0.09579381355275376,
           0.03987346008995744,
           -0.23927856138237366,
           1,
           -0.23880615226899557,
           -0.4255849054527405,
           0.07941955370305073,
           -0.03517854404938157,
           -0.03811640569331341
          ],
          [
           0.1907614180971213,
           -0.07587144871706503,
           -0.016584110768253175,
           -0.09815699189358834,
           0.049043489635917766,
           0.10610042489711721,
           0.10114073277699027,
           -0.18959676042365986,
           0.06628924190463979,
           -0.0006596215409332365,
           -0.09503170508942943,
           0.048497308590777326,
           -0.23318357335084608,
           -0.23880615226899557,
           1,
           -0.4147442564194643,
           0.07793296406417874,
           -0.04753387728998461,
           -0.02438739749451283
          ],
          [
           -0.44727158945667544,
           0.21527980859215,
           0.06794332723573335,
           0.24719608412377997,
           -0.14271657361031115,
           -0.2415016878540722,
           -0.26605219758474136,
           0.4532907636110615,
           -0.16472004606438845,
           -0.0535355406602461,
           0.23509730549620006,
           -0.09926200346067308,
           -0.4155647083407926,
           -0.4255849054527405,
           -0.4147442564194643,
           1,
           -0.20273246930891076,
           0.10352691570340342,
           0.08356959638689754
          ],
          [
           0.22901404901893768,
           -0.10223082877109965,
           -0.02706163289310006,
           -0.11401719037973283,
           0.08288728625161623,
           0.11348993814406727,
           0.11772901930021284,
           -0.24900763584986993,
           0.0755904436129083,
           0.04301725933845253,
           -0.11375623369533719,
           0.04496594071048922,
           0.09735146572695126,
           0.07941955370305073,
           0.07793296406417874,
           -0.20273246930891076,
           1,
           -0.4615533803754882,
           -0.46132707207173557
          ],
          [
           -0.10028061207473682,
           0.057215300869148035,
           0.026780896593078973,
           0.05933570084082097,
           -0.026307161861016014,
           -0.04422455057710534,
           -0.06333948527719484,
           0.1038801292638042,
           -0.04032038295733816,
           -0.02442128823472172,
           0.05337466580566301,
           -0.01578944649429193,
           -0.04744288154758095,
           -0.03517854404938157,
           -0.04753387728998461,
           0.10352691570340342,
           -0.4615533803754882,
           1,
           -0.5741458283177323
          ],
          [
           -0.1110726964783422,
           0.03713020174425976,
           -0.0018081407556195146,
           0.04588764498052544,
           -0.05018947995802917,
           -0.060514177232019975,
           -0.04530913096687469,
           0.12592561659306226,
           -0.02943983917185352,
           -0.015277893605873038,
           0.05160862316556114,
           -0.025709399971321743,
           -0.04240055014564668,
           -0.03811640569331341,
           -0.02438739749451283,
           0.08356959638689754,
           -0.46132707207173557,
           -0.5741458283177323,
           1
          ]
         ]
        }
       ],
       "layout": {
        "coloraxis": {
         "colorscale": [
          [
           0,
           "rgb(255,255,204)"
          ],
          [
           0.125,
           "rgb(255,237,160)"
          ],
          [
           0.25,
           "rgb(254,217,118)"
          ],
          [
           0.375,
           "rgb(254,178,76)"
          ],
          [
           0.5,
           "rgb(253,141,60)"
          ],
          [
           0.625,
           "rgb(252,78,42)"
          ],
          [
           0.75,
           "rgb(227,26,28)"
          ],
          [
           0.875,
           "rgb(189,0,38)"
          ],
          [
           1,
           "rgb(128,0,38)"
          ]
         ]
        },
        "height": 900,
        "template": {
         "data": {
          "bar": [
           {
            "error_x": {
             "color": "#2a3f5f"
            },
            "error_y": {
             "color": "#2a3f5f"
            },
            "marker": {
             "line": {
              "color": "#E5ECF6",
              "width": 0.5
             },
             "pattern": {
              "fillmode": "overlay",
              "size": 10,
              "solidity": 0.2
             }
            },
            "type": "bar"
           }
          ],
          "barpolar": [
           {
            "marker": {
             "line": {
              "color": "#E5ECF6",
              "width": 0.5
             },
             "pattern": {
              "fillmode": "overlay",
              "size": 10,
              "solidity": 0.2
             }
            },
            "type": "barpolar"
           }
          ],
          "carpet": [
           {
            "aaxis": {
             "endlinecolor": "#2a3f5f",
             "gridcolor": "white",
             "linecolor": "white",
             "minorgridcolor": "white",
             "startlinecolor": "#2a3f5f"
            },
            "baxis": {
             "endlinecolor": "#2a3f5f",
             "gridcolor": "white",
             "linecolor": "white",
             "minorgridcolor": "white",
             "startlinecolor": "#2a3f5f"
            },
            "type": "carpet"
           }
          ],
          "choropleth": [
           {
            "colorbar": {
             "outlinewidth": 0,
             "ticks": ""
            },
            "type": "choropleth"
           }
          ],
          "contour": [
           {
            "colorbar": {
             "outlinewidth": 0,
             "ticks": ""
            },
            "colorscale": [
             [
              0,
              "#0d0887"
             ],
             [
              0.1111111111111111,
              "#46039f"
             ],
             [
              0.2222222222222222,
              "#7201a8"
             ],
             [
              0.3333333333333333,
              "#9c179e"
             ],
             [
              0.4444444444444444,
              "#bd3786"
             ],
             [
              0.5555555555555556,
              "#d8576b"
             ],
             [
              0.6666666666666666,
              "#ed7953"
             ],
             [
              0.7777777777777778,
              "#fb9f3a"
             ],
             [
              0.8888888888888888,
              "#fdca26"
             ],
             [
              1,
              "#f0f921"
             ]
            ],
            "type": "contour"
           }
          ],
          "contourcarpet": [
           {
            "colorbar": {
             "outlinewidth": 0,
             "ticks": ""
            },
            "type": "contourcarpet"
           }
          ],
          "heatmap": [
           {
            "colorbar": {
             "outlinewidth": 0,
             "ticks": ""
            },
            "colorscale": [
             [
              0,
              "#0d0887"
             ],
             [
              0.1111111111111111,
              "#46039f"
             ],
             [
              0.2222222222222222,
              "#7201a8"
             ],
             [
              0.3333333333333333,
              "#9c179e"
             ],
             [
              0.4444444444444444,
              "#bd3786"
             ],
             [
              0.5555555555555556,
              "#d8576b"
             ],
             [
              0.6666666666666666,
              "#ed7953"
             ],
             [
              0.7777777777777778,
              "#fb9f3a"
             ],
             [
              0.8888888888888888,
              "#fdca26"
             ],
             [
              1,
              "#f0f921"
             ]
            ],
            "type": "heatmap"
           }
          ],
          "heatmapgl": [
           {
            "colorbar": {
             "outlinewidth": 0,
             "ticks": ""
            },
            "colorscale": [
             [
              0,
              "#0d0887"
             ],
             [
              0.1111111111111111,
              "#46039f"
             ],
             [
              0.2222222222222222,
              "#7201a8"
             ],
             [
              0.3333333333333333,
              "#9c179e"
             ],
             [
              0.4444444444444444,
              "#bd3786"
             ],
             [
              0.5555555555555556,
              "#d8576b"
             ],
             [
              0.6666666666666666,
              "#ed7953"
             ],
             [
              0.7777777777777778,
              "#fb9f3a"
             ],
             [
              0.8888888888888888,
              "#fdca26"
             ],
             [
              1,
              "#f0f921"
             ]
            ],
            "type": "heatmapgl"
           }
          ],
          "histogram": [
           {
            "marker": {
             "pattern": {
              "fillmode": "overlay",
              "size": 10,
              "solidity": 0.2
             }
            },
            "type": "histogram"
           }
          ],
          "histogram2d": [
           {
            "colorbar": {
             "outlinewidth": 0,
             "ticks": ""
            },
            "colorscale": [
             [
              0,
              "#0d0887"
             ],
             [
              0.1111111111111111,
              "#46039f"
             ],
             [
              0.2222222222222222,
              "#7201a8"
             ],
             [
              0.3333333333333333,
              "#9c179e"
             ],
             [
              0.4444444444444444,
              "#bd3786"
             ],
             [
              0.5555555555555556,
              "#d8576b"
             ],
             [
              0.6666666666666666,
              "#ed7953"
             ],
             [
              0.7777777777777778,
              "#fb9f3a"
             ],
             [
              0.8888888888888888,
              "#fdca26"
             ],
             [
              1,
              "#f0f921"
             ]
            ],
            "type": "histogram2d"
           }
          ],
          "histogram2dcontour": [
           {
            "colorbar": {
             "outlinewidth": 0,
             "ticks": ""
            },
            "colorscale": [
             [
              0,
              "#0d0887"
             ],
             [
              0.1111111111111111,
              "#46039f"
             ],
             [
              0.2222222222222222,
              "#7201a8"
             ],
             [
              0.3333333333333333,
              "#9c179e"
             ],
             [
              0.4444444444444444,
              "#bd3786"
             ],
             [
              0.5555555555555556,
              "#d8576b"
             ],
             [
              0.6666666666666666,
              "#ed7953"
             ],
             [
              0.7777777777777778,
              "#fb9f3a"
             ],
             [
              0.8888888888888888,
              "#fdca26"
             ],
             [
              1,
              "#f0f921"
             ]
            ],
            "type": "histogram2dcontour"
           }
          ],
          "mesh3d": [
           {
            "colorbar": {
             "outlinewidth": 0,
             "ticks": ""
            },
            "type": "mesh3d"
           }
          ],
          "parcoords": [
           {
            "line": {
             "colorbar": {
              "outlinewidth": 0,
              "ticks": ""
             }
            },
            "type": "parcoords"
           }
          ],
          "pie": [
           {
            "automargin": true,
            "type": "pie"
           }
          ],
          "scatter": [
           {
            "fillpattern": {
             "fillmode": "overlay",
             "size": 10,
             "solidity": 0.2
            },
            "type": "scatter"
           }
          ],
          "scatter3d": [
           {
            "line": {
             "colorbar": {
              "outlinewidth": 0,
              "ticks": ""
             }
            },
            "marker": {
             "colorbar": {
              "outlinewidth": 0,
              "ticks": ""
             }
            },
            "type": "scatter3d"
           }
          ],
          "scattercarpet": [
           {
            "marker": {
             "colorbar": {
              "outlinewidth": 0,
              "ticks": ""
             }
            },
            "type": "scattercarpet"
           }
          ],
          "scattergeo": [
           {
            "marker": {
             "colorbar": {
              "outlinewidth": 0,
              "ticks": ""
             }
            },
            "type": "scattergeo"
           }
          ],
          "scattergl": [
           {
            "marker": {
             "colorbar": {
              "outlinewidth": 0,
              "ticks": ""
             }
            },
            "type": "scattergl"
           }
          ],
          "scattermapbox": [
           {
            "marker": {
             "colorbar": {
              "outlinewidth": 0,
              "ticks": ""
             }
            },
            "type": "scattermapbox"
           }
          ],
          "scatterpolar": [
           {
            "marker": {
             "colorbar": {
              "outlinewidth": 0,
              "ticks": ""
             }
            },
            "type": "scatterpolar"
           }
          ],
          "scatterpolargl": [
           {
            "marker": {
             "colorbar": {
              "outlinewidth": 0,
              "ticks": ""
             }
            },
            "type": "scatterpolargl"
           }
          ],
          "scatterternary": [
           {
            "marker": {
             "colorbar": {
              "outlinewidth": 0,
              "ticks": ""
             }
            },
            "type": "scatterternary"
           }
          ],
          "surface": [
           {
            "colorbar": {
             "outlinewidth": 0,
             "ticks": ""
            },
            "colorscale": [
             [
              0,
              "#0d0887"
             ],
             [
              0.1111111111111111,
              "#46039f"
             ],
             [
              0.2222222222222222,
              "#7201a8"
             ],
             [
              0.3333333333333333,
              "#9c179e"
             ],
             [
              0.4444444444444444,
              "#bd3786"
             ],
             [
              0.5555555555555556,
              "#d8576b"
             ],
             [
              0.6666666666666666,
              "#ed7953"
             ],
             [
              0.7777777777777778,
              "#fb9f3a"
             ],
             [
              0.8888888888888888,
              "#fdca26"
             ],
             [
              1,
              "#f0f921"
             ]
            ],
            "type": "surface"
           }
          ],
          "table": [
           {
            "cells": {
             "fill": {
              "color": "#EBF0F8"
             },
             "line": {
              "color": "white"
             }
            },
            "header": {
             "fill": {
              "color": "#C8D4E3"
             },
             "line": {
              "color": "white"
             }
            },
            "type": "table"
           }
          ]
         },
         "layout": {
          "annotationdefaults": {
           "arrowcolor": "#2a3f5f",
           "arrowhead": 0,
           "arrowwidth": 1
          },
          "autotypenumbers": "strict",
          "coloraxis": {
           "colorbar": {
            "outlinewidth": 0,
            "ticks": ""
           }
          },
          "colorscale": {
           "diverging": [
            [
             0,
             "#8e0152"
            ],
            [
             0.1,
             "#c51b7d"
            ],
            [
             0.2,
             "#de77ae"
            ],
            [
             0.3,
             "#f1b6da"
            ],
            [
             0.4,
             "#fde0ef"
            ],
            [
             0.5,
             "#f7f7f7"
            ],
            [
             0.6,
             "#e6f5d0"
            ],
            [
             0.7,
             "#b8e186"
            ],
            [
             0.8,
             "#7fbc41"
            ],
            [
             0.9,
             "#4d9221"
            ],
            [
             1,
             "#276419"
            ]
           ],
           "sequential": [
            [
             0,
             "#0d0887"
            ],
            [
             0.1111111111111111,
             "#46039f"
            ],
            [
             0.2222222222222222,
             "#7201a8"
            ],
            [
             0.3333333333333333,
             "#9c179e"
            ],
            [
             0.4444444444444444,
             "#bd3786"
            ],
            [
             0.5555555555555556,
             "#d8576b"
            ],
            [
             0.6666666666666666,
             "#ed7953"
            ],
            [
             0.7777777777777778,
             "#fb9f3a"
            ],
            [
             0.8888888888888888,
             "#fdca26"
            ],
            [
             1,
             "#f0f921"
            ]
           ],
           "sequentialminus": [
            [
             0,
             "#0d0887"
            ],
            [
             0.1111111111111111,
             "#46039f"
            ],
            [
             0.2222222222222222,
             "#7201a8"
            ],
            [
             0.3333333333333333,
             "#9c179e"
            ],
            [
             0.4444444444444444,
             "#bd3786"
            ],
            [
             0.5555555555555556,
             "#d8576b"
            ],
            [
             0.6666666666666666,
             "#ed7953"
            ],
            [
             0.7777777777777778,
             "#fb9f3a"
            ],
            [
             0.8888888888888888,
             "#fdca26"
            ],
            [
             1,
             "#f0f921"
            ]
           ]
          },
          "colorway": [
           "#636efa",
           "#EF553B",
           "#00cc96",
           "#ab63fa",
           "#FFA15A",
           "#19d3f3",
           "#FF6692",
           "#B6E880",
           "#FF97FF",
           "#FECB52"
          ],
          "font": {
           "color": "#2a3f5f"
          },
          "geo": {
           "bgcolor": "white",
           "lakecolor": "white",
           "landcolor": "#E5ECF6",
           "showlakes": true,
           "showland": true,
           "subunitcolor": "white"
          },
          "hoverlabel": {
           "align": "left"
          },
          "hovermode": "closest",
          "mapbox": {
           "style": "light"
          },
          "paper_bgcolor": "white",
          "plot_bgcolor": "#E5ECF6",
          "polar": {
           "angularaxis": {
            "gridcolor": "white",
            "linecolor": "white",
            "ticks": ""
           },
           "bgcolor": "#E5ECF6",
           "radialaxis": {
            "gridcolor": "white",
            "linecolor": "white",
            "ticks": ""
           }
          },
          "scene": {
           "xaxis": {
            "backgroundcolor": "#E5ECF6",
            "gridcolor": "white",
            "gridwidth": 2,
            "linecolor": "white",
            "showbackground": true,
            "ticks": "",
            "zerolinecolor": "white"
           },
           "yaxis": {
            "backgroundcolor": "#E5ECF6",
            "gridcolor": "white",
            "gridwidth": 2,
            "linecolor": "white",
            "showbackground": true,
            "ticks": "",
            "zerolinecolor": "white"
           },
           "zaxis": {
            "backgroundcolor": "#E5ECF6",
            "gridcolor": "white",
            "gridwidth": 2,
            "linecolor": "white",
            "showbackground": true,
            "ticks": "",
            "zerolinecolor": "white"
           }
          },
          "shapedefaults": {
           "line": {
            "color": "#2a3f5f"
           }
          },
          "ternary": {
           "aaxis": {
            "gridcolor": "white",
            "linecolor": "white",
            "ticks": ""
           },
           "baxis": {
            "gridcolor": "white",
            "linecolor": "white",
            "ticks": ""
           },
           "bgcolor": "#E5ECF6",
           "caxis": {
            "gridcolor": "white",
            "linecolor": "white",
            "ticks": ""
           }
          },
          "title": {
           "x": 0.05
          },
          "xaxis": {
           "automargin": true,
           "gridcolor": "white",
           "linecolor": "white",
           "ticks": "",
           "title": {
            "standoff": 15
           },
           "zerolinecolor": "white",
           "zerolinewidth": 2
          },
          "yaxis": {
           "automargin": true,
           "gridcolor": "white",
           "linecolor": "white",
           "ticks": "",
           "title": {
            "standoff": 15
           },
           "zerolinecolor": "white",
           "zerolinewidth": 2
          }
         }
        },
        "title": {
         "text": "Correlation Matrix"
        },
        "width": 1500,
        "xaxis": {
         "anchor": "y",
         "domain": [
          0,
          1
         ],
         "tickangle": -45
        },
        "yaxis": {
         "anchor": "x",
         "autorange": "reversed",
         "domain": [
          0,
          1
         ]
        }
       }
      }
     },
     "metadata": {},
     "output_type": "display_data"
    }
   ],
   "source": [
    "correlation= data_1.corr()\n",
    "fig = px.imshow(correlation,\n",
    "                text_auto = True,\n",
    "                aspect = \"auto\",\n",
    "                color_continuous_scale='YlOrRd',\n",
    "                title='Correlation Matrix')\n",
    "\n",
    "fig.update_layout(xaxis = dict(tickangle = -45),width = 1500,height = 900)\n",
    "fig.show()"
   ]
  },
  {
   "cell_type": "markdown",
   "metadata": {},
   "source": [
    "### Train test split operation "
   ]
  },
  {
   "cell_type": "code",
   "execution_count": 189,
   "metadata": {},
   "outputs": [
    {
     "name": "stdout",
     "output_type": "stream",
     "text": [
      "(9240, 18)\n",
      "(3960, 18)\n",
      "(9240,)\n",
      "(3960,)\n"
     ]
    }
   ],
   "source": [
    "X = data_1.drop(\"Weather Type\",axis = 1)\n",
    "y = data_1['Weather Type']\n",
    "\n",
    "X_train,X_test,y_train,y_test = train_test_split(X,y,test_size=0.3,random_state= 42)\n",
    "print(X_train.shape)\n",
    "print(X_test.shape)\n",
    "print(y_train.shape)\n",
    "print(y_test.shape)\n"
   ]
  },
  {
   "cell_type": "markdown",
   "metadata": {},
   "source": [
    "### Scaling the splitted dataset \n"
   ]
  },
  {
   "cell_type": "code",
   "execution_count": 190,
   "metadata": {},
   "outputs": [
    {
     "data": {
      "text/plain": [
       "array([[0.35338346, 0.20224719, 0.09278351, ..., 0.        , 1.        ,\n",
       "        0.        ],\n",
       "       [0.64661654, 0.83146067, 0.29896907, ..., 0.        , 1.        ,\n",
       "        0.        ],\n",
       "       [0.48120301, 0.34831461, 0.04123711, ..., 0.        , 0.        ,\n",
       "        1.        ],\n",
       "       ...,\n",
       "       [0.20300752, 0.50561798, 0.40206186, ..., 0.        , 0.        ,\n",
       "        1.        ],\n",
       "       [0.42105263, 0.24719101, 0.08247423, ..., 1.        , 0.        ,\n",
       "        0.        ],\n",
       "       [0.35338346, 0.03370787, 0.06185567, ..., 1.        , 0.        ,\n",
       "        0.        ]])"
      ]
     },
     "execution_count": 190,
     "metadata": {},
     "output_type": "execute_result"
    }
   ],
   "source": [
    "Scalar = MinMaxScaler()\n",
    "X_train = Scalar.fit_transform(X_train)\n",
    "X_test = Scalar.transform(X_test)\n",
    "X_test"
   ]
  },
  {
   "cell_type": "code",
   "execution_count": 191,
   "metadata": {},
   "outputs": [],
   "source": [
    "def Plot_5(y_test, y_pred):\n",
    "    conf_matrix = confusion_matrix(y_test, y_pred)\n",
    "    \n",
    "    fig = px.imshow(\n",
    "        conf_matrix,\n",
    "        labels=dict(x=\"Predicted Label\", y=\"True Label\", color=\"Count\"),\n",
    "        x=['Rainy', 'Cloudy', 'Sunny', 'Snowy'],\n",
    "        y=['Rainy', 'Cloudy', 'Sunny', 'Snowy'],\n",
    "        text_auto=True,\n",
    "        color_continuous_scale=\"Viridis\"\n",
    "    )\n",
    "    \n",
    "    fig.update_layout(title='Confusion Matrix',width = 800,height = 400)\n",
    "    fig.show()\n"
   ]
  },
  {
   "cell_type": "markdown",
   "metadata": {},
   "source": [
    "### LogisticRegression"
   ]
  },
  {
   "cell_type": "code",
   "execution_count": 192,
   "metadata": {},
   "outputs": [
    {
     "name": "stderr",
     "output_type": "stream",
     "text": [
      "c:\\Users\\sneha\\AppData\\Local\\Programs\\Python\\Python312\\Lib\\site-packages\\sklearn\\linear_model\\_sag.py:350: ConvergenceWarning:\n",
      "\n",
      "The max_iter was reached which means the coef_ did not converge\n",
      "\n",
      "c:\\Users\\sneha\\AppData\\Local\\Programs\\Python\\Python312\\Lib\\site-packages\\sklearn\\linear_model\\_sag.py:350: ConvergenceWarning:\n",
      "\n",
      "The max_iter was reached which means the coef_ did not converge\n",
      "\n",
      "c:\\Users\\sneha\\AppData\\Local\\Programs\\Python\\Python312\\Lib\\site-packages\\sklearn\\linear_model\\_sag.py:350: ConvergenceWarning:\n",
      "\n",
      "The max_iter was reached which means the coef_ did not converge\n",
      "\n",
      "c:\\Users\\sneha\\AppData\\Local\\Programs\\Python\\Python312\\Lib\\site-packages\\sklearn\\linear_model\\_sag.py:350: ConvergenceWarning:\n",
      "\n",
      "The max_iter was reached which means the coef_ did not converge\n",
      "\n",
      "c:\\Users\\sneha\\AppData\\Local\\Programs\\Python\\Python312\\Lib\\site-packages\\sklearn\\linear_model\\_sag.py:350: ConvergenceWarning:\n",
      "\n",
      "The max_iter was reached which means the coef_ did not converge\n",
      "\n",
      "c:\\Users\\sneha\\AppData\\Local\\Programs\\Python\\Python312\\Lib\\site-packages\\sklearn\\linear_model\\_sag.py:350: ConvergenceWarning:\n",
      "\n",
      "The max_iter was reached which means the coef_ did not converge\n",
      "\n",
      "c:\\Users\\sneha\\AppData\\Local\\Programs\\Python\\Python312\\Lib\\site-packages\\sklearn\\linear_model\\_sag.py:350: ConvergenceWarning:\n",
      "\n",
      "The max_iter was reached which means the coef_ did not converge\n",
      "\n",
      "c:\\Users\\sneha\\AppData\\Local\\Programs\\Python\\Python312\\Lib\\site-packages\\sklearn\\linear_model\\_sag.py:350: ConvergenceWarning:\n",
      "\n",
      "The max_iter was reached which means the coef_ did not converge\n",
      "\n",
      "c:\\Users\\sneha\\AppData\\Local\\Programs\\Python\\Python312\\Lib\\site-packages\\sklearn\\linear_model\\_sag.py:350: ConvergenceWarning:\n",
      "\n",
      "The max_iter was reached which means the coef_ did not converge\n",
      "\n",
      "c:\\Users\\sneha\\AppData\\Local\\Programs\\Python\\Python312\\Lib\\site-packages\\sklearn\\linear_model\\_sag.py:350: ConvergenceWarning:\n",
      "\n",
      "The max_iter was reached which means the coef_ did not converge\n",
      "\n",
      "c:\\Users\\sneha\\AppData\\Local\\Programs\\Python\\Python312\\Lib\\site-packages\\sklearn\\linear_model\\_sag.py:350: ConvergenceWarning:\n",
      "\n",
      "The max_iter was reached which means the coef_ did not converge\n",
      "\n"
     ]
    }
   ],
   "source": [
    "\n",
    "Model_LR = LogisticRegression(solver='saga')\n",
    "Model_LR.fit(X_train, y_train)\n",
    "\n",
    "LR_Paramater_grid = {\n",
    "    'C': [0.001, 0.01, 0.1, 1, 10],\n",
    "    'penalty': ['l1', 'l2']\n",
    "}\n",
    "\n",
    "LR_Paramater_Search = GridSearchCV(estimator=LogisticRegression(solver = 'saga'),\n",
    "                                   param_grid= LR_Paramater_grid,\n",
    "                                   cv = 5,scoring=\"accuracy\")\n",
    "LR_Paramater_Search.fit(X_train,y_train)\n",
    "y_pred_LR = LR_Paramater_Search.predict(X_test)\n",
    "accuracy = accuracy_score(y_test, y_pred_LR)\n",
    "Confusion_LR = confusion_matrix(y_test, y_pred_LR)\n"
   ]
  },
  {
   "cell_type": "code",
   "execution_count": 193,
   "metadata": {},
   "outputs": [
    {
     "name": "stdout",
     "output_type": "stream",
     "text": [
      "Logistic Regression - Best Params: {'C': 10, 'penalty': 'l1'}\n",
      "Logistic Regression - Best Estimator: LogisticRegression(C=10, penalty='l1', solver='saga')\n",
      "Logistic Regression - Best Score: 0.8717532467532466\n",
      "[[833  60  13  76]\n",
      " [ 88 800  33  34]\n",
      " [ 35  84 843  28]\n",
      " [ 13  35  17 968]]\n",
      "Accuracy: 0.8696969696969697\n"
     ]
    },
    {
     "data": {
      "application/vnd.plotly.v1+json": {
       "config": {
        "plotlyServerURL": "https://plot.ly"
       },
       "data": [
        {
         "coloraxis": "coloraxis",
         "hovertemplate": "Predicted Label: %{x}<br>True Label: %{y}<br>Count: %{z}<extra></extra>",
         "name": "0",
         "texttemplate": "%{z}",
         "type": "heatmap",
         "x": [
          "Rainy",
          "Cloudy",
          "Sunny",
          "Snowy"
         ],
         "xaxis": "x",
         "y": [
          "Rainy",
          "Cloudy",
          "Sunny",
          "Snowy"
         ],
         "yaxis": "y",
         "z": [
          [
           833,
           60,
           13,
           76
          ],
          [
           88,
           800,
           33,
           34
          ],
          [
           35,
           84,
           843,
           28
          ],
          [
           13,
           35,
           17,
           968
          ]
         ]
        }
       ],
       "layout": {
        "coloraxis": {
         "colorbar": {
          "title": {
           "text": "Count"
          }
         },
         "colorscale": [
          [
           0,
           "#440154"
          ],
          [
           0.1111111111111111,
           "#482878"
          ],
          [
           0.2222222222222222,
           "#3e4989"
          ],
          [
           0.3333333333333333,
           "#31688e"
          ],
          [
           0.4444444444444444,
           "#26828e"
          ],
          [
           0.5555555555555556,
           "#1f9e89"
          ],
          [
           0.6666666666666666,
           "#35b779"
          ],
          [
           0.7777777777777778,
           "#6ece58"
          ],
          [
           0.8888888888888888,
           "#b5de2b"
          ],
          [
           1,
           "#fde725"
          ]
         ]
        },
        "height": 400,
        "margin": {
         "t": 60
        },
        "template": {
         "data": {
          "bar": [
           {
            "error_x": {
             "color": "#2a3f5f"
            },
            "error_y": {
             "color": "#2a3f5f"
            },
            "marker": {
             "line": {
              "color": "#E5ECF6",
              "width": 0.5
             },
             "pattern": {
              "fillmode": "overlay",
              "size": 10,
              "solidity": 0.2
             }
            },
            "type": "bar"
           }
          ],
          "barpolar": [
           {
            "marker": {
             "line": {
              "color": "#E5ECF6",
              "width": 0.5
             },
             "pattern": {
              "fillmode": "overlay",
              "size": 10,
              "solidity": 0.2
             }
            },
            "type": "barpolar"
           }
          ],
          "carpet": [
           {
            "aaxis": {
             "endlinecolor": "#2a3f5f",
             "gridcolor": "white",
             "linecolor": "white",
             "minorgridcolor": "white",
             "startlinecolor": "#2a3f5f"
            },
            "baxis": {
             "endlinecolor": "#2a3f5f",
             "gridcolor": "white",
             "linecolor": "white",
             "minorgridcolor": "white",
             "startlinecolor": "#2a3f5f"
            },
            "type": "carpet"
           }
          ],
          "choropleth": [
           {
            "colorbar": {
             "outlinewidth": 0,
             "ticks": ""
            },
            "type": "choropleth"
           }
          ],
          "contour": [
           {
            "colorbar": {
             "outlinewidth": 0,
             "ticks": ""
            },
            "colorscale": [
             [
              0,
              "#0d0887"
             ],
             [
              0.1111111111111111,
              "#46039f"
             ],
             [
              0.2222222222222222,
              "#7201a8"
             ],
             [
              0.3333333333333333,
              "#9c179e"
             ],
             [
              0.4444444444444444,
              "#bd3786"
             ],
             [
              0.5555555555555556,
              "#d8576b"
             ],
             [
              0.6666666666666666,
              "#ed7953"
             ],
             [
              0.7777777777777778,
              "#fb9f3a"
             ],
             [
              0.8888888888888888,
              "#fdca26"
             ],
             [
              1,
              "#f0f921"
             ]
            ],
            "type": "contour"
           }
          ],
          "contourcarpet": [
           {
            "colorbar": {
             "outlinewidth": 0,
             "ticks": ""
            },
            "type": "contourcarpet"
           }
          ],
          "heatmap": [
           {
            "colorbar": {
             "outlinewidth": 0,
             "ticks": ""
            },
            "colorscale": [
             [
              0,
              "#0d0887"
             ],
             [
              0.1111111111111111,
              "#46039f"
             ],
             [
              0.2222222222222222,
              "#7201a8"
             ],
             [
              0.3333333333333333,
              "#9c179e"
             ],
             [
              0.4444444444444444,
              "#bd3786"
             ],
             [
              0.5555555555555556,
              "#d8576b"
             ],
             [
              0.6666666666666666,
              "#ed7953"
             ],
             [
              0.7777777777777778,
              "#fb9f3a"
             ],
             [
              0.8888888888888888,
              "#fdca26"
             ],
             [
              1,
              "#f0f921"
             ]
            ],
            "type": "heatmap"
           }
          ],
          "heatmapgl": [
           {
            "colorbar": {
             "outlinewidth": 0,
             "ticks": ""
            },
            "colorscale": [
             [
              0,
              "#0d0887"
             ],
             [
              0.1111111111111111,
              "#46039f"
             ],
             [
              0.2222222222222222,
              "#7201a8"
             ],
             [
              0.3333333333333333,
              "#9c179e"
             ],
             [
              0.4444444444444444,
              "#bd3786"
             ],
             [
              0.5555555555555556,
              "#d8576b"
             ],
             [
              0.6666666666666666,
              "#ed7953"
             ],
             [
              0.7777777777777778,
              "#fb9f3a"
             ],
             [
              0.8888888888888888,
              "#fdca26"
             ],
             [
              1,
              "#f0f921"
             ]
            ],
            "type": "heatmapgl"
           }
          ],
          "histogram": [
           {
            "marker": {
             "pattern": {
              "fillmode": "overlay",
              "size": 10,
              "solidity": 0.2
             }
            },
            "type": "histogram"
           }
          ],
          "histogram2d": [
           {
            "colorbar": {
             "outlinewidth": 0,
             "ticks": ""
            },
            "colorscale": [
             [
              0,
              "#0d0887"
             ],
             [
              0.1111111111111111,
              "#46039f"
             ],
             [
              0.2222222222222222,
              "#7201a8"
             ],
             [
              0.3333333333333333,
              "#9c179e"
             ],
             [
              0.4444444444444444,
              "#bd3786"
             ],
             [
              0.5555555555555556,
              "#d8576b"
             ],
             [
              0.6666666666666666,
              "#ed7953"
             ],
             [
              0.7777777777777778,
              "#fb9f3a"
             ],
             [
              0.8888888888888888,
              "#fdca26"
             ],
             [
              1,
              "#f0f921"
             ]
            ],
            "type": "histogram2d"
           }
          ],
          "histogram2dcontour": [
           {
            "colorbar": {
             "outlinewidth": 0,
             "ticks": ""
            },
            "colorscale": [
             [
              0,
              "#0d0887"
             ],
             [
              0.1111111111111111,
              "#46039f"
             ],
             [
              0.2222222222222222,
              "#7201a8"
             ],
             [
              0.3333333333333333,
              "#9c179e"
             ],
             [
              0.4444444444444444,
              "#bd3786"
             ],
             [
              0.5555555555555556,
              "#d8576b"
             ],
             [
              0.6666666666666666,
              "#ed7953"
             ],
             [
              0.7777777777777778,
              "#fb9f3a"
             ],
             [
              0.8888888888888888,
              "#fdca26"
             ],
             [
              1,
              "#f0f921"
             ]
            ],
            "type": "histogram2dcontour"
           }
          ],
          "mesh3d": [
           {
            "colorbar": {
             "outlinewidth": 0,
             "ticks": ""
            },
            "type": "mesh3d"
           }
          ],
          "parcoords": [
           {
            "line": {
             "colorbar": {
              "outlinewidth": 0,
              "ticks": ""
             }
            },
            "type": "parcoords"
           }
          ],
          "pie": [
           {
            "automargin": true,
            "type": "pie"
           }
          ],
          "scatter": [
           {
            "fillpattern": {
             "fillmode": "overlay",
             "size": 10,
             "solidity": 0.2
            },
            "type": "scatter"
           }
          ],
          "scatter3d": [
           {
            "line": {
             "colorbar": {
              "outlinewidth": 0,
              "ticks": ""
             }
            },
            "marker": {
             "colorbar": {
              "outlinewidth": 0,
              "ticks": ""
             }
            },
            "type": "scatter3d"
           }
          ],
          "scattercarpet": [
           {
            "marker": {
             "colorbar": {
              "outlinewidth": 0,
              "ticks": ""
             }
            },
            "type": "scattercarpet"
           }
          ],
          "scattergeo": [
           {
            "marker": {
             "colorbar": {
              "outlinewidth": 0,
              "ticks": ""
             }
            },
            "type": "scattergeo"
           }
          ],
          "scattergl": [
           {
            "marker": {
             "colorbar": {
              "outlinewidth": 0,
              "ticks": ""
             }
            },
            "type": "scattergl"
           }
          ],
          "scattermapbox": [
           {
            "marker": {
             "colorbar": {
              "outlinewidth": 0,
              "ticks": ""
             }
            },
            "type": "scattermapbox"
           }
          ],
          "scatterpolar": [
           {
            "marker": {
             "colorbar": {
              "outlinewidth": 0,
              "ticks": ""
             }
            },
            "type": "scatterpolar"
           }
          ],
          "scatterpolargl": [
           {
            "marker": {
             "colorbar": {
              "outlinewidth": 0,
              "ticks": ""
             }
            },
            "type": "scatterpolargl"
           }
          ],
          "scatterternary": [
           {
            "marker": {
             "colorbar": {
              "outlinewidth": 0,
              "ticks": ""
             }
            },
            "type": "scatterternary"
           }
          ],
          "surface": [
           {
            "colorbar": {
             "outlinewidth": 0,
             "ticks": ""
            },
            "colorscale": [
             [
              0,
              "#0d0887"
             ],
             [
              0.1111111111111111,
              "#46039f"
             ],
             [
              0.2222222222222222,
              "#7201a8"
             ],
             [
              0.3333333333333333,
              "#9c179e"
             ],
             [
              0.4444444444444444,
              "#bd3786"
             ],
             [
              0.5555555555555556,
              "#d8576b"
             ],
             [
              0.6666666666666666,
              "#ed7953"
             ],
             [
              0.7777777777777778,
              "#fb9f3a"
             ],
             [
              0.8888888888888888,
              "#fdca26"
             ],
             [
              1,
              "#f0f921"
             ]
            ],
            "type": "surface"
           }
          ],
          "table": [
           {
            "cells": {
             "fill": {
              "color": "#EBF0F8"
             },
             "line": {
              "color": "white"
             }
            },
            "header": {
             "fill": {
              "color": "#C8D4E3"
             },
             "line": {
              "color": "white"
             }
            },
            "type": "table"
           }
          ]
         },
         "layout": {
          "annotationdefaults": {
           "arrowcolor": "#2a3f5f",
           "arrowhead": 0,
           "arrowwidth": 1
          },
          "autotypenumbers": "strict",
          "coloraxis": {
           "colorbar": {
            "outlinewidth": 0,
            "ticks": ""
           }
          },
          "colorscale": {
           "diverging": [
            [
             0,
             "#8e0152"
            ],
            [
             0.1,
             "#c51b7d"
            ],
            [
             0.2,
             "#de77ae"
            ],
            [
             0.3,
             "#f1b6da"
            ],
            [
             0.4,
             "#fde0ef"
            ],
            [
             0.5,
             "#f7f7f7"
            ],
            [
             0.6,
             "#e6f5d0"
            ],
            [
             0.7,
             "#b8e186"
            ],
            [
             0.8,
             "#7fbc41"
            ],
            [
             0.9,
             "#4d9221"
            ],
            [
             1,
             "#276419"
            ]
           ],
           "sequential": [
            [
             0,
             "#0d0887"
            ],
            [
             0.1111111111111111,
             "#46039f"
            ],
            [
             0.2222222222222222,
             "#7201a8"
            ],
            [
             0.3333333333333333,
             "#9c179e"
            ],
            [
             0.4444444444444444,
             "#bd3786"
            ],
            [
             0.5555555555555556,
             "#d8576b"
            ],
            [
             0.6666666666666666,
             "#ed7953"
            ],
            [
             0.7777777777777778,
             "#fb9f3a"
            ],
            [
             0.8888888888888888,
             "#fdca26"
            ],
            [
             1,
             "#f0f921"
            ]
           ],
           "sequentialminus": [
            [
             0,
             "#0d0887"
            ],
            [
             0.1111111111111111,
             "#46039f"
            ],
            [
             0.2222222222222222,
             "#7201a8"
            ],
            [
             0.3333333333333333,
             "#9c179e"
            ],
            [
             0.4444444444444444,
             "#bd3786"
            ],
            [
             0.5555555555555556,
             "#d8576b"
            ],
            [
             0.6666666666666666,
             "#ed7953"
            ],
            [
             0.7777777777777778,
             "#fb9f3a"
            ],
            [
             0.8888888888888888,
             "#fdca26"
            ],
            [
             1,
             "#f0f921"
            ]
           ]
          },
          "colorway": [
           "#636efa",
           "#EF553B",
           "#00cc96",
           "#ab63fa",
           "#FFA15A",
           "#19d3f3",
           "#FF6692",
           "#B6E880",
           "#FF97FF",
           "#FECB52"
          ],
          "font": {
           "color": "#2a3f5f"
          },
          "geo": {
           "bgcolor": "white",
           "lakecolor": "white",
           "landcolor": "#E5ECF6",
           "showlakes": true,
           "showland": true,
           "subunitcolor": "white"
          },
          "hoverlabel": {
           "align": "left"
          },
          "hovermode": "closest",
          "mapbox": {
           "style": "light"
          },
          "paper_bgcolor": "white",
          "plot_bgcolor": "#E5ECF6",
          "polar": {
           "angularaxis": {
            "gridcolor": "white",
            "linecolor": "white",
            "ticks": ""
           },
           "bgcolor": "#E5ECF6",
           "radialaxis": {
            "gridcolor": "white",
            "linecolor": "white",
            "ticks": ""
           }
          },
          "scene": {
           "xaxis": {
            "backgroundcolor": "#E5ECF6",
            "gridcolor": "white",
            "gridwidth": 2,
            "linecolor": "white",
            "showbackground": true,
            "ticks": "",
            "zerolinecolor": "white"
           },
           "yaxis": {
            "backgroundcolor": "#E5ECF6",
            "gridcolor": "white",
            "gridwidth": 2,
            "linecolor": "white",
            "showbackground": true,
            "ticks": "",
            "zerolinecolor": "white"
           },
           "zaxis": {
            "backgroundcolor": "#E5ECF6",
            "gridcolor": "white",
            "gridwidth": 2,
            "linecolor": "white",
            "showbackground": true,
            "ticks": "",
            "zerolinecolor": "white"
           }
          },
          "shapedefaults": {
           "line": {
            "color": "#2a3f5f"
           }
          },
          "ternary": {
           "aaxis": {
            "gridcolor": "white",
            "linecolor": "white",
            "ticks": ""
           },
           "baxis": {
            "gridcolor": "white",
            "linecolor": "white",
            "ticks": ""
           },
           "bgcolor": "#E5ECF6",
           "caxis": {
            "gridcolor": "white",
            "linecolor": "white",
            "ticks": ""
           }
          },
          "title": {
           "x": 0.05
          },
          "xaxis": {
           "automargin": true,
           "gridcolor": "white",
           "linecolor": "white",
           "ticks": "",
           "title": {
            "standoff": 15
           },
           "zerolinecolor": "white",
           "zerolinewidth": 2
          },
          "yaxis": {
           "automargin": true,
           "gridcolor": "white",
           "linecolor": "white",
           "ticks": "",
           "title": {
            "standoff": 15
           },
           "zerolinecolor": "white",
           "zerolinewidth": 2
          }
         }
        },
        "title": {
         "text": "Confusion Matrix"
        },
        "width": 800,
        "xaxis": {
         "anchor": "y",
         "constrain": "domain",
         "domain": [
          0,
          1
         ],
         "scaleanchor": "y",
         "title": {
          "text": "Predicted Label"
         }
        },
        "yaxis": {
         "anchor": "x",
         "autorange": "reversed",
         "constrain": "domain",
         "domain": [
          0,
          1
         ],
         "title": {
          "text": "True Label"
         }
        }
       }
      }
     },
     "metadata": {},
     "output_type": "display_data"
    }
   ],
   "source": [
    "print(\"Logistic Regression - Best Params:\", LR_Paramater_Search.best_params_)\n",
    "print(\"Logistic Regression - Best Estimator:\",LR_Paramater_Search.best_estimator_)\n",
    "print(\"Logistic Regression - Best Score:\",LR_Paramater_Search.best_score_)\n",
    "print(Confusion_LR)\n",
    "print(\"Accuracy:\", accuracy)\n",
    "Plot_5(y_test, y_pred_LR)"
   ]
  },
  {
   "cell_type": "markdown",
   "metadata": {},
   "source": [
    "### Decision Tree"
   ]
  },
  {
   "cell_type": "code",
   "execution_count": 194,
   "metadata": {},
   "outputs": [
    {
     "name": "stdout",
     "output_type": "stream",
     "text": [
      "Fitting 5 folds for each of 144 candidates, totalling 720 fits\n",
      "[CV] END criterion=gini, max_depth=None, min_samples_leaf=1, min_samples_split=2, splitter=best; total time=   0.0s\n",
      "[CV] END criterion=gini, max_depth=None, min_samples_leaf=1, min_samples_split=2, splitter=best; total time=   0.0s\n",
      "[CV] END criterion=gini, max_depth=None, min_samples_leaf=1, min_samples_split=2, splitter=best; total time=   0.0s\n",
      "[CV] END criterion=gini, max_depth=None, min_samples_leaf=1, min_samples_split=2, splitter=best; total time=   0.0s\n",
      "[CV] END criterion=gini, max_depth=None, min_samples_leaf=1, min_samples_split=2, splitter=best; total time=   0.0s\n",
      "[CV] END criterion=gini, max_depth=None, min_samples_leaf=1, min_samples_split=2, splitter=random; total time=   0.0s\n",
      "[CV] END criterion=gini, max_depth=None, min_samples_leaf=1, min_samples_split=2, splitter=random; total time=   0.0s\n",
      "[CV] END criterion=gini, max_depth=None, min_samples_leaf=1, min_samples_split=2, splitter=random; total time=   0.0s\n",
      "[CV] END criterion=gini, max_depth=None, min_samples_leaf=1, min_samples_split=2, splitter=random; total time=   0.0s\n",
      "[CV] END criterion=gini, max_depth=None, min_samples_leaf=1, min_samples_split=2, splitter=random; total time=   0.0s\n",
      "[CV] END criterion=gini, max_depth=None, min_samples_leaf=1, min_samples_split=5, splitter=best; total time=   0.0s\n",
      "[CV] END criterion=gini, max_depth=None, min_samples_leaf=1, min_samples_split=5, splitter=best; total time=   0.0s\n",
      "[CV] END criterion=gini, max_depth=None, min_samples_leaf=1, min_samples_split=5, splitter=best; total time=   0.0s\n",
      "[CV] END criterion=gini, max_depth=None, min_samples_leaf=1, min_samples_split=5, splitter=best; total time=   0.0s\n",
      "[CV] END criterion=gini, max_depth=None, min_samples_leaf=1, min_samples_split=5, splitter=best; total time=   0.0s\n",
      "[CV] END criterion=gini, max_depth=None, min_samples_leaf=1, min_samples_split=5, splitter=random; total time=   0.0s\n",
      "[CV] END criterion=gini, max_depth=None, min_samples_leaf=1, min_samples_split=5, splitter=random; total time=   0.0s\n",
      "[CV] END criterion=gini, max_depth=None, min_samples_leaf=1, min_samples_split=5, splitter=random; total time=   0.0s\n",
      "[CV] END criterion=gini, max_depth=None, min_samples_leaf=1, min_samples_split=5, splitter=random; total time=   0.0s\n",
      "[CV] END criterion=gini, max_depth=None, min_samples_leaf=1, min_samples_split=5, splitter=random; total time=   0.0s\n",
      "[CV] END criterion=gini, max_depth=None, min_samples_leaf=1, min_samples_split=10, splitter=best; total time=   0.0s\n",
      "[CV] END criterion=gini, max_depth=None, min_samples_leaf=1, min_samples_split=10, splitter=best; total time=   0.0s\n",
      "[CV] END criterion=gini, max_depth=None, min_samples_leaf=1, min_samples_split=10, splitter=best; total time=   0.0s\n",
      "[CV] END criterion=gini, max_depth=None, min_samples_leaf=1, min_samples_split=10, splitter=best; total time=   0.0s\n",
      "[CV] END criterion=gini, max_depth=None, min_samples_leaf=1, min_samples_split=10, splitter=best; total time=   0.0s\n",
      "[CV] END criterion=gini, max_depth=None, min_samples_leaf=1, min_samples_split=10, splitter=random; total time=   0.0s\n",
      "[CV] END criterion=gini, max_depth=None, min_samples_leaf=1, min_samples_split=10, splitter=random; total time=   0.0s\n",
      "[CV] END criterion=gini, max_depth=None, min_samples_leaf=1, min_samples_split=10, splitter=random; total time=   0.0s\n",
      "[CV] END criterion=gini, max_depth=None, min_samples_leaf=1, min_samples_split=10, splitter=random; total time=   0.0s\n",
      "[CV] END criterion=gini, max_depth=None, min_samples_leaf=1, min_samples_split=10, splitter=random; total time=   0.0s\n",
      "[CV] END criterion=gini, max_depth=None, min_samples_leaf=2, min_samples_split=2, splitter=best; total time=   0.0s\n",
      "[CV] END criterion=gini, max_depth=None, min_samples_leaf=2, min_samples_split=2, splitter=best; total time=   0.0s\n",
      "[CV] END criterion=gini, max_depth=None, min_samples_leaf=2, min_samples_split=2, splitter=best; total time=   0.0s\n",
      "[CV] END criterion=gini, max_depth=None, min_samples_leaf=2, min_samples_split=2, splitter=best; total time=   0.0s\n",
      "[CV] END criterion=gini, max_depth=None, min_samples_leaf=2, min_samples_split=2, splitter=best; total time=   0.0s\n",
      "[CV] END criterion=gini, max_depth=None, min_samples_leaf=2, min_samples_split=2, splitter=random; total time=   0.0s\n",
      "[CV] END criterion=gini, max_depth=None, min_samples_leaf=2, min_samples_split=2, splitter=random; total time=   0.0s\n",
      "[CV] END criterion=gini, max_depth=None, min_samples_leaf=2, min_samples_split=2, splitter=random; total time=   0.0s\n",
      "[CV] END criterion=gini, max_depth=None, min_samples_leaf=2, min_samples_split=2, splitter=random; total time=   0.0s\n",
      "[CV] END criterion=gini, max_depth=None, min_samples_leaf=2, min_samples_split=2, splitter=random; total time=   0.0s\n",
      "[CV] END criterion=gini, max_depth=None, min_samples_leaf=2, min_samples_split=5, splitter=best; total time=   0.0s\n",
      "[CV] END criterion=gini, max_depth=None, min_samples_leaf=2, min_samples_split=5, splitter=best; total time=   0.0s\n",
      "[CV] END criterion=gini, max_depth=None, min_samples_leaf=2, min_samples_split=5, splitter=best; total time=   0.0s\n",
      "[CV] END criterion=gini, max_depth=None, min_samples_leaf=2, min_samples_split=5, splitter=best; total time=   0.0s\n",
      "[CV] END criterion=gini, max_depth=None, min_samples_leaf=2, min_samples_split=5, splitter=best; total time=   0.0s\n",
      "[CV] END criterion=gini, max_depth=None, min_samples_leaf=2, min_samples_split=5, splitter=random; total time=   0.0s\n",
      "[CV] END criterion=gini, max_depth=None, min_samples_leaf=2, min_samples_split=5, splitter=random; total time=   0.0s\n",
      "[CV] END criterion=gini, max_depth=None, min_samples_leaf=2, min_samples_split=5, splitter=random; total time=   0.0s\n",
      "[CV] END criterion=gini, max_depth=None, min_samples_leaf=2, min_samples_split=5, splitter=random; total time=   0.0s\n",
      "[CV] END criterion=gini, max_depth=None, min_samples_leaf=2, min_samples_split=5, splitter=random; total time=   0.0s\n",
      "[CV] END criterion=gini, max_depth=None, min_samples_leaf=2, min_samples_split=10, splitter=best; total time=   0.0s\n",
      "[CV] END criterion=gini, max_depth=None, min_samples_leaf=2, min_samples_split=10, splitter=best; total time=   0.0s\n",
      "[CV] END criterion=gini, max_depth=None, min_samples_leaf=2, min_samples_split=10, splitter=best; total time=   0.0s\n",
      "[CV] END criterion=gini, max_depth=None, min_samples_leaf=2, min_samples_split=10, splitter=best; total time=   0.0s\n",
      "[CV] END criterion=gini, max_depth=None, min_samples_leaf=2, min_samples_split=10, splitter=best; total time=   0.0s\n",
      "[CV] END criterion=gini, max_depth=None, min_samples_leaf=2, min_samples_split=10, splitter=random; total time=   0.0s\n",
      "[CV] END criterion=gini, max_depth=None, min_samples_leaf=2, min_samples_split=10, splitter=random; total time=   0.0s\n",
      "[CV] END criterion=gini, max_depth=None, min_samples_leaf=2, min_samples_split=10, splitter=random; total time=   0.0s\n",
      "[CV] END criterion=gini, max_depth=None, min_samples_leaf=2, min_samples_split=10, splitter=random; total time=   0.0s\n",
      "[CV] END criterion=gini, max_depth=None, min_samples_leaf=2, min_samples_split=10, splitter=random; total time=   0.0s\n",
      "[CV] END criterion=gini, max_depth=None, min_samples_leaf=4, min_samples_split=2, splitter=best; total time=   0.0s\n",
      "[CV] END criterion=gini, max_depth=None, min_samples_leaf=4, min_samples_split=2, splitter=best; total time=   0.0s\n",
      "[CV] END criterion=gini, max_depth=None, min_samples_leaf=4, min_samples_split=2, splitter=best; total time=   0.0s\n",
      "[CV] END criterion=gini, max_depth=None, min_samples_leaf=4, min_samples_split=2, splitter=best; total time=   0.0s\n",
      "[CV] END criterion=gini, max_depth=None, min_samples_leaf=4, min_samples_split=2, splitter=best; total time=   0.0s\n",
      "[CV] END criterion=gini, max_depth=None, min_samples_leaf=4, min_samples_split=2, splitter=random; total time=   0.0s\n",
      "[CV] END criterion=gini, max_depth=None, min_samples_leaf=4, min_samples_split=2, splitter=random; total time=   0.0s\n",
      "[CV] END criterion=gini, max_depth=None, min_samples_leaf=4, min_samples_split=2, splitter=random; total time=   0.0s\n",
      "[CV] END criterion=gini, max_depth=None, min_samples_leaf=4, min_samples_split=2, splitter=random; total time=   0.0s\n",
      "[CV] END criterion=gini, max_depth=None, min_samples_leaf=4, min_samples_split=2, splitter=random; total time=   0.0s\n",
      "[CV] END criterion=gini, max_depth=None, min_samples_leaf=4, min_samples_split=5, splitter=best; total time=   0.0s\n",
      "[CV] END criterion=gini, max_depth=None, min_samples_leaf=4, min_samples_split=5, splitter=best; total time=   0.0s\n",
      "[CV] END criterion=gini, max_depth=None, min_samples_leaf=4, min_samples_split=5, splitter=best; total time=   0.0s\n",
      "[CV] END criterion=gini, max_depth=None, min_samples_leaf=4, min_samples_split=5, splitter=best; total time=   0.0s\n",
      "[CV] END criterion=gini, max_depth=None, min_samples_leaf=4, min_samples_split=5, splitter=best; total time=   0.0s\n",
      "[CV] END criterion=gini, max_depth=None, min_samples_leaf=4, min_samples_split=5, splitter=random; total time=   0.0s\n",
      "[CV] END criterion=gini, max_depth=None, min_samples_leaf=4, min_samples_split=5, splitter=random; total time=   0.0s\n",
      "[CV] END criterion=gini, max_depth=None, min_samples_leaf=4, min_samples_split=5, splitter=random; total time=   0.0s\n",
      "[CV] END criterion=gini, max_depth=None, min_samples_leaf=4, min_samples_split=5, splitter=random; total time=   0.0s\n",
      "[CV] END criterion=gini, max_depth=None, min_samples_leaf=4, min_samples_split=5, splitter=random; total time=   0.0s\n",
      "[CV] END criterion=gini, max_depth=None, min_samples_leaf=4, min_samples_split=10, splitter=best; total time=   0.0s\n",
      "[CV] END criterion=gini, max_depth=None, min_samples_leaf=4, min_samples_split=10, splitter=best; total time=   0.0s\n",
      "[CV] END criterion=gini, max_depth=None, min_samples_leaf=4, min_samples_split=10, splitter=best; total time=   0.0s\n",
      "[CV] END criterion=gini, max_depth=None, min_samples_leaf=4, min_samples_split=10, splitter=best; total time=   0.0s\n",
      "[CV] END criterion=gini, max_depth=None, min_samples_leaf=4, min_samples_split=10, splitter=best; total time=   0.0s\n",
      "[CV] END criterion=gini, max_depth=None, min_samples_leaf=4, min_samples_split=10, splitter=random; total time=   0.0s\n",
      "[CV] END criterion=gini, max_depth=None, min_samples_leaf=4, min_samples_split=10, splitter=random; total time=   0.0s\n",
      "[CV] END criterion=gini, max_depth=None, min_samples_leaf=4, min_samples_split=10, splitter=random; total time=   0.0s\n",
      "[CV] END criterion=gini, max_depth=None, min_samples_leaf=4, min_samples_split=10, splitter=random; total time=   0.0s\n",
      "[CV] END criterion=gini, max_depth=None, min_samples_leaf=4, min_samples_split=10, splitter=random; total time=   0.0s\n",
      "[CV] END criterion=gini, max_depth=10, min_samples_leaf=1, min_samples_split=2, splitter=best; total time=   0.0s\n",
      "[CV] END criterion=gini, max_depth=10, min_samples_leaf=1, min_samples_split=2, splitter=best; total time=   0.0s\n",
      "[CV] END criterion=gini, max_depth=10, min_samples_leaf=1, min_samples_split=2, splitter=best; total time=   0.0s\n",
      "[CV] END criterion=gini, max_depth=10, min_samples_leaf=1, min_samples_split=2, splitter=best; total time=   0.0s\n",
      "[CV] END criterion=gini, max_depth=10, min_samples_leaf=1, min_samples_split=2, splitter=best; total time=   0.0s\n",
      "[CV] END criterion=gini, max_depth=10, min_samples_leaf=1, min_samples_split=2, splitter=random; total time=   0.0s\n",
      "[CV] END criterion=gini, max_depth=10, min_samples_leaf=1, min_samples_split=2, splitter=random; total time=   0.0s\n",
      "[CV] END criterion=gini, max_depth=10, min_samples_leaf=1, min_samples_split=2, splitter=random; total time=   0.0s\n",
      "[CV] END criterion=gini, max_depth=10, min_samples_leaf=1, min_samples_split=2, splitter=random; total time=   0.0s\n",
      "[CV] END criterion=gini, max_depth=10, min_samples_leaf=1, min_samples_split=2, splitter=random; total time=   0.0s\n",
      "[CV] END criterion=gini, max_depth=10, min_samples_leaf=1, min_samples_split=5, splitter=best; total time=   0.0s\n",
      "[CV] END criterion=gini, max_depth=10, min_samples_leaf=1, min_samples_split=5, splitter=best; total time=   0.0s\n",
      "[CV] END criterion=gini, max_depth=10, min_samples_leaf=1, min_samples_split=5, splitter=best; total time=   0.0s\n",
      "[CV] END criterion=gini, max_depth=10, min_samples_leaf=1, min_samples_split=5, splitter=best; total time=   0.0s\n",
      "[CV] END criterion=gini, max_depth=10, min_samples_leaf=1, min_samples_split=5, splitter=best; total time=   0.0s\n",
      "[CV] END criterion=gini, max_depth=10, min_samples_leaf=1, min_samples_split=5, splitter=random; total time=   0.0s\n",
      "[CV] END criterion=gini, max_depth=10, min_samples_leaf=1, min_samples_split=5, splitter=random; total time=   0.0s\n",
      "[CV] END criterion=gini, max_depth=10, min_samples_leaf=1, min_samples_split=5, splitter=random; total time=   0.0s\n",
      "[CV] END criterion=gini, max_depth=10, min_samples_leaf=1, min_samples_split=5, splitter=random; total time=   0.0s\n",
      "[CV] END criterion=gini, max_depth=10, min_samples_leaf=1, min_samples_split=5, splitter=random; total time=   0.0s\n",
      "[CV] END criterion=gini, max_depth=10, min_samples_leaf=1, min_samples_split=10, splitter=best; total time=   0.0s\n",
      "[CV] END criterion=gini, max_depth=10, min_samples_leaf=1, min_samples_split=10, splitter=best; total time=   0.0s\n",
      "[CV] END criterion=gini, max_depth=10, min_samples_leaf=1, min_samples_split=10, splitter=best; total time=   0.0s\n",
      "[CV] END criterion=gini, max_depth=10, min_samples_leaf=1, min_samples_split=10, splitter=best; total time=   0.0s\n",
      "[CV] END criterion=gini, max_depth=10, min_samples_leaf=1, min_samples_split=10, splitter=best; total time=   0.0s\n",
      "[CV] END criterion=gini, max_depth=10, min_samples_leaf=1, min_samples_split=10, splitter=random; total time=   0.0s\n",
      "[CV] END criterion=gini, max_depth=10, min_samples_leaf=1, min_samples_split=10, splitter=random; total time=   0.0s\n",
      "[CV] END criterion=gini, max_depth=10, min_samples_leaf=1, min_samples_split=10, splitter=random; total time=   0.0s\n",
      "[CV] END criterion=gini, max_depth=10, min_samples_leaf=1, min_samples_split=10, splitter=random; total time=   0.0s\n",
      "[CV] END criterion=gini, max_depth=10, min_samples_leaf=1, min_samples_split=10, splitter=random; total time=   0.0s\n",
      "[CV] END criterion=gini, max_depth=10, min_samples_leaf=2, min_samples_split=2, splitter=best; total time=   0.0s\n",
      "[CV] END criterion=gini, max_depth=10, min_samples_leaf=2, min_samples_split=2, splitter=best; total time=   0.0s\n",
      "[CV] END criterion=gini, max_depth=10, min_samples_leaf=2, min_samples_split=2, splitter=best; total time=   0.0s\n",
      "[CV] END criterion=gini, max_depth=10, min_samples_leaf=2, min_samples_split=2, splitter=best; total time=   0.0s\n",
      "[CV] END criterion=gini, max_depth=10, min_samples_leaf=2, min_samples_split=2, splitter=best; total time=   0.0s\n",
      "[CV] END criterion=gini, max_depth=10, min_samples_leaf=2, min_samples_split=2, splitter=random; total time=   0.0s\n",
      "[CV] END criterion=gini, max_depth=10, min_samples_leaf=2, min_samples_split=2, splitter=random; total time=   0.0s\n",
      "[CV] END criterion=gini, max_depth=10, min_samples_leaf=2, min_samples_split=2, splitter=random; total time=   0.0s\n",
      "[CV] END criterion=gini, max_depth=10, min_samples_leaf=2, min_samples_split=2, splitter=random; total time=   0.0s\n",
      "[CV] END criterion=gini, max_depth=10, min_samples_leaf=2, min_samples_split=2, splitter=random; total time=   0.0s\n",
      "[CV] END criterion=gini, max_depth=10, min_samples_leaf=2, min_samples_split=5, splitter=best; total time=   0.0s\n",
      "[CV] END criterion=gini, max_depth=10, min_samples_leaf=2, min_samples_split=5, splitter=best; total time=   0.0s\n",
      "[CV] END criterion=gini, max_depth=10, min_samples_leaf=2, min_samples_split=5, splitter=best; total time=   0.0s\n",
      "[CV] END criterion=gini, max_depth=10, min_samples_leaf=2, min_samples_split=5, splitter=best; total time=   0.0s\n",
      "[CV] END criterion=gini, max_depth=10, min_samples_leaf=2, min_samples_split=5, splitter=best; total time=   0.0s\n",
      "[CV] END criterion=gini, max_depth=10, min_samples_leaf=2, min_samples_split=5, splitter=random; total time=   0.0s\n",
      "[CV] END criterion=gini, max_depth=10, min_samples_leaf=2, min_samples_split=5, splitter=random; total time=   0.0s\n",
      "[CV] END criterion=gini, max_depth=10, min_samples_leaf=2, min_samples_split=5, splitter=random; total time=   0.0s\n",
      "[CV] END criterion=gini, max_depth=10, min_samples_leaf=2, min_samples_split=5, splitter=random; total time=   0.0s\n",
      "[CV] END criterion=gini, max_depth=10, min_samples_leaf=2, min_samples_split=5, splitter=random; total time=   0.0s\n",
      "[CV] END criterion=gini, max_depth=10, min_samples_leaf=2, min_samples_split=10, splitter=best; total time=   0.0s\n",
      "[CV] END criterion=gini, max_depth=10, min_samples_leaf=2, min_samples_split=10, splitter=best; total time=   0.0s\n",
      "[CV] END criterion=gini, max_depth=10, min_samples_leaf=2, min_samples_split=10, splitter=best; total time=   0.0s\n",
      "[CV] END criterion=gini, max_depth=10, min_samples_leaf=2, min_samples_split=10, splitter=best; total time=   0.0s\n",
      "[CV] END criterion=gini, max_depth=10, min_samples_leaf=2, min_samples_split=10, splitter=best; total time=   0.0s\n",
      "[CV] END criterion=gini, max_depth=10, min_samples_leaf=2, min_samples_split=10, splitter=random; total time=   0.0s\n",
      "[CV] END criterion=gini, max_depth=10, min_samples_leaf=2, min_samples_split=10, splitter=random; total time=   0.0s\n",
      "[CV] END criterion=gini, max_depth=10, min_samples_leaf=2, min_samples_split=10, splitter=random; total time=   0.0s\n",
      "[CV] END criterion=gini, max_depth=10, min_samples_leaf=2, min_samples_split=10, splitter=random; total time=   0.0s\n",
      "[CV] END criterion=gini, max_depth=10, min_samples_leaf=2, min_samples_split=10, splitter=random; total time=   0.0s\n",
      "[CV] END criterion=gini, max_depth=10, min_samples_leaf=4, min_samples_split=2, splitter=best; total time=   0.0s\n",
      "[CV] END criterion=gini, max_depth=10, min_samples_leaf=4, min_samples_split=2, splitter=best; total time=   0.0s\n",
      "[CV] END criterion=gini, max_depth=10, min_samples_leaf=4, min_samples_split=2, splitter=best; total time=   0.0s\n",
      "[CV] END criterion=gini, max_depth=10, min_samples_leaf=4, min_samples_split=2, splitter=best; total time=   0.0s\n",
      "[CV] END criterion=gini, max_depth=10, min_samples_leaf=4, min_samples_split=2, splitter=best; total time=   0.0s\n",
      "[CV] END criterion=gini, max_depth=10, min_samples_leaf=4, min_samples_split=2, splitter=random; total time=   0.0s\n",
      "[CV] END criterion=gini, max_depth=10, min_samples_leaf=4, min_samples_split=2, splitter=random; total time=   0.0s\n",
      "[CV] END criterion=gini, max_depth=10, min_samples_leaf=4, min_samples_split=2, splitter=random; total time=   0.0s\n",
      "[CV] END criterion=gini, max_depth=10, min_samples_leaf=4, min_samples_split=2, splitter=random; total time=   0.0s\n",
      "[CV] END criterion=gini, max_depth=10, min_samples_leaf=4, min_samples_split=2, splitter=random; total time=   0.0s\n",
      "[CV] END criterion=gini, max_depth=10, min_samples_leaf=4, min_samples_split=5, splitter=best; total time=   0.0s\n",
      "[CV] END criterion=gini, max_depth=10, min_samples_leaf=4, min_samples_split=5, splitter=best; total time=   0.0s\n",
      "[CV] END criterion=gini, max_depth=10, min_samples_leaf=4, min_samples_split=5, splitter=best; total time=   0.0s\n",
      "[CV] END criterion=gini, max_depth=10, min_samples_leaf=4, min_samples_split=5, splitter=best; total time=   0.0s\n",
      "[CV] END criterion=gini, max_depth=10, min_samples_leaf=4, min_samples_split=5, splitter=best; total time=   0.0s\n",
      "[CV] END criterion=gini, max_depth=10, min_samples_leaf=4, min_samples_split=5, splitter=random; total time=   0.0s\n",
      "[CV] END criterion=gini, max_depth=10, min_samples_leaf=4, min_samples_split=5, splitter=random; total time=   0.0s\n",
      "[CV] END criterion=gini, max_depth=10, min_samples_leaf=4, min_samples_split=5, splitter=random; total time=   0.0s\n",
      "[CV] END criterion=gini, max_depth=10, min_samples_leaf=4, min_samples_split=5, splitter=random; total time=   0.0s\n",
      "[CV] END criterion=gini, max_depth=10, min_samples_leaf=4, min_samples_split=5, splitter=random; total time=   0.0s\n",
      "[CV] END criterion=gini, max_depth=10, min_samples_leaf=4, min_samples_split=10, splitter=best; total time=   0.0s\n",
      "[CV] END criterion=gini, max_depth=10, min_samples_leaf=4, min_samples_split=10, splitter=best; total time=   0.0s\n",
      "[CV] END criterion=gini, max_depth=10, min_samples_leaf=4, min_samples_split=10, splitter=best; total time=   0.0s\n",
      "[CV] END criterion=gini, max_depth=10, min_samples_leaf=4, min_samples_split=10, splitter=best; total time=   0.0s\n",
      "[CV] END criterion=gini, max_depth=10, min_samples_leaf=4, min_samples_split=10, splitter=best; total time=   0.0s\n",
      "[CV] END criterion=gini, max_depth=10, min_samples_leaf=4, min_samples_split=10, splitter=random; total time=   0.0s\n",
      "[CV] END criterion=gini, max_depth=10, min_samples_leaf=4, min_samples_split=10, splitter=random; total time=   0.0s\n",
      "[CV] END criterion=gini, max_depth=10, min_samples_leaf=4, min_samples_split=10, splitter=random; total time=   0.0s\n",
      "[CV] END criterion=gini, max_depth=10, min_samples_leaf=4, min_samples_split=10, splitter=random; total time=   0.0s\n",
      "[CV] END criterion=gini, max_depth=10, min_samples_leaf=4, min_samples_split=10, splitter=random; total time=   0.0s\n",
      "[CV] END criterion=gini, max_depth=20, min_samples_leaf=1, min_samples_split=2, splitter=best; total time=   0.0s\n",
      "[CV] END criterion=gini, max_depth=20, min_samples_leaf=1, min_samples_split=2, splitter=best; total time=   0.0s\n",
      "[CV] END criterion=gini, max_depth=20, min_samples_leaf=1, min_samples_split=2, splitter=best; total time=   0.0s\n",
      "[CV] END criterion=gini, max_depth=20, min_samples_leaf=1, min_samples_split=2, splitter=best; total time=   0.0s\n",
      "[CV] END criterion=gini, max_depth=20, min_samples_leaf=1, min_samples_split=2, splitter=best; total time=   0.0s\n",
      "[CV] END criterion=gini, max_depth=20, min_samples_leaf=1, min_samples_split=2, splitter=random; total time=   0.0s\n",
      "[CV] END criterion=gini, max_depth=20, min_samples_leaf=1, min_samples_split=2, splitter=random; total time=   0.0s\n",
      "[CV] END criterion=gini, max_depth=20, min_samples_leaf=1, min_samples_split=2, splitter=random; total time=   0.0s\n",
      "[CV] END criterion=gini, max_depth=20, min_samples_leaf=1, min_samples_split=2, splitter=random; total time=   0.0s\n",
      "[CV] END criterion=gini, max_depth=20, min_samples_leaf=1, min_samples_split=2, splitter=random; total time=   0.0s\n",
      "[CV] END criterion=gini, max_depth=20, min_samples_leaf=1, min_samples_split=5, splitter=best; total time=   0.0s\n",
      "[CV] END criterion=gini, max_depth=20, min_samples_leaf=1, min_samples_split=5, splitter=best; total time=   0.0s\n",
      "[CV] END criterion=gini, max_depth=20, min_samples_leaf=1, min_samples_split=5, splitter=best; total time=   0.0s\n",
      "[CV] END criterion=gini, max_depth=20, min_samples_leaf=1, min_samples_split=5, splitter=best; total time=   0.0s\n",
      "[CV] END criterion=gini, max_depth=20, min_samples_leaf=1, min_samples_split=5, splitter=best; total time=   0.0s\n",
      "[CV] END criterion=gini, max_depth=20, min_samples_leaf=1, min_samples_split=5, splitter=random; total time=   0.0s\n",
      "[CV] END criterion=gini, max_depth=20, min_samples_leaf=1, min_samples_split=5, splitter=random; total time=   0.0s\n",
      "[CV] END criterion=gini, max_depth=20, min_samples_leaf=1, min_samples_split=5, splitter=random; total time=   0.0s\n",
      "[CV] END criterion=gini, max_depth=20, min_samples_leaf=1, min_samples_split=5, splitter=random; total time=   0.0s\n",
      "[CV] END criterion=gini, max_depth=20, min_samples_leaf=1, min_samples_split=5, splitter=random; total time=   0.0s\n",
      "[CV] END criterion=gini, max_depth=20, min_samples_leaf=1, min_samples_split=10, splitter=best; total time=   0.0s\n",
      "[CV] END criterion=gini, max_depth=20, min_samples_leaf=1, min_samples_split=10, splitter=best; total time=   0.0s\n",
      "[CV] END criterion=gini, max_depth=20, min_samples_leaf=1, min_samples_split=10, splitter=best; total time=   0.0s\n",
      "[CV] END criterion=gini, max_depth=20, min_samples_leaf=1, min_samples_split=10, splitter=best; total time=   0.0s\n",
      "[CV] END criterion=gini, max_depth=20, min_samples_leaf=1, min_samples_split=10, splitter=best; total time=   0.0s\n",
      "[CV] END criterion=gini, max_depth=20, min_samples_leaf=1, min_samples_split=10, splitter=random; total time=   0.0s\n",
      "[CV] END criterion=gini, max_depth=20, min_samples_leaf=1, min_samples_split=10, splitter=random; total time=   0.0s\n",
      "[CV] END criterion=gini, max_depth=20, min_samples_leaf=1, min_samples_split=10, splitter=random; total time=   0.0s\n",
      "[CV] END criterion=gini, max_depth=20, min_samples_leaf=1, min_samples_split=10, splitter=random; total time=   0.0s\n",
      "[CV] END criterion=gini, max_depth=20, min_samples_leaf=1, min_samples_split=10, splitter=random; total time=   0.0s\n",
      "[CV] END criterion=gini, max_depth=20, min_samples_leaf=2, min_samples_split=2, splitter=best; total time=   0.0s\n",
      "[CV] END criterion=gini, max_depth=20, min_samples_leaf=2, min_samples_split=2, splitter=best; total time=   0.0s\n",
      "[CV] END criterion=gini, max_depth=20, min_samples_leaf=2, min_samples_split=2, splitter=best; total time=   0.0s\n",
      "[CV] END criterion=gini, max_depth=20, min_samples_leaf=2, min_samples_split=2, splitter=best; total time=   0.0s\n",
      "[CV] END criterion=gini, max_depth=20, min_samples_leaf=2, min_samples_split=2, splitter=best; total time=   0.0s\n",
      "[CV] END criterion=gini, max_depth=20, min_samples_leaf=2, min_samples_split=2, splitter=random; total time=   0.0s\n",
      "[CV] END criterion=gini, max_depth=20, min_samples_leaf=2, min_samples_split=2, splitter=random; total time=   0.0s\n",
      "[CV] END criterion=gini, max_depth=20, min_samples_leaf=2, min_samples_split=2, splitter=random; total time=   0.0s\n",
      "[CV] END criterion=gini, max_depth=20, min_samples_leaf=2, min_samples_split=2, splitter=random; total time=   0.0s\n",
      "[CV] END criterion=gini, max_depth=20, min_samples_leaf=2, min_samples_split=2, splitter=random; total time=   0.0s\n",
      "[CV] END criterion=gini, max_depth=20, min_samples_leaf=2, min_samples_split=5, splitter=best; total time=   0.0s\n",
      "[CV] END criterion=gini, max_depth=20, min_samples_leaf=2, min_samples_split=5, splitter=best; total time=   0.0s\n",
      "[CV] END criterion=gini, max_depth=20, min_samples_leaf=2, min_samples_split=5, splitter=best; total time=   0.0s\n",
      "[CV] END criterion=gini, max_depth=20, min_samples_leaf=2, min_samples_split=5, splitter=best; total time=   0.0s\n",
      "[CV] END criterion=gini, max_depth=20, min_samples_leaf=2, min_samples_split=5, splitter=best; total time=   0.0s\n",
      "[CV] END criterion=gini, max_depth=20, min_samples_leaf=2, min_samples_split=5, splitter=random; total time=   0.0s\n",
      "[CV] END criterion=gini, max_depth=20, min_samples_leaf=2, min_samples_split=5, splitter=random; total time=   0.0s\n",
      "[CV] END criterion=gini, max_depth=20, min_samples_leaf=2, min_samples_split=5, splitter=random; total time=   0.0s\n",
      "[CV] END criterion=gini, max_depth=20, min_samples_leaf=2, min_samples_split=5, splitter=random; total time=   0.0s\n",
      "[CV] END criterion=gini, max_depth=20, min_samples_leaf=2, min_samples_split=5, splitter=random; total time=   0.0s\n",
      "[CV] END criterion=gini, max_depth=20, min_samples_leaf=2, min_samples_split=10, splitter=best; total time=   0.0s\n",
      "[CV] END criterion=gini, max_depth=20, min_samples_leaf=2, min_samples_split=10, splitter=best; total time=   0.0s\n",
      "[CV] END criterion=gini, max_depth=20, min_samples_leaf=2, min_samples_split=10, splitter=best; total time=   0.0s\n",
      "[CV] END criterion=gini, max_depth=20, min_samples_leaf=2, min_samples_split=10, splitter=best; total time=   0.0s\n",
      "[CV] END criterion=gini, max_depth=20, min_samples_leaf=2, min_samples_split=10, splitter=best; total time=   0.0s\n",
      "[CV] END criterion=gini, max_depth=20, min_samples_leaf=2, min_samples_split=10, splitter=random; total time=   0.0s\n",
      "[CV] END criterion=gini, max_depth=20, min_samples_leaf=2, min_samples_split=10, splitter=random; total time=   0.0s\n",
      "[CV] END criterion=gini, max_depth=20, min_samples_leaf=2, min_samples_split=10, splitter=random; total time=   0.0s\n",
      "[CV] END criterion=gini, max_depth=20, min_samples_leaf=2, min_samples_split=10, splitter=random; total time=   0.0s\n",
      "[CV] END criterion=gini, max_depth=20, min_samples_leaf=2, min_samples_split=10, splitter=random; total time=   0.0s\n",
      "[CV] END criterion=gini, max_depth=20, min_samples_leaf=4, min_samples_split=2, splitter=best; total time=   0.0s\n",
      "[CV] END criterion=gini, max_depth=20, min_samples_leaf=4, min_samples_split=2, splitter=best; total time=   0.0s\n",
      "[CV] END criterion=gini, max_depth=20, min_samples_leaf=4, min_samples_split=2, splitter=best; total time=   0.0s\n",
      "[CV] END criterion=gini, max_depth=20, min_samples_leaf=4, min_samples_split=2, splitter=best; total time=   0.0s\n",
      "[CV] END criterion=gini, max_depth=20, min_samples_leaf=4, min_samples_split=2, splitter=best; total time=   0.0s\n",
      "[CV] END criterion=gini, max_depth=20, min_samples_leaf=4, min_samples_split=2, splitter=random; total time=   0.0s\n",
      "[CV] END criterion=gini, max_depth=20, min_samples_leaf=4, min_samples_split=2, splitter=random; total time=   0.0s\n",
      "[CV] END criterion=gini, max_depth=20, min_samples_leaf=4, min_samples_split=2, splitter=random; total time=   0.0s\n",
      "[CV] END criterion=gini, max_depth=20, min_samples_leaf=4, min_samples_split=2, splitter=random; total time=   0.0s\n",
      "[CV] END criterion=gini, max_depth=20, min_samples_leaf=4, min_samples_split=2, splitter=random; total time=   0.0s\n",
      "[CV] END criterion=gini, max_depth=20, min_samples_leaf=4, min_samples_split=5, splitter=best; total time=   0.0s\n",
      "[CV] END criterion=gini, max_depth=20, min_samples_leaf=4, min_samples_split=5, splitter=best; total time=   0.0s\n",
      "[CV] END criterion=gini, max_depth=20, min_samples_leaf=4, min_samples_split=5, splitter=best; total time=   0.0s\n",
      "[CV] END criterion=gini, max_depth=20, min_samples_leaf=4, min_samples_split=5, splitter=best; total time=   0.0s\n",
      "[CV] END criterion=gini, max_depth=20, min_samples_leaf=4, min_samples_split=5, splitter=best; total time=   0.0s\n",
      "[CV] END criterion=gini, max_depth=20, min_samples_leaf=4, min_samples_split=5, splitter=random; total time=   0.0s\n",
      "[CV] END criterion=gini, max_depth=20, min_samples_leaf=4, min_samples_split=5, splitter=random; total time=   0.0s\n",
      "[CV] END criterion=gini, max_depth=20, min_samples_leaf=4, min_samples_split=5, splitter=random; total time=   0.0s\n",
      "[CV] END criterion=gini, max_depth=20, min_samples_leaf=4, min_samples_split=5, splitter=random; total time=   0.0s\n",
      "[CV] END criterion=gini, max_depth=20, min_samples_leaf=4, min_samples_split=5, splitter=random; total time=   0.0s\n",
      "[CV] END criterion=gini, max_depth=20, min_samples_leaf=4, min_samples_split=10, splitter=best; total time=   0.0s\n",
      "[CV] END criterion=gini, max_depth=20, min_samples_leaf=4, min_samples_split=10, splitter=best; total time=   0.0s\n",
      "[CV] END criterion=gini, max_depth=20, min_samples_leaf=4, min_samples_split=10, splitter=best; total time=   0.0s\n",
      "[CV] END criterion=gini, max_depth=20, min_samples_leaf=4, min_samples_split=10, splitter=best; total time=   0.0s\n",
      "[CV] END criterion=gini, max_depth=20, min_samples_leaf=4, min_samples_split=10, splitter=best; total time=   0.0s\n",
      "[CV] END criterion=gini, max_depth=20, min_samples_leaf=4, min_samples_split=10, splitter=random; total time=   0.0s\n",
      "[CV] END criterion=gini, max_depth=20, min_samples_leaf=4, min_samples_split=10, splitter=random; total time=   0.0s\n",
      "[CV] END criterion=gini, max_depth=20, min_samples_leaf=4, min_samples_split=10, splitter=random; total time=   0.0s\n",
      "[CV] END criterion=gini, max_depth=20, min_samples_leaf=4, min_samples_split=10, splitter=random; total time=   0.0s\n",
      "[CV] END criterion=gini, max_depth=20, min_samples_leaf=4, min_samples_split=10, splitter=random; total time=   0.0s\n",
      "[CV] END criterion=gini, max_depth=30, min_samples_leaf=1, min_samples_split=2, splitter=best; total time=   0.0s\n",
      "[CV] END criterion=gini, max_depth=30, min_samples_leaf=1, min_samples_split=2, splitter=best; total time=   0.0s\n",
      "[CV] END criterion=gini, max_depth=30, min_samples_leaf=1, min_samples_split=2, splitter=best; total time=   0.0s\n",
      "[CV] END criterion=gini, max_depth=30, min_samples_leaf=1, min_samples_split=2, splitter=best; total time=   0.0s\n",
      "[CV] END criterion=gini, max_depth=30, min_samples_leaf=1, min_samples_split=2, splitter=best; total time=   0.0s\n",
      "[CV] END criterion=gini, max_depth=30, min_samples_leaf=1, min_samples_split=2, splitter=random; total time=   0.0s\n",
      "[CV] END criterion=gini, max_depth=30, min_samples_leaf=1, min_samples_split=2, splitter=random; total time=   0.0s\n",
      "[CV] END criterion=gini, max_depth=30, min_samples_leaf=1, min_samples_split=2, splitter=random; total time=   0.0s\n",
      "[CV] END criterion=gini, max_depth=30, min_samples_leaf=1, min_samples_split=2, splitter=random; total time=   0.0s\n",
      "[CV] END criterion=gini, max_depth=30, min_samples_leaf=1, min_samples_split=2, splitter=random; total time=   0.0s\n",
      "[CV] END criterion=gini, max_depth=30, min_samples_leaf=1, min_samples_split=5, splitter=best; total time=   0.0s\n",
      "[CV] END criterion=gini, max_depth=30, min_samples_leaf=1, min_samples_split=5, splitter=best; total time=   0.0s\n",
      "[CV] END criterion=gini, max_depth=30, min_samples_leaf=1, min_samples_split=5, splitter=best; total time=   0.0s\n",
      "[CV] END criterion=gini, max_depth=30, min_samples_leaf=1, min_samples_split=5, splitter=best; total time=   0.0s\n",
      "[CV] END criterion=gini, max_depth=30, min_samples_leaf=1, min_samples_split=5, splitter=best; total time=   0.0s\n",
      "[CV] END criterion=gini, max_depth=30, min_samples_leaf=1, min_samples_split=5, splitter=random; total time=   0.0s\n",
      "[CV] END criterion=gini, max_depth=30, min_samples_leaf=1, min_samples_split=5, splitter=random; total time=   0.0s\n",
      "[CV] END criterion=gini, max_depth=30, min_samples_leaf=1, min_samples_split=5, splitter=random; total time=   0.0s\n",
      "[CV] END criterion=gini, max_depth=30, min_samples_leaf=1, min_samples_split=5, splitter=random; total time=   0.0s\n",
      "[CV] END criterion=gini, max_depth=30, min_samples_leaf=1, min_samples_split=5, splitter=random; total time=   0.0s\n",
      "[CV] END criterion=gini, max_depth=30, min_samples_leaf=1, min_samples_split=10, splitter=best; total time=   0.0s\n",
      "[CV] END criterion=gini, max_depth=30, min_samples_leaf=1, min_samples_split=10, splitter=best; total time=   0.0s\n",
      "[CV] END criterion=gini, max_depth=30, min_samples_leaf=1, min_samples_split=10, splitter=best; total time=   0.0s\n",
      "[CV] END criterion=gini, max_depth=30, min_samples_leaf=1, min_samples_split=10, splitter=best; total time=   0.0s\n",
      "[CV] END criterion=gini, max_depth=30, min_samples_leaf=1, min_samples_split=10, splitter=best; total time=   0.0s\n",
      "[CV] END criterion=gini, max_depth=30, min_samples_leaf=1, min_samples_split=10, splitter=random; total time=   0.0s\n",
      "[CV] END criterion=gini, max_depth=30, min_samples_leaf=1, min_samples_split=10, splitter=random; total time=   0.0s\n",
      "[CV] END criterion=gini, max_depth=30, min_samples_leaf=1, min_samples_split=10, splitter=random; total time=   0.0s\n",
      "[CV] END criterion=gini, max_depth=30, min_samples_leaf=1, min_samples_split=10, splitter=random; total time=   0.0s\n",
      "[CV] END criterion=gini, max_depth=30, min_samples_leaf=1, min_samples_split=10, splitter=random; total time=   0.0s\n",
      "[CV] END criterion=gini, max_depth=30, min_samples_leaf=2, min_samples_split=2, splitter=best; total time=   0.0s\n",
      "[CV] END criterion=gini, max_depth=30, min_samples_leaf=2, min_samples_split=2, splitter=best; total time=   0.0s\n",
      "[CV] END criterion=gini, max_depth=30, min_samples_leaf=2, min_samples_split=2, splitter=best; total time=   0.0s\n",
      "[CV] END criterion=gini, max_depth=30, min_samples_leaf=2, min_samples_split=2, splitter=best; total time=   0.0s\n",
      "[CV] END criterion=gini, max_depth=30, min_samples_leaf=2, min_samples_split=2, splitter=best; total time=   0.0s\n",
      "[CV] END criterion=gini, max_depth=30, min_samples_leaf=2, min_samples_split=2, splitter=random; total time=   0.0s\n",
      "[CV] END criterion=gini, max_depth=30, min_samples_leaf=2, min_samples_split=2, splitter=random; total time=   0.0s\n",
      "[CV] END criterion=gini, max_depth=30, min_samples_leaf=2, min_samples_split=2, splitter=random; total time=   0.0s\n",
      "[CV] END criterion=gini, max_depth=30, min_samples_leaf=2, min_samples_split=2, splitter=random; total time=   0.0s\n",
      "[CV] END criterion=gini, max_depth=30, min_samples_leaf=2, min_samples_split=2, splitter=random; total time=   0.0s\n",
      "[CV] END criterion=gini, max_depth=30, min_samples_leaf=2, min_samples_split=5, splitter=best; total time=   0.0s\n",
      "[CV] END criterion=gini, max_depth=30, min_samples_leaf=2, min_samples_split=5, splitter=best; total time=   0.0s\n",
      "[CV] END criterion=gini, max_depth=30, min_samples_leaf=2, min_samples_split=5, splitter=best; total time=   0.0s\n",
      "[CV] END criterion=gini, max_depth=30, min_samples_leaf=2, min_samples_split=5, splitter=best; total time=   0.0s\n",
      "[CV] END criterion=gini, max_depth=30, min_samples_leaf=2, min_samples_split=5, splitter=best; total time=   0.0s\n",
      "[CV] END criterion=gini, max_depth=30, min_samples_leaf=2, min_samples_split=5, splitter=random; total time=   0.0s\n",
      "[CV] END criterion=gini, max_depth=30, min_samples_leaf=2, min_samples_split=5, splitter=random; total time=   0.0s\n",
      "[CV] END criterion=gini, max_depth=30, min_samples_leaf=2, min_samples_split=5, splitter=random; total time=   0.0s\n",
      "[CV] END criterion=gini, max_depth=30, min_samples_leaf=2, min_samples_split=5, splitter=random; total time=   0.0s\n",
      "[CV] END criterion=gini, max_depth=30, min_samples_leaf=2, min_samples_split=5, splitter=random; total time=   0.0s\n",
      "[CV] END criterion=gini, max_depth=30, min_samples_leaf=2, min_samples_split=10, splitter=best; total time=   0.0s\n",
      "[CV] END criterion=gini, max_depth=30, min_samples_leaf=2, min_samples_split=10, splitter=best; total time=   0.0s\n",
      "[CV] END criterion=gini, max_depth=30, min_samples_leaf=2, min_samples_split=10, splitter=best; total time=   0.0s\n",
      "[CV] END criterion=gini, max_depth=30, min_samples_leaf=2, min_samples_split=10, splitter=best; total time=   0.0s\n",
      "[CV] END criterion=gini, max_depth=30, min_samples_leaf=2, min_samples_split=10, splitter=best; total time=   0.0s\n",
      "[CV] END criterion=gini, max_depth=30, min_samples_leaf=2, min_samples_split=10, splitter=random; total time=   0.0s\n",
      "[CV] END criterion=gini, max_depth=30, min_samples_leaf=2, min_samples_split=10, splitter=random; total time=   0.0s\n",
      "[CV] END criterion=gini, max_depth=30, min_samples_leaf=2, min_samples_split=10, splitter=random; total time=   0.0s\n",
      "[CV] END criterion=gini, max_depth=30, min_samples_leaf=2, min_samples_split=10, splitter=random; total time=   0.0s\n",
      "[CV] END criterion=gini, max_depth=30, min_samples_leaf=2, min_samples_split=10, splitter=random; total time=   0.0s\n",
      "[CV] END criterion=gini, max_depth=30, min_samples_leaf=4, min_samples_split=2, splitter=best; total time=   0.0s\n",
      "[CV] END criterion=gini, max_depth=30, min_samples_leaf=4, min_samples_split=2, splitter=best; total time=   0.0s\n",
      "[CV] END criterion=gini, max_depth=30, min_samples_leaf=4, min_samples_split=2, splitter=best; total time=   0.0s\n",
      "[CV] END criterion=gini, max_depth=30, min_samples_leaf=4, min_samples_split=2, splitter=best; total time=   0.0s\n",
      "[CV] END criterion=gini, max_depth=30, min_samples_leaf=4, min_samples_split=2, splitter=best; total time=   0.0s\n",
      "[CV] END criterion=gini, max_depth=30, min_samples_leaf=4, min_samples_split=2, splitter=random; total time=   0.0s\n",
      "[CV] END criterion=gini, max_depth=30, min_samples_leaf=4, min_samples_split=2, splitter=random; total time=   0.0s\n",
      "[CV] END criterion=gini, max_depth=30, min_samples_leaf=4, min_samples_split=2, splitter=random; total time=   0.0s\n",
      "[CV] END criterion=gini, max_depth=30, min_samples_leaf=4, min_samples_split=2, splitter=random; total time=   0.0s\n",
      "[CV] END criterion=gini, max_depth=30, min_samples_leaf=4, min_samples_split=2, splitter=random; total time=   0.0s\n",
      "[CV] END criterion=gini, max_depth=30, min_samples_leaf=4, min_samples_split=5, splitter=best; total time=   0.0s\n",
      "[CV] END criterion=gini, max_depth=30, min_samples_leaf=4, min_samples_split=5, splitter=best; total time=   0.0s\n",
      "[CV] END criterion=gini, max_depth=30, min_samples_leaf=4, min_samples_split=5, splitter=best; total time=   0.0s\n",
      "[CV] END criterion=gini, max_depth=30, min_samples_leaf=4, min_samples_split=5, splitter=best; total time=   0.0s\n",
      "[CV] END criterion=gini, max_depth=30, min_samples_leaf=4, min_samples_split=5, splitter=best; total time=   0.0s\n",
      "[CV] END criterion=gini, max_depth=30, min_samples_leaf=4, min_samples_split=5, splitter=random; total time=   0.0s\n",
      "[CV] END criterion=gini, max_depth=30, min_samples_leaf=4, min_samples_split=5, splitter=random; total time=   0.0s\n",
      "[CV] END criterion=gini, max_depth=30, min_samples_leaf=4, min_samples_split=5, splitter=random; total time=   0.0s\n",
      "[CV] END criterion=gini, max_depth=30, min_samples_leaf=4, min_samples_split=5, splitter=random; total time=   0.0s\n",
      "[CV] END criterion=gini, max_depth=30, min_samples_leaf=4, min_samples_split=5, splitter=random; total time=   0.0s\n",
      "[CV] END criterion=gini, max_depth=30, min_samples_leaf=4, min_samples_split=10, splitter=best; total time=   0.0s\n",
      "[CV] END criterion=gini, max_depth=30, min_samples_leaf=4, min_samples_split=10, splitter=best; total time=   0.0s\n",
      "[CV] END criterion=gini, max_depth=30, min_samples_leaf=4, min_samples_split=10, splitter=best; total time=   0.0s\n",
      "[CV] END criterion=gini, max_depth=30, min_samples_leaf=4, min_samples_split=10, splitter=best; total time=   0.0s\n",
      "[CV] END criterion=gini, max_depth=30, min_samples_leaf=4, min_samples_split=10, splitter=best; total time=   0.0s\n",
      "[CV] END criterion=gini, max_depth=30, min_samples_leaf=4, min_samples_split=10, splitter=random; total time=   0.0s\n",
      "[CV] END criterion=gini, max_depth=30, min_samples_leaf=4, min_samples_split=10, splitter=random; total time=   0.0s\n",
      "[CV] END criterion=gini, max_depth=30, min_samples_leaf=4, min_samples_split=10, splitter=random; total time=   0.0s\n",
      "[CV] END criterion=gini, max_depth=30, min_samples_leaf=4, min_samples_split=10, splitter=random; total time=   0.0s\n",
      "[CV] END criterion=gini, max_depth=30, min_samples_leaf=4, min_samples_split=10, splitter=random; total time=   0.0s\n",
      "[CV] END criterion=entropy, max_depth=None, min_samples_leaf=1, min_samples_split=2, splitter=best; total time=   0.0s\n",
      "[CV] END criterion=entropy, max_depth=None, min_samples_leaf=1, min_samples_split=2, splitter=best; total time=   0.0s\n",
      "[CV] END criterion=entropy, max_depth=None, min_samples_leaf=1, min_samples_split=2, splitter=best; total time=   0.0s\n",
      "[CV] END criterion=entropy, max_depth=None, min_samples_leaf=1, min_samples_split=2, splitter=best; total time=   0.0s\n",
      "[CV] END criterion=entropy, max_depth=None, min_samples_leaf=1, min_samples_split=2, splitter=best; total time=   0.0s\n",
      "[CV] END criterion=entropy, max_depth=None, min_samples_leaf=1, min_samples_split=2, splitter=random; total time=   0.0s\n",
      "[CV] END criterion=entropy, max_depth=None, min_samples_leaf=1, min_samples_split=2, splitter=random; total time=   0.0s\n",
      "[CV] END criterion=entropy, max_depth=None, min_samples_leaf=1, min_samples_split=2, splitter=random; total time=   0.0s\n",
      "[CV] END criterion=entropy, max_depth=None, min_samples_leaf=1, min_samples_split=2, splitter=random; total time=   0.0s\n",
      "[CV] END criterion=entropy, max_depth=None, min_samples_leaf=1, min_samples_split=2, splitter=random; total time=   0.0s\n",
      "[CV] END criterion=entropy, max_depth=None, min_samples_leaf=1, min_samples_split=5, splitter=best; total time=   0.0s\n",
      "[CV] END criterion=entropy, max_depth=None, min_samples_leaf=1, min_samples_split=5, splitter=best; total time=   0.0s\n",
      "[CV] END criterion=entropy, max_depth=None, min_samples_leaf=1, min_samples_split=5, splitter=best; total time=   0.0s\n",
      "[CV] END criterion=entropy, max_depth=None, min_samples_leaf=1, min_samples_split=5, splitter=best; total time=   0.0s\n",
      "[CV] END criterion=entropy, max_depth=None, min_samples_leaf=1, min_samples_split=5, splitter=best; total time=   0.0s\n",
      "[CV] END criterion=entropy, max_depth=None, min_samples_leaf=1, min_samples_split=5, splitter=random; total time=   0.0s\n",
      "[CV] END criterion=entropy, max_depth=None, min_samples_leaf=1, min_samples_split=5, splitter=random; total time=   0.0s\n",
      "[CV] END criterion=entropy, max_depth=None, min_samples_leaf=1, min_samples_split=5, splitter=random; total time=   0.0s\n",
      "[CV] END criterion=entropy, max_depth=None, min_samples_leaf=1, min_samples_split=5, splitter=random; total time=   0.0s\n",
      "[CV] END criterion=entropy, max_depth=None, min_samples_leaf=1, min_samples_split=5, splitter=random; total time=   0.0s\n",
      "[CV] END criterion=entropy, max_depth=None, min_samples_leaf=1, min_samples_split=10, splitter=best; total time=   0.0s\n",
      "[CV] END criterion=entropy, max_depth=None, min_samples_leaf=1, min_samples_split=10, splitter=best; total time=   0.0s\n",
      "[CV] END criterion=entropy, max_depth=None, min_samples_leaf=1, min_samples_split=10, splitter=best; total time=   0.0s\n",
      "[CV] END criterion=entropy, max_depth=None, min_samples_leaf=1, min_samples_split=10, splitter=best; total time=   0.0s\n",
      "[CV] END criterion=entropy, max_depth=None, min_samples_leaf=1, min_samples_split=10, splitter=best; total time=   0.0s\n",
      "[CV] END criterion=entropy, max_depth=None, min_samples_leaf=1, min_samples_split=10, splitter=random; total time=   0.0s\n",
      "[CV] END criterion=entropy, max_depth=None, min_samples_leaf=1, min_samples_split=10, splitter=random; total time=   0.0s\n",
      "[CV] END criterion=entropy, max_depth=None, min_samples_leaf=1, min_samples_split=10, splitter=random; total time=   0.0s\n",
      "[CV] END criterion=entropy, max_depth=None, min_samples_leaf=1, min_samples_split=10, splitter=random; total time=   0.0s\n",
      "[CV] END criterion=entropy, max_depth=None, min_samples_leaf=1, min_samples_split=10, splitter=random; total time=   0.0s\n",
      "[CV] END criterion=entropy, max_depth=None, min_samples_leaf=2, min_samples_split=2, splitter=best; total time=   0.0s\n",
      "[CV] END criterion=entropy, max_depth=None, min_samples_leaf=2, min_samples_split=2, splitter=best; total time=   0.0s\n",
      "[CV] END criterion=entropy, max_depth=None, min_samples_leaf=2, min_samples_split=2, splitter=best; total time=   0.0s\n",
      "[CV] END criterion=entropy, max_depth=None, min_samples_leaf=2, min_samples_split=2, splitter=best; total time=   0.0s\n",
      "[CV] END criterion=entropy, max_depth=None, min_samples_leaf=2, min_samples_split=2, splitter=best; total time=   0.0s\n",
      "[CV] END criterion=entropy, max_depth=None, min_samples_leaf=2, min_samples_split=2, splitter=random; total time=   0.0s\n",
      "[CV] END criterion=entropy, max_depth=None, min_samples_leaf=2, min_samples_split=2, splitter=random; total time=   0.0s\n",
      "[CV] END criterion=entropy, max_depth=None, min_samples_leaf=2, min_samples_split=2, splitter=random; total time=   0.0s\n",
      "[CV] END criterion=entropy, max_depth=None, min_samples_leaf=2, min_samples_split=2, splitter=random; total time=   0.0s\n",
      "[CV] END criterion=entropy, max_depth=None, min_samples_leaf=2, min_samples_split=2, splitter=random; total time=   0.0s\n",
      "[CV] END criterion=entropy, max_depth=None, min_samples_leaf=2, min_samples_split=5, splitter=best; total time=   0.0s\n",
      "[CV] END criterion=entropy, max_depth=None, min_samples_leaf=2, min_samples_split=5, splitter=best; total time=   0.0s\n",
      "[CV] END criterion=entropy, max_depth=None, min_samples_leaf=2, min_samples_split=5, splitter=best; total time=   0.0s\n",
      "[CV] END criterion=entropy, max_depth=None, min_samples_leaf=2, min_samples_split=5, splitter=best; total time=   0.0s\n",
      "[CV] END criterion=entropy, max_depth=None, min_samples_leaf=2, min_samples_split=5, splitter=best; total time=   0.0s\n",
      "[CV] END criterion=entropy, max_depth=None, min_samples_leaf=2, min_samples_split=5, splitter=random; total time=   0.0s\n",
      "[CV] END criterion=entropy, max_depth=None, min_samples_leaf=2, min_samples_split=5, splitter=random; total time=   0.0s\n",
      "[CV] END criterion=entropy, max_depth=None, min_samples_leaf=2, min_samples_split=5, splitter=random; total time=   0.0s\n",
      "[CV] END criterion=entropy, max_depth=None, min_samples_leaf=2, min_samples_split=5, splitter=random; total time=   0.0s\n",
      "[CV] END criterion=entropy, max_depth=None, min_samples_leaf=2, min_samples_split=5, splitter=random; total time=   0.0s\n",
      "[CV] END criterion=entropy, max_depth=None, min_samples_leaf=2, min_samples_split=10, splitter=best; total time=   0.0s\n",
      "[CV] END criterion=entropy, max_depth=None, min_samples_leaf=2, min_samples_split=10, splitter=best; total time=   0.0s\n",
      "[CV] END criterion=entropy, max_depth=None, min_samples_leaf=2, min_samples_split=10, splitter=best; total time=   0.0s\n",
      "[CV] END criterion=entropy, max_depth=None, min_samples_leaf=2, min_samples_split=10, splitter=best; total time=   0.0s\n",
      "[CV] END criterion=entropy, max_depth=None, min_samples_leaf=2, min_samples_split=10, splitter=best; total time=   0.0s\n",
      "[CV] END criterion=entropy, max_depth=None, min_samples_leaf=2, min_samples_split=10, splitter=random; total time=   0.0s\n",
      "[CV] END criterion=entropy, max_depth=None, min_samples_leaf=2, min_samples_split=10, splitter=random; total time=   0.0s\n",
      "[CV] END criterion=entropy, max_depth=None, min_samples_leaf=2, min_samples_split=10, splitter=random; total time=   0.0s\n",
      "[CV] END criterion=entropy, max_depth=None, min_samples_leaf=2, min_samples_split=10, splitter=random; total time=   0.0s\n",
      "[CV] END criterion=entropy, max_depth=None, min_samples_leaf=2, min_samples_split=10, splitter=random; total time=   0.0s\n",
      "[CV] END criterion=entropy, max_depth=None, min_samples_leaf=4, min_samples_split=2, splitter=best; total time=   0.0s\n",
      "[CV] END criterion=entropy, max_depth=None, min_samples_leaf=4, min_samples_split=2, splitter=best; total time=   0.0s\n",
      "[CV] END criterion=entropy, max_depth=None, min_samples_leaf=4, min_samples_split=2, splitter=best; total time=   0.0s\n",
      "[CV] END criterion=entropy, max_depth=None, min_samples_leaf=4, min_samples_split=2, splitter=best; total time=   0.0s\n",
      "[CV] END criterion=entropy, max_depth=None, min_samples_leaf=4, min_samples_split=2, splitter=best; total time=   0.0s\n",
      "[CV] END criterion=entropy, max_depth=None, min_samples_leaf=4, min_samples_split=2, splitter=random; total time=   0.0s\n",
      "[CV] END criterion=entropy, max_depth=None, min_samples_leaf=4, min_samples_split=2, splitter=random; total time=   0.0s\n",
      "[CV] END criterion=entropy, max_depth=None, min_samples_leaf=4, min_samples_split=2, splitter=random; total time=   0.0s\n",
      "[CV] END criterion=entropy, max_depth=None, min_samples_leaf=4, min_samples_split=2, splitter=random; total time=   0.0s\n",
      "[CV] END criterion=entropy, max_depth=None, min_samples_leaf=4, min_samples_split=2, splitter=random; total time=   0.0s\n",
      "[CV] END criterion=entropy, max_depth=None, min_samples_leaf=4, min_samples_split=5, splitter=best; total time=   0.0s\n",
      "[CV] END criterion=entropy, max_depth=None, min_samples_leaf=4, min_samples_split=5, splitter=best; total time=   0.0s\n",
      "[CV] END criterion=entropy, max_depth=None, min_samples_leaf=4, min_samples_split=5, splitter=best; total time=   0.0s\n",
      "[CV] END criterion=entropy, max_depth=None, min_samples_leaf=4, min_samples_split=5, splitter=best; total time=   0.0s\n",
      "[CV] END criterion=entropy, max_depth=None, min_samples_leaf=4, min_samples_split=5, splitter=best; total time=   0.0s\n",
      "[CV] END criterion=entropy, max_depth=None, min_samples_leaf=4, min_samples_split=5, splitter=random; total time=   0.0s\n",
      "[CV] END criterion=entropy, max_depth=None, min_samples_leaf=4, min_samples_split=5, splitter=random; total time=   0.0s\n",
      "[CV] END criterion=entropy, max_depth=None, min_samples_leaf=4, min_samples_split=5, splitter=random; total time=   0.0s\n",
      "[CV] END criterion=entropy, max_depth=None, min_samples_leaf=4, min_samples_split=5, splitter=random; total time=   0.0s\n",
      "[CV] END criterion=entropy, max_depth=None, min_samples_leaf=4, min_samples_split=5, splitter=random; total time=   0.0s\n",
      "[CV] END criterion=entropy, max_depth=None, min_samples_leaf=4, min_samples_split=10, splitter=best; total time=   0.0s\n",
      "[CV] END criterion=entropy, max_depth=None, min_samples_leaf=4, min_samples_split=10, splitter=best; total time=   0.0s\n",
      "[CV] END criterion=entropy, max_depth=None, min_samples_leaf=4, min_samples_split=10, splitter=best; total time=   0.0s\n",
      "[CV] END criterion=entropy, max_depth=None, min_samples_leaf=4, min_samples_split=10, splitter=best; total time=   0.0s\n",
      "[CV] END criterion=entropy, max_depth=None, min_samples_leaf=4, min_samples_split=10, splitter=best; total time=   0.0s\n",
      "[CV] END criterion=entropy, max_depth=None, min_samples_leaf=4, min_samples_split=10, splitter=random; total time=   0.0s\n",
      "[CV] END criterion=entropy, max_depth=None, min_samples_leaf=4, min_samples_split=10, splitter=random; total time=   0.0s\n",
      "[CV] END criterion=entropy, max_depth=None, min_samples_leaf=4, min_samples_split=10, splitter=random; total time=   0.0s\n",
      "[CV] END criterion=entropy, max_depth=None, min_samples_leaf=4, min_samples_split=10, splitter=random; total time=   0.0s\n",
      "[CV] END criterion=entropy, max_depth=None, min_samples_leaf=4, min_samples_split=10, splitter=random; total time=   0.0s\n",
      "[CV] END criterion=entropy, max_depth=10, min_samples_leaf=1, min_samples_split=2, splitter=best; total time=   0.0s\n",
      "[CV] END criterion=entropy, max_depth=10, min_samples_leaf=1, min_samples_split=2, splitter=best; total time=   0.0s\n",
      "[CV] END criterion=entropy, max_depth=10, min_samples_leaf=1, min_samples_split=2, splitter=best; total time=   0.0s\n",
      "[CV] END criterion=entropy, max_depth=10, min_samples_leaf=1, min_samples_split=2, splitter=best; total time=   0.0s\n",
      "[CV] END criterion=entropy, max_depth=10, min_samples_leaf=1, min_samples_split=2, splitter=best; total time=   0.0s\n",
      "[CV] END criterion=entropy, max_depth=10, min_samples_leaf=1, min_samples_split=2, splitter=random; total time=   0.0s\n",
      "[CV] END criterion=entropy, max_depth=10, min_samples_leaf=1, min_samples_split=2, splitter=random; total time=   0.0s\n",
      "[CV] END criterion=entropy, max_depth=10, min_samples_leaf=1, min_samples_split=2, splitter=random; total time=   0.0s\n",
      "[CV] END criterion=entropy, max_depth=10, min_samples_leaf=1, min_samples_split=2, splitter=random; total time=   0.0s\n",
      "[CV] END criterion=entropy, max_depth=10, min_samples_leaf=1, min_samples_split=2, splitter=random; total time=   0.0s\n",
      "[CV] END criterion=entropy, max_depth=10, min_samples_leaf=1, min_samples_split=5, splitter=best; total time=   0.0s\n",
      "[CV] END criterion=entropy, max_depth=10, min_samples_leaf=1, min_samples_split=5, splitter=best; total time=   0.0s\n",
      "[CV] END criterion=entropy, max_depth=10, min_samples_leaf=1, min_samples_split=5, splitter=best; total time=   0.0s\n",
      "[CV] END criterion=entropy, max_depth=10, min_samples_leaf=1, min_samples_split=5, splitter=best; total time=   0.0s\n",
      "[CV] END criterion=entropy, max_depth=10, min_samples_leaf=1, min_samples_split=5, splitter=best; total time=   0.0s\n",
      "[CV] END criterion=entropy, max_depth=10, min_samples_leaf=1, min_samples_split=5, splitter=random; total time=   0.0s\n",
      "[CV] END criterion=entropy, max_depth=10, min_samples_leaf=1, min_samples_split=5, splitter=random; total time=   0.0s\n",
      "[CV] END criterion=entropy, max_depth=10, min_samples_leaf=1, min_samples_split=5, splitter=random; total time=   0.0s\n",
      "[CV] END criterion=entropy, max_depth=10, min_samples_leaf=1, min_samples_split=5, splitter=random; total time=   0.0s\n",
      "[CV] END criterion=entropy, max_depth=10, min_samples_leaf=1, min_samples_split=5, splitter=random; total time=   0.0s\n",
      "[CV] END criterion=entropy, max_depth=10, min_samples_leaf=1, min_samples_split=10, splitter=best; total time=   0.0s\n",
      "[CV] END criterion=entropy, max_depth=10, min_samples_leaf=1, min_samples_split=10, splitter=best; total time=   0.0s\n",
      "[CV] END criterion=entropy, max_depth=10, min_samples_leaf=1, min_samples_split=10, splitter=best; total time=   0.0s\n",
      "[CV] END criterion=entropy, max_depth=10, min_samples_leaf=1, min_samples_split=10, splitter=best; total time=   0.0s\n",
      "[CV] END criterion=entropy, max_depth=10, min_samples_leaf=1, min_samples_split=10, splitter=best; total time=   0.0s\n",
      "[CV] END criterion=entropy, max_depth=10, min_samples_leaf=1, min_samples_split=10, splitter=random; total time=   0.0s\n",
      "[CV] END criterion=entropy, max_depth=10, min_samples_leaf=1, min_samples_split=10, splitter=random; total time=   0.0s\n",
      "[CV] END criterion=entropy, max_depth=10, min_samples_leaf=1, min_samples_split=10, splitter=random; total time=   0.0s\n",
      "[CV] END criterion=entropy, max_depth=10, min_samples_leaf=1, min_samples_split=10, splitter=random; total time=   0.0s\n",
      "[CV] END criterion=entropy, max_depth=10, min_samples_leaf=1, min_samples_split=10, splitter=random; total time=   0.0s\n",
      "[CV] END criterion=entropy, max_depth=10, min_samples_leaf=2, min_samples_split=2, splitter=best; total time=   0.0s\n",
      "[CV] END criterion=entropy, max_depth=10, min_samples_leaf=2, min_samples_split=2, splitter=best; total time=   0.0s\n",
      "[CV] END criterion=entropy, max_depth=10, min_samples_leaf=2, min_samples_split=2, splitter=best; total time=   0.0s\n",
      "[CV] END criterion=entropy, max_depth=10, min_samples_leaf=2, min_samples_split=2, splitter=best; total time=   0.0s\n",
      "[CV] END criterion=entropy, max_depth=10, min_samples_leaf=2, min_samples_split=2, splitter=best; total time=   0.0s\n",
      "[CV] END criterion=entropy, max_depth=10, min_samples_leaf=2, min_samples_split=2, splitter=random; total time=   0.0s\n",
      "[CV] END criterion=entropy, max_depth=10, min_samples_leaf=2, min_samples_split=2, splitter=random; total time=   0.0s\n",
      "[CV] END criterion=entropy, max_depth=10, min_samples_leaf=2, min_samples_split=2, splitter=random; total time=   0.0s\n",
      "[CV] END criterion=entropy, max_depth=10, min_samples_leaf=2, min_samples_split=2, splitter=random; total time=   0.0s\n",
      "[CV] END criterion=entropy, max_depth=10, min_samples_leaf=2, min_samples_split=2, splitter=random; total time=   0.0s\n",
      "[CV] END criterion=entropy, max_depth=10, min_samples_leaf=2, min_samples_split=5, splitter=best; total time=   0.0s\n",
      "[CV] END criterion=entropy, max_depth=10, min_samples_leaf=2, min_samples_split=5, splitter=best; total time=   0.0s\n",
      "[CV] END criterion=entropy, max_depth=10, min_samples_leaf=2, min_samples_split=5, splitter=best; total time=   0.0s\n",
      "[CV] END criterion=entropy, max_depth=10, min_samples_leaf=2, min_samples_split=5, splitter=best; total time=   0.0s\n",
      "[CV] END criterion=entropy, max_depth=10, min_samples_leaf=2, min_samples_split=5, splitter=best; total time=   0.0s\n",
      "[CV] END criterion=entropy, max_depth=10, min_samples_leaf=2, min_samples_split=5, splitter=random; total time=   0.0s\n",
      "[CV] END criterion=entropy, max_depth=10, min_samples_leaf=2, min_samples_split=5, splitter=random; total time=   0.0s\n",
      "[CV] END criterion=entropy, max_depth=10, min_samples_leaf=2, min_samples_split=5, splitter=random; total time=   0.0s\n",
      "[CV] END criterion=entropy, max_depth=10, min_samples_leaf=2, min_samples_split=5, splitter=random; total time=   0.0s\n",
      "[CV] END criterion=entropy, max_depth=10, min_samples_leaf=2, min_samples_split=5, splitter=random; total time=   0.0s\n",
      "[CV] END criterion=entropy, max_depth=10, min_samples_leaf=2, min_samples_split=10, splitter=best; total time=   0.0s\n",
      "[CV] END criterion=entropy, max_depth=10, min_samples_leaf=2, min_samples_split=10, splitter=best; total time=   0.0s\n",
      "[CV] END criterion=entropy, max_depth=10, min_samples_leaf=2, min_samples_split=10, splitter=best; total time=   0.0s\n",
      "[CV] END criterion=entropy, max_depth=10, min_samples_leaf=2, min_samples_split=10, splitter=best; total time=   0.0s\n",
      "[CV] END criterion=entropy, max_depth=10, min_samples_leaf=2, min_samples_split=10, splitter=best; total time=   0.0s\n",
      "[CV] END criterion=entropy, max_depth=10, min_samples_leaf=2, min_samples_split=10, splitter=random; total time=   0.0s\n",
      "[CV] END criterion=entropy, max_depth=10, min_samples_leaf=2, min_samples_split=10, splitter=random; total time=   0.0s\n",
      "[CV] END criterion=entropy, max_depth=10, min_samples_leaf=2, min_samples_split=10, splitter=random; total time=   0.0s\n",
      "[CV] END criterion=entropy, max_depth=10, min_samples_leaf=2, min_samples_split=10, splitter=random; total time=   0.0s\n",
      "[CV] END criterion=entropy, max_depth=10, min_samples_leaf=2, min_samples_split=10, splitter=random; total time=   0.0s\n",
      "[CV] END criterion=entropy, max_depth=10, min_samples_leaf=4, min_samples_split=2, splitter=best; total time=   0.0s\n",
      "[CV] END criterion=entropy, max_depth=10, min_samples_leaf=4, min_samples_split=2, splitter=best; total time=   0.0s\n",
      "[CV] END criterion=entropy, max_depth=10, min_samples_leaf=4, min_samples_split=2, splitter=best; total time=   0.0s\n",
      "[CV] END criterion=entropy, max_depth=10, min_samples_leaf=4, min_samples_split=2, splitter=best; total time=   0.0s\n",
      "[CV] END criterion=entropy, max_depth=10, min_samples_leaf=4, min_samples_split=2, splitter=best; total time=   0.0s\n",
      "[CV] END criterion=entropy, max_depth=10, min_samples_leaf=4, min_samples_split=2, splitter=random; total time=   0.0s\n",
      "[CV] END criterion=entropy, max_depth=10, min_samples_leaf=4, min_samples_split=2, splitter=random; total time=   0.0s\n",
      "[CV] END criterion=entropy, max_depth=10, min_samples_leaf=4, min_samples_split=2, splitter=random; total time=   0.0s\n",
      "[CV] END criterion=entropy, max_depth=10, min_samples_leaf=4, min_samples_split=2, splitter=random; total time=   0.0s\n",
      "[CV] END criterion=entropy, max_depth=10, min_samples_leaf=4, min_samples_split=2, splitter=random; total time=   0.0s\n",
      "[CV] END criterion=entropy, max_depth=10, min_samples_leaf=4, min_samples_split=5, splitter=best; total time=   0.0s\n",
      "[CV] END criterion=entropy, max_depth=10, min_samples_leaf=4, min_samples_split=5, splitter=best; total time=   0.0s\n",
      "[CV] END criterion=entropy, max_depth=10, min_samples_leaf=4, min_samples_split=5, splitter=best; total time=   0.0s\n",
      "[CV] END criterion=entropy, max_depth=10, min_samples_leaf=4, min_samples_split=5, splitter=best; total time=   0.0s\n",
      "[CV] END criterion=entropy, max_depth=10, min_samples_leaf=4, min_samples_split=5, splitter=best; total time=   0.0s\n",
      "[CV] END criterion=entropy, max_depth=10, min_samples_leaf=4, min_samples_split=5, splitter=random; total time=   0.0s\n",
      "[CV] END criterion=entropy, max_depth=10, min_samples_leaf=4, min_samples_split=5, splitter=random; total time=   0.0s\n",
      "[CV] END criterion=entropy, max_depth=10, min_samples_leaf=4, min_samples_split=5, splitter=random; total time=   0.0s\n",
      "[CV] END criterion=entropy, max_depth=10, min_samples_leaf=4, min_samples_split=5, splitter=random; total time=   0.0s\n",
      "[CV] END criterion=entropy, max_depth=10, min_samples_leaf=4, min_samples_split=5, splitter=random; total time=   0.0s\n",
      "[CV] END criterion=entropy, max_depth=10, min_samples_leaf=4, min_samples_split=10, splitter=best; total time=   0.0s\n",
      "[CV] END criterion=entropy, max_depth=10, min_samples_leaf=4, min_samples_split=10, splitter=best; total time=   0.0s\n",
      "[CV] END criterion=entropy, max_depth=10, min_samples_leaf=4, min_samples_split=10, splitter=best; total time=   0.0s\n",
      "[CV] END criterion=entropy, max_depth=10, min_samples_leaf=4, min_samples_split=10, splitter=best; total time=   0.0s\n",
      "[CV] END criterion=entropy, max_depth=10, min_samples_leaf=4, min_samples_split=10, splitter=best; total time=   0.0s\n",
      "[CV] END criterion=entropy, max_depth=10, min_samples_leaf=4, min_samples_split=10, splitter=random; total time=   0.0s\n",
      "[CV] END criterion=entropy, max_depth=10, min_samples_leaf=4, min_samples_split=10, splitter=random; total time=   0.0s\n",
      "[CV] END criterion=entropy, max_depth=10, min_samples_leaf=4, min_samples_split=10, splitter=random; total time=   0.0s\n",
      "[CV] END criterion=entropy, max_depth=10, min_samples_leaf=4, min_samples_split=10, splitter=random; total time=   0.0s\n",
      "[CV] END criterion=entropy, max_depth=10, min_samples_leaf=4, min_samples_split=10, splitter=random; total time=   0.0s\n",
      "[CV] END criterion=entropy, max_depth=20, min_samples_leaf=1, min_samples_split=2, splitter=best; total time=   0.0s\n",
      "[CV] END criterion=entropy, max_depth=20, min_samples_leaf=1, min_samples_split=2, splitter=best; total time=   0.0s\n",
      "[CV] END criterion=entropy, max_depth=20, min_samples_leaf=1, min_samples_split=2, splitter=best; total time=   0.0s\n",
      "[CV] END criterion=entropy, max_depth=20, min_samples_leaf=1, min_samples_split=2, splitter=best; total time=   0.0s\n",
      "[CV] END criterion=entropy, max_depth=20, min_samples_leaf=1, min_samples_split=2, splitter=best; total time=   0.0s\n",
      "[CV] END criterion=entropy, max_depth=20, min_samples_leaf=1, min_samples_split=2, splitter=random; total time=   0.0s\n",
      "[CV] END criterion=entropy, max_depth=20, min_samples_leaf=1, min_samples_split=2, splitter=random; total time=   0.0s\n",
      "[CV] END criterion=entropy, max_depth=20, min_samples_leaf=1, min_samples_split=2, splitter=random; total time=   0.0s\n",
      "[CV] END criterion=entropy, max_depth=20, min_samples_leaf=1, min_samples_split=2, splitter=random; total time=   0.0s\n",
      "[CV] END criterion=entropy, max_depth=20, min_samples_leaf=1, min_samples_split=2, splitter=random; total time=   0.0s\n",
      "[CV] END criterion=entropy, max_depth=20, min_samples_leaf=1, min_samples_split=5, splitter=best; total time=   0.0s\n",
      "[CV] END criterion=entropy, max_depth=20, min_samples_leaf=1, min_samples_split=5, splitter=best; total time=   0.0s\n",
      "[CV] END criterion=entropy, max_depth=20, min_samples_leaf=1, min_samples_split=5, splitter=best; total time=   0.0s\n",
      "[CV] END criterion=entropy, max_depth=20, min_samples_leaf=1, min_samples_split=5, splitter=best; total time=   0.0s\n",
      "[CV] END criterion=entropy, max_depth=20, min_samples_leaf=1, min_samples_split=5, splitter=best; total time=   0.0s\n",
      "[CV] END criterion=entropy, max_depth=20, min_samples_leaf=1, min_samples_split=5, splitter=random; total time=   0.0s\n",
      "[CV] END criterion=entropy, max_depth=20, min_samples_leaf=1, min_samples_split=5, splitter=random; total time=   0.0s\n",
      "[CV] END criterion=entropy, max_depth=20, min_samples_leaf=1, min_samples_split=5, splitter=random; total time=   0.0s\n",
      "[CV] END criterion=entropy, max_depth=20, min_samples_leaf=1, min_samples_split=5, splitter=random; total time=   0.0s\n",
      "[CV] END criterion=entropy, max_depth=20, min_samples_leaf=1, min_samples_split=5, splitter=random; total time=   0.0s\n",
      "[CV] END criterion=entropy, max_depth=20, min_samples_leaf=1, min_samples_split=10, splitter=best; total time=   0.0s\n",
      "[CV] END criterion=entropy, max_depth=20, min_samples_leaf=1, min_samples_split=10, splitter=best; total time=   0.0s\n",
      "[CV] END criterion=entropy, max_depth=20, min_samples_leaf=1, min_samples_split=10, splitter=best; total time=   0.0s\n",
      "[CV] END criterion=entropy, max_depth=20, min_samples_leaf=1, min_samples_split=10, splitter=best; total time=   0.0s\n",
      "[CV] END criterion=entropy, max_depth=20, min_samples_leaf=1, min_samples_split=10, splitter=best; total time=   0.0s\n",
      "[CV] END criterion=entropy, max_depth=20, min_samples_leaf=1, min_samples_split=10, splitter=random; total time=   0.0s\n",
      "[CV] END criterion=entropy, max_depth=20, min_samples_leaf=1, min_samples_split=10, splitter=random; total time=   0.0s\n",
      "[CV] END criterion=entropy, max_depth=20, min_samples_leaf=1, min_samples_split=10, splitter=random; total time=   0.0s\n",
      "[CV] END criterion=entropy, max_depth=20, min_samples_leaf=1, min_samples_split=10, splitter=random; total time=   0.0s\n",
      "[CV] END criterion=entropy, max_depth=20, min_samples_leaf=1, min_samples_split=10, splitter=random; total time=   0.0s\n",
      "[CV] END criterion=entropy, max_depth=20, min_samples_leaf=2, min_samples_split=2, splitter=best; total time=   0.0s\n",
      "[CV] END criterion=entropy, max_depth=20, min_samples_leaf=2, min_samples_split=2, splitter=best; total time=   0.0s\n",
      "[CV] END criterion=entropy, max_depth=20, min_samples_leaf=2, min_samples_split=2, splitter=best; total time=   0.0s\n",
      "[CV] END criterion=entropy, max_depth=20, min_samples_leaf=2, min_samples_split=2, splitter=best; total time=   0.0s\n",
      "[CV] END criterion=entropy, max_depth=20, min_samples_leaf=2, min_samples_split=2, splitter=best; total time=   0.0s\n",
      "[CV] END criterion=entropy, max_depth=20, min_samples_leaf=2, min_samples_split=2, splitter=random; total time=   0.0s\n",
      "[CV] END criterion=entropy, max_depth=20, min_samples_leaf=2, min_samples_split=2, splitter=random; total time=   0.0s\n",
      "[CV] END criterion=entropy, max_depth=20, min_samples_leaf=2, min_samples_split=2, splitter=random; total time=   0.0s\n",
      "[CV] END criterion=entropy, max_depth=20, min_samples_leaf=2, min_samples_split=2, splitter=random; total time=   0.0s\n",
      "[CV] END criterion=entropy, max_depth=20, min_samples_leaf=2, min_samples_split=2, splitter=random; total time=   0.0s\n",
      "[CV] END criterion=entropy, max_depth=20, min_samples_leaf=2, min_samples_split=5, splitter=best; total time=   0.0s\n",
      "[CV] END criterion=entropy, max_depth=20, min_samples_leaf=2, min_samples_split=5, splitter=best; total time=   0.0s\n",
      "[CV] END criterion=entropy, max_depth=20, min_samples_leaf=2, min_samples_split=5, splitter=best; total time=   0.0s\n",
      "[CV] END criterion=entropy, max_depth=20, min_samples_leaf=2, min_samples_split=5, splitter=best; total time=   0.0s\n",
      "[CV] END criterion=entropy, max_depth=20, min_samples_leaf=2, min_samples_split=5, splitter=best; total time=   0.0s\n",
      "[CV] END criterion=entropy, max_depth=20, min_samples_leaf=2, min_samples_split=5, splitter=random; total time=   0.0s\n",
      "[CV] END criterion=entropy, max_depth=20, min_samples_leaf=2, min_samples_split=5, splitter=random; total time=   0.0s\n",
      "[CV] END criterion=entropy, max_depth=20, min_samples_leaf=2, min_samples_split=5, splitter=random; total time=   0.0s\n",
      "[CV] END criterion=entropy, max_depth=20, min_samples_leaf=2, min_samples_split=5, splitter=random; total time=   0.0s\n",
      "[CV] END criterion=entropy, max_depth=20, min_samples_leaf=2, min_samples_split=5, splitter=random; total time=   0.0s\n",
      "[CV] END criterion=entropy, max_depth=20, min_samples_leaf=2, min_samples_split=10, splitter=best; total time=   0.0s\n",
      "[CV] END criterion=entropy, max_depth=20, min_samples_leaf=2, min_samples_split=10, splitter=best; total time=   0.0s\n",
      "[CV] END criterion=entropy, max_depth=20, min_samples_leaf=2, min_samples_split=10, splitter=best; total time=   0.0s\n",
      "[CV] END criterion=entropy, max_depth=20, min_samples_leaf=2, min_samples_split=10, splitter=best; total time=   0.0s\n",
      "[CV] END criterion=entropy, max_depth=20, min_samples_leaf=2, min_samples_split=10, splitter=best; total time=   0.0s\n",
      "[CV] END criterion=entropy, max_depth=20, min_samples_leaf=2, min_samples_split=10, splitter=random; total time=   0.0s\n",
      "[CV] END criterion=entropy, max_depth=20, min_samples_leaf=2, min_samples_split=10, splitter=random; total time=   0.0s\n",
      "[CV] END criterion=entropy, max_depth=20, min_samples_leaf=2, min_samples_split=10, splitter=random; total time=   0.0s\n",
      "[CV] END criterion=entropy, max_depth=20, min_samples_leaf=2, min_samples_split=10, splitter=random; total time=   0.0s\n",
      "[CV] END criterion=entropy, max_depth=20, min_samples_leaf=2, min_samples_split=10, splitter=random; total time=   0.0s\n",
      "[CV] END criterion=entropy, max_depth=20, min_samples_leaf=4, min_samples_split=2, splitter=best; total time=   0.0s\n",
      "[CV] END criterion=entropy, max_depth=20, min_samples_leaf=4, min_samples_split=2, splitter=best; total time=   0.0s\n",
      "[CV] END criterion=entropy, max_depth=20, min_samples_leaf=4, min_samples_split=2, splitter=best; total time=   0.0s\n",
      "[CV] END criterion=entropy, max_depth=20, min_samples_leaf=4, min_samples_split=2, splitter=best; total time=   0.0s\n",
      "[CV] END criterion=entropy, max_depth=20, min_samples_leaf=4, min_samples_split=2, splitter=best; total time=   0.0s\n",
      "[CV] END criterion=entropy, max_depth=20, min_samples_leaf=4, min_samples_split=2, splitter=random; total time=   0.0s\n",
      "[CV] END criterion=entropy, max_depth=20, min_samples_leaf=4, min_samples_split=2, splitter=random; total time=   0.0s\n",
      "[CV] END criterion=entropy, max_depth=20, min_samples_leaf=4, min_samples_split=2, splitter=random; total time=   0.0s\n",
      "[CV] END criterion=entropy, max_depth=20, min_samples_leaf=4, min_samples_split=2, splitter=random; total time=   0.0s\n",
      "[CV] END criterion=entropy, max_depth=20, min_samples_leaf=4, min_samples_split=2, splitter=random; total time=   0.0s\n",
      "[CV] END criterion=entropy, max_depth=20, min_samples_leaf=4, min_samples_split=5, splitter=best; total time=   0.0s\n",
      "[CV] END criterion=entropy, max_depth=20, min_samples_leaf=4, min_samples_split=5, splitter=best; total time=   0.0s\n",
      "[CV] END criterion=entropy, max_depth=20, min_samples_leaf=4, min_samples_split=5, splitter=best; total time=   0.0s\n",
      "[CV] END criterion=entropy, max_depth=20, min_samples_leaf=4, min_samples_split=5, splitter=best; total time=   0.0s\n",
      "[CV] END criterion=entropy, max_depth=20, min_samples_leaf=4, min_samples_split=5, splitter=best; total time=   0.0s\n",
      "[CV] END criterion=entropy, max_depth=20, min_samples_leaf=4, min_samples_split=5, splitter=random; total time=   0.0s\n",
      "[CV] END criterion=entropy, max_depth=20, min_samples_leaf=4, min_samples_split=5, splitter=random; total time=   0.0s\n",
      "[CV] END criterion=entropy, max_depth=20, min_samples_leaf=4, min_samples_split=5, splitter=random; total time=   0.0s\n",
      "[CV] END criterion=entropy, max_depth=20, min_samples_leaf=4, min_samples_split=5, splitter=random; total time=   0.0s\n",
      "[CV] END criterion=entropy, max_depth=20, min_samples_leaf=4, min_samples_split=5, splitter=random; total time=   0.0s\n",
      "[CV] END criterion=entropy, max_depth=20, min_samples_leaf=4, min_samples_split=10, splitter=best; total time=   0.0s\n",
      "[CV] END criterion=entropy, max_depth=20, min_samples_leaf=4, min_samples_split=10, splitter=best; total time=   0.0s\n",
      "[CV] END criterion=entropy, max_depth=20, min_samples_leaf=4, min_samples_split=10, splitter=best; total time=   0.0s\n",
      "[CV] END criterion=entropy, max_depth=20, min_samples_leaf=4, min_samples_split=10, splitter=best; total time=   0.0s\n",
      "[CV] END criterion=entropy, max_depth=20, min_samples_leaf=4, min_samples_split=10, splitter=best; total time=   0.0s\n",
      "[CV] END criterion=entropy, max_depth=20, min_samples_leaf=4, min_samples_split=10, splitter=random; total time=   0.0s\n",
      "[CV] END criterion=entropy, max_depth=20, min_samples_leaf=4, min_samples_split=10, splitter=random; total time=   0.0s\n",
      "[CV] END criterion=entropy, max_depth=20, min_samples_leaf=4, min_samples_split=10, splitter=random; total time=   0.0s\n",
      "[CV] END criterion=entropy, max_depth=20, min_samples_leaf=4, min_samples_split=10, splitter=random; total time=   0.0s\n",
      "[CV] END criterion=entropy, max_depth=20, min_samples_leaf=4, min_samples_split=10, splitter=random; total time=   0.0s\n",
      "[CV] END criterion=entropy, max_depth=30, min_samples_leaf=1, min_samples_split=2, splitter=best; total time=   0.0s\n",
      "[CV] END criterion=entropy, max_depth=30, min_samples_leaf=1, min_samples_split=2, splitter=best; total time=   0.0s\n",
      "[CV] END criterion=entropy, max_depth=30, min_samples_leaf=1, min_samples_split=2, splitter=best; total time=   0.0s\n",
      "[CV] END criterion=entropy, max_depth=30, min_samples_leaf=1, min_samples_split=2, splitter=best; total time=   0.0s\n",
      "[CV] END criterion=entropy, max_depth=30, min_samples_leaf=1, min_samples_split=2, splitter=best; total time=   0.0s\n",
      "[CV] END criterion=entropy, max_depth=30, min_samples_leaf=1, min_samples_split=2, splitter=random; total time=   0.0s\n",
      "[CV] END criterion=entropy, max_depth=30, min_samples_leaf=1, min_samples_split=2, splitter=random; total time=   0.0s\n",
      "[CV] END criterion=entropy, max_depth=30, min_samples_leaf=1, min_samples_split=2, splitter=random; total time=   0.0s\n",
      "[CV] END criterion=entropy, max_depth=30, min_samples_leaf=1, min_samples_split=2, splitter=random; total time=   0.0s\n",
      "[CV] END criterion=entropy, max_depth=30, min_samples_leaf=1, min_samples_split=2, splitter=random; total time=   0.0s\n",
      "[CV] END criterion=entropy, max_depth=30, min_samples_leaf=1, min_samples_split=5, splitter=best; total time=   0.0s\n",
      "[CV] END criterion=entropy, max_depth=30, min_samples_leaf=1, min_samples_split=5, splitter=best; total time=   0.0s\n",
      "[CV] END criterion=entropy, max_depth=30, min_samples_leaf=1, min_samples_split=5, splitter=best; total time=   0.0s\n",
      "[CV] END criterion=entropy, max_depth=30, min_samples_leaf=1, min_samples_split=5, splitter=best; total time=   0.0s\n",
      "[CV] END criterion=entropy, max_depth=30, min_samples_leaf=1, min_samples_split=5, splitter=best; total time=   0.0s\n",
      "[CV] END criterion=entropy, max_depth=30, min_samples_leaf=1, min_samples_split=5, splitter=random; total time=   0.0s\n",
      "[CV] END criterion=entropy, max_depth=30, min_samples_leaf=1, min_samples_split=5, splitter=random; total time=   0.0s\n",
      "[CV] END criterion=entropy, max_depth=30, min_samples_leaf=1, min_samples_split=5, splitter=random; total time=   0.0s\n",
      "[CV] END criterion=entropy, max_depth=30, min_samples_leaf=1, min_samples_split=5, splitter=random; total time=   0.0s\n",
      "[CV] END criterion=entropy, max_depth=30, min_samples_leaf=1, min_samples_split=5, splitter=random; total time=   0.0s\n",
      "[CV] END criterion=entropy, max_depth=30, min_samples_leaf=1, min_samples_split=10, splitter=best; total time=   0.0s\n",
      "[CV] END criterion=entropy, max_depth=30, min_samples_leaf=1, min_samples_split=10, splitter=best; total time=   0.0s\n",
      "[CV] END criterion=entropy, max_depth=30, min_samples_leaf=1, min_samples_split=10, splitter=best; total time=   0.0s\n",
      "[CV] END criterion=entropy, max_depth=30, min_samples_leaf=1, min_samples_split=10, splitter=best; total time=   0.0s\n",
      "[CV] END criterion=entropy, max_depth=30, min_samples_leaf=1, min_samples_split=10, splitter=best; total time=   0.0s\n",
      "[CV] END criterion=entropy, max_depth=30, min_samples_leaf=1, min_samples_split=10, splitter=random; total time=   0.0s\n",
      "[CV] END criterion=entropy, max_depth=30, min_samples_leaf=1, min_samples_split=10, splitter=random; total time=   0.0s\n",
      "[CV] END criterion=entropy, max_depth=30, min_samples_leaf=1, min_samples_split=10, splitter=random; total time=   0.0s\n",
      "[CV] END criterion=entropy, max_depth=30, min_samples_leaf=1, min_samples_split=10, splitter=random; total time=   0.0s\n",
      "[CV] END criterion=entropy, max_depth=30, min_samples_leaf=1, min_samples_split=10, splitter=random; total time=   0.0s\n",
      "[CV] END criterion=entropy, max_depth=30, min_samples_leaf=2, min_samples_split=2, splitter=best; total time=   0.0s\n",
      "[CV] END criterion=entropy, max_depth=30, min_samples_leaf=2, min_samples_split=2, splitter=best; total time=   0.0s\n",
      "[CV] END criterion=entropy, max_depth=30, min_samples_leaf=2, min_samples_split=2, splitter=best; total time=   0.0s\n",
      "[CV] END criterion=entropy, max_depth=30, min_samples_leaf=2, min_samples_split=2, splitter=best; total time=   0.0s\n",
      "[CV] END criterion=entropy, max_depth=30, min_samples_leaf=2, min_samples_split=2, splitter=best; total time=   0.0s\n",
      "[CV] END criterion=entropy, max_depth=30, min_samples_leaf=2, min_samples_split=2, splitter=random; total time=   0.0s\n",
      "[CV] END criterion=entropy, max_depth=30, min_samples_leaf=2, min_samples_split=2, splitter=random; total time=   0.0s\n",
      "[CV] END criterion=entropy, max_depth=30, min_samples_leaf=2, min_samples_split=2, splitter=random; total time=   0.0s\n",
      "[CV] END criterion=entropy, max_depth=30, min_samples_leaf=2, min_samples_split=2, splitter=random; total time=   0.0s\n",
      "[CV] END criterion=entropy, max_depth=30, min_samples_leaf=2, min_samples_split=2, splitter=random; total time=   0.0s\n",
      "[CV] END criterion=entropy, max_depth=30, min_samples_leaf=2, min_samples_split=5, splitter=best; total time=   0.0s\n",
      "[CV] END criterion=entropy, max_depth=30, min_samples_leaf=2, min_samples_split=5, splitter=best; total time=   0.0s\n",
      "[CV] END criterion=entropy, max_depth=30, min_samples_leaf=2, min_samples_split=5, splitter=best; total time=   0.0s\n",
      "[CV] END criterion=entropy, max_depth=30, min_samples_leaf=2, min_samples_split=5, splitter=best; total time=   0.0s\n",
      "[CV] END criterion=entropy, max_depth=30, min_samples_leaf=2, min_samples_split=5, splitter=best; total time=   0.0s\n",
      "[CV] END criterion=entropy, max_depth=30, min_samples_leaf=2, min_samples_split=5, splitter=random; total time=   0.0s\n",
      "[CV] END criterion=entropy, max_depth=30, min_samples_leaf=2, min_samples_split=5, splitter=random; total time=   0.0s\n",
      "[CV] END criterion=entropy, max_depth=30, min_samples_leaf=2, min_samples_split=5, splitter=random; total time=   0.0s\n",
      "[CV] END criterion=entropy, max_depth=30, min_samples_leaf=2, min_samples_split=5, splitter=random; total time=   0.0s\n",
      "[CV] END criterion=entropy, max_depth=30, min_samples_leaf=2, min_samples_split=5, splitter=random; total time=   0.0s\n",
      "[CV] END criterion=entropy, max_depth=30, min_samples_leaf=2, min_samples_split=10, splitter=best; total time=   0.0s\n",
      "[CV] END criterion=entropy, max_depth=30, min_samples_leaf=2, min_samples_split=10, splitter=best; total time=   0.0s\n",
      "[CV] END criterion=entropy, max_depth=30, min_samples_leaf=2, min_samples_split=10, splitter=best; total time=   0.0s\n",
      "[CV] END criterion=entropy, max_depth=30, min_samples_leaf=2, min_samples_split=10, splitter=best; total time=   0.0s\n",
      "[CV] END criterion=entropy, max_depth=30, min_samples_leaf=2, min_samples_split=10, splitter=best; total time=   0.0s\n",
      "[CV] END criterion=entropy, max_depth=30, min_samples_leaf=2, min_samples_split=10, splitter=random; total time=   0.0s\n",
      "[CV] END criterion=entropy, max_depth=30, min_samples_leaf=2, min_samples_split=10, splitter=random; total time=   0.0s\n",
      "[CV] END criterion=entropy, max_depth=30, min_samples_leaf=2, min_samples_split=10, splitter=random; total time=   0.0s\n",
      "[CV] END criterion=entropy, max_depth=30, min_samples_leaf=2, min_samples_split=10, splitter=random; total time=   0.0s\n",
      "[CV] END criterion=entropy, max_depth=30, min_samples_leaf=2, min_samples_split=10, splitter=random; total time=   0.0s\n",
      "[CV] END criterion=entropy, max_depth=30, min_samples_leaf=4, min_samples_split=2, splitter=best; total time=   0.0s\n",
      "[CV] END criterion=entropy, max_depth=30, min_samples_leaf=4, min_samples_split=2, splitter=best; total time=   0.0s\n",
      "[CV] END criterion=entropy, max_depth=30, min_samples_leaf=4, min_samples_split=2, splitter=best; total time=   0.0s\n",
      "[CV] END criterion=entropy, max_depth=30, min_samples_leaf=4, min_samples_split=2, splitter=best; total time=   0.0s\n",
      "[CV] END criterion=entropy, max_depth=30, min_samples_leaf=4, min_samples_split=2, splitter=best; total time=   0.0s\n",
      "[CV] END criterion=entropy, max_depth=30, min_samples_leaf=4, min_samples_split=2, splitter=random; total time=   0.0s\n",
      "[CV] END criterion=entropy, max_depth=30, min_samples_leaf=4, min_samples_split=2, splitter=random; total time=   0.0s\n",
      "[CV] END criterion=entropy, max_depth=30, min_samples_leaf=4, min_samples_split=2, splitter=random; total time=   0.0s\n",
      "[CV] END criterion=entropy, max_depth=30, min_samples_leaf=4, min_samples_split=2, splitter=random; total time=   0.0s\n",
      "[CV] END criterion=entropy, max_depth=30, min_samples_leaf=4, min_samples_split=2, splitter=random; total time=   0.0s\n",
      "[CV] END criterion=entropy, max_depth=30, min_samples_leaf=4, min_samples_split=5, splitter=best; total time=   0.0s\n",
      "[CV] END criterion=entropy, max_depth=30, min_samples_leaf=4, min_samples_split=5, splitter=best; total time=   0.0s\n",
      "[CV] END criterion=entropy, max_depth=30, min_samples_leaf=4, min_samples_split=5, splitter=best; total time=   0.0s\n",
      "[CV] END criterion=entropy, max_depth=30, min_samples_leaf=4, min_samples_split=5, splitter=best; total time=   0.0s\n",
      "[CV] END criterion=entropy, max_depth=30, min_samples_leaf=4, min_samples_split=5, splitter=best; total time=   0.0s\n",
      "[CV] END criterion=entropy, max_depth=30, min_samples_leaf=4, min_samples_split=5, splitter=random; total time=   0.0s\n",
      "[CV] END criterion=entropy, max_depth=30, min_samples_leaf=4, min_samples_split=5, splitter=random; total time=   0.0s\n",
      "[CV] END criterion=entropy, max_depth=30, min_samples_leaf=4, min_samples_split=5, splitter=random; total time=   0.0s\n",
      "[CV] END criterion=entropy, max_depth=30, min_samples_leaf=4, min_samples_split=5, splitter=random; total time=   0.0s\n",
      "[CV] END criterion=entropy, max_depth=30, min_samples_leaf=4, min_samples_split=5, splitter=random; total time=   0.0s\n",
      "[CV] END criterion=entropy, max_depth=30, min_samples_leaf=4, min_samples_split=10, splitter=best; total time=   0.0s\n",
      "[CV] END criterion=entropy, max_depth=30, min_samples_leaf=4, min_samples_split=10, splitter=best; total time=   0.0s\n",
      "[CV] END criterion=entropy, max_depth=30, min_samples_leaf=4, min_samples_split=10, splitter=best; total time=   0.0s\n",
      "[CV] END criterion=entropy, max_depth=30, min_samples_leaf=4, min_samples_split=10, splitter=best; total time=   0.0s\n",
      "[CV] END criterion=entropy, max_depth=30, min_samples_leaf=4, min_samples_split=10, splitter=best; total time=   0.0s\n",
      "[CV] END criterion=entropy, max_depth=30, min_samples_leaf=4, min_samples_split=10, splitter=random; total time=   0.0s\n",
      "[CV] END criterion=entropy, max_depth=30, min_samples_leaf=4, min_samples_split=10, splitter=random; total time=   0.0s\n",
      "[CV] END criterion=entropy, max_depth=30, min_samples_leaf=4, min_samples_split=10, splitter=random; total time=   0.0s\n",
      "[CV] END criterion=entropy, max_depth=30, min_samples_leaf=4, min_samples_split=10, splitter=random; total time=   0.0s\n",
      "[CV] END criterion=entropy, max_depth=30, min_samples_leaf=4, min_samples_split=10, splitter=random; total time=   0.0s\n"
     ]
    }
   ],
   "source": [
    "Model_DT = DecisionTreeClassifier()\n",
    "Model_DT.fit(X_train,y_train)\n",
    "\n",
    "Y_pred = Model_DT.predict(X_test)\n",
    "DT_param_grid = {\n",
    "    'criterion': ['gini', 'entropy'],\n",
    "    'splitter': ['best', 'random'],\n",
    "    'max_depth': [None, 10, 20, 30],\n",
    "    'min_samples_split': [2, 5, 10],\n",
    "    'min_samples_leaf': [1, 2, 4]\n",
    "}\n",
    "\n",
    "# Initialize the GridSearchCV object\n",
    "DT_grid_search = GridSearchCV(estimator=DecisionTreeClassifier(), param_grid=DT_param_grid, cv=5, scoring='accuracy', verbose=2)\n",
    "\n",
    "# Fit the model\n",
    "DT_grid_search.fit(X_train, y_train)\n",
    "\n",
    "y_pred_DT = DT_grid_search.predict(X_test)\n",
    "accuracy_DT = accuracy_score(y_test,y_pred_DT)\n",
    "Confusion_DT = confusion_matrix(y_test,y_pred_DT)\n"
   ]
  },
  {
   "cell_type": "code",
   "execution_count": 195,
   "metadata": {},
   "outputs": [
    {
     "name": "stdout",
     "output_type": "stream",
     "text": [
      "Decision Tree - Best Params: {'criterion': 'entropy', 'max_depth': 30, 'min_samples_leaf': 4, 'min_samples_split': 2, 'splitter': 'best'}\n",
      "Decision Tree - Best Estimator: DecisionTreeClassifier(criterion='entropy', max_depth=30, min_samples_leaf=4)\n",
      "Decision Tree - Best Score: 0.9123376623376623\n",
      "Accuracy: 0.9095959595959596\n",
      "[[891  53  21  17]\n",
      " [ 56 852  29  18]\n",
      " [ 35  33 895  27]\n",
      " [ 21  30  18 964]]\n"
     ]
    },
    {
     "data": {
      "application/vnd.plotly.v1+json": {
       "config": {
        "plotlyServerURL": "https://plot.ly"
       },
       "data": [
        {
         "coloraxis": "coloraxis",
         "hovertemplate": "Predicted Label: %{x}<br>True Label: %{y}<br>Count: %{z}<extra></extra>",
         "name": "0",
         "texttemplate": "%{z}",
         "type": "heatmap",
         "x": [
          "Rainy",
          "Cloudy",
          "Sunny",
          "Snowy"
         ],
         "xaxis": "x",
         "y": [
          "Rainy",
          "Cloudy",
          "Sunny",
          "Snowy"
         ],
         "yaxis": "y",
         "z": [
          [
           891,
           53,
           21,
           17
          ],
          [
           56,
           852,
           29,
           18
          ],
          [
           35,
           33,
           895,
           27
          ],
          [
           21,
           30,
           18,
           964
          ]
         ]
        }
       ],
       "layout": {
        "coloraxis": {
         "colorbar": {
          "title": {
           "text": "Count"
          }
         },
         "colorscale": [
          [
           0,
           "#440154"
          ],
          [
           0.1111111111111111,
           "#482878"
          ],
          [
           0.2222222222222222,
           "#3e4989"
          ],
          [
           0.3333333333333333,
           "#31688e"
          ],
          [
           0.4444444444444444,
           "#26828e"
          ],
          [
           0.5555555555555556,
           "#1f9e89"
          ],
          [
           0.6666666666666666,
           "#35b779"
          ],
          [
           0.7777777777777778,
           "#6ece58"
          ],
          [
           0.8888888888888888,
           "#b5de2b"
          ],
          [
           1,
           "#fde725"
          ]
         ]
        },
        "height": 400,
        "margin": {
         "t": 60
        },
        "template": {
         "data": {
          "bar": [
           {
            "error_x": {
             "color": "#2a3f5f"
            },
            "error_y": {
             "color": "#2a3f5f"
            },
            "marker": {
             "line": {
              "color": "#E5ECF6",
              "width": 0.5
             },
             "pattern": {
              "fillmode": "overlay",
              "size": 10,
              "solidity": 0.2
             }
            },
            "type": "bar"
           }
          ],
          "barpolar": [
           {
            "marker": {
             "line": {
              "color": "#E5ECF6",
              "width": 0.5
             },
             "pattern": {
              "fillmode": "overlay",
              "size": 10,
              "solidity": 0.2
             }
            },
            "type": "barpolar"
           }
          ],
          "carpet": [
           {
            "aaxis": {
             "endlinecolor": "#2a3f5f",
             "gridcolor": "white",
             "linecolor": "white",
             "minorgridcolor": "white",
             "startlinecolor": "#2a3f5f"
            },
            "baxis": {
             "endlinecolor": "#2a3f5f",
             "gridcolor": "white",
             "linecolor": "white",
             "minorgridcolor": "white",
             "startlinecolor": "#2a3f5f"
            },
            "type": "carpet"
           }
          ],
          "choropleth": [
           {
            "colorbar": {
             "outlinewidth": 0,
             "ticks": ""
            },
            "type": "choropleth"
           }
          ],
          "contour": [
           {
            "colorbar": {
             "outlinewidth": 0,
             "ticks": ""
            },
            "colorscale": [
             [
              0,
              "#0d0887"
             ],
             [
              0.1111111111111111,
              "#46039f"
             ],
             [
              0.2222222222222222,
              "#7201a8"
             ],
             [
              0.3333333333333333,
              "#9c179e"
             ],
             [
              0.4444444444444444,
              "#bd3786"
             ],
             [
              0.5555555555555556,
              "#d8576b"
             ],
             [
              0.6666666666666666,
              "#ed7953"
             ],
             [
              0.7777777777777778,
              "#fb9f3a"
             ],
             [
              0.8888888888888888,
              "#fdca26"
             ],
             [
              1,
              "#f0f921"
             ]
            ],
            "type": "contour"
           }
          ],
          "contourcarpet": [
           {
            "colorbar": {
             "outlinewidth": 0,
             "ticks": ""
            },
            "type": "contourcarpet"
           }
          ],
          "heatmap": [
           {
            "colorbar": {
             "outlinewidth": 0,
             "ticks": ""
            },
            "colorscale": [
             [
              0,
              "#0d0887"
             ],
             [
              0.1111111111111111,
              "#46039f"
             ],
             [
              0.2222222222222222,
              "#7201a8"
             ],
             [
              0.3333333333333333,
              "#9c179e"
             ],
             [
              0.4444444444444444,
              "#bd3786"
             ],
             [
              0.5555555555555556,
              "#d8576b"
             ],
             [
              0.6666666666666666,
              "#ed7953"
             ],
             [
              0.7777777777777778,
              "#fb9f3a"
             ],
             [
              0.8888888888888888,
              "#fdca26"
             ],
             [
              1,
              "#f0f921"
             ]
            ],
            "type": "heatmap"
           }
          ],
          "heatmapgl": [
           {
            "colorbar": {
             "outlinewidth": 0,
             "ticks": ""
            },
            "colorscale": [
             [
              0,
              "#0d0887"
             ],
             [
              0.1111111111111111,
              "#46039f"
             ],
             [
              0.2222222222222222,
              "#7201a8"
             ],
             [
              0.3333333333333333,
              "#9c179e"
             ],
             [
              0.4444444444444444,
              "#bd3786"
             ],
             [
              0.5555555555555556,
              "#d8576b"
             ],
             [
              0.6666666666666666,
              "#ed7953"
             ],
             [
              0.7777777777777778,
              "#fb9f3a"
             ],
             [
              0.8888888888888888,
              "#fdca26"
             ],
             [
              1,
              "#f0f921"
             ]
            ],
            "type": "heatmapgl"
           }
          ],
          "histogram": [
           {
            "marker": {
             "pattern": {
              "fillmode": "overlay",
              "size": 10,
              "solidity": 0.2
             }
            },
            "type": "histogram"
           }
          ],
          "histogram2d": [
           {
            "colorbar": {
             "outlinewidth": 0,
             "ticks": ""
            },
            "colorscale": [
             [
              0,
              "#0d0887"
             ],
             [
              0.1111111111111111,
              "#46039f"
             ],
             [
              0.2222222222222222,
              "#7201a8"
             ],
             [
              0.3333333333333333,
              "#9c179e"
             ],
             [
              0.4444444444444444,
              "#bd3786"
             ],
             [
              0.5555555555555556,
              "#d8576b"
             ],
             [
              0.6666666666666666,
              "#ed7953"
             ],
             [
              0.7777777777777778,
              "#fb9f3a"
             ],
             [
              0.8888888888888888,
              "#fdca26"
             ],
             [
              1,
              "#f0f921"
             ]
            ],
            "type": "histogram2d"
           }
          ],
          "histogram2dcontour": [
           {
            "colorbar": {
             "outlinewidth": 0,
             "ticks": ""
            },
            "colorscale": [
             [
              0,
              "#0d0887"
             ],
             [
              0.1111111111111111,
              "#46039f"
             ],
             [
              0.2222222222222222,
              "#7201a8"
             ],
             [
              0.3333333333333333,
              "#9c179e"
             ],
             [
              0.4444444444444444,
              "#bd3786"
             ],
             [
              0.5555555555555556,
              "#d8576b"
             ],
             [
              0.6666666666666666,
              "#ed7953"
             ],
             [
              0.7777777777777778,
              "#fb9f3a"
             ],
             [
              0.8888888888888888,
              "#fdca26"
             ],
             [
              1,
              "#f0f921"
             ]
            ],
            "type": "histogram2dcontour"
           }
          ],
          "mesh3d": [
           {
            "colorbar": {
             "outlinewidth": 0,
             "ticks": ""
            },
            "type": "mesh3d"
           }
          ],
          "parcoords": [
           {
            "line": {
             "colorbar": {
              "outlinewidth": 0,
              "ticks": ""
             }
            },
            "type": "parcoords"
           }
          ],
          "pie": [
           {
            "automargin": true,
            "type": "pie"
           }
          ],
          "scatter": [
           {
            "fillpattern": {
             "fillmode": "overlay",
             "size": 10,
             "solidity": 0.2
            },
            "type": "scatter"
           }
          ],
          "scatter3d": [
           {
            "line": {
             "colorbar": {
              "outlinewidth": 0,
              "ticks": ""
             }
            },
            "marker": {
             "colorbar": {
              "outlinewidth": 0,
              "ticks": ""
             }
            },
            "type": "scatter3d"
           }
          ],
          "scattercarpet": [
           {
            "marker": {
             "colorbar": {
              "outlinewidth": 0,
              "ticks": ""
             }
            },
            "type": "scattercarpet"
           }
          ],
          "scattergeo": [
           {
            "marker": {
             "colorbar": {
              "outlinewidth": 0,
              "ticks": ""
             }
            },
            "type": "scattergeo"
           }
          ],
          "scattergl": [
           {
            "marker": {
             "colorbar": {
              "outlinewidth": 0,
              "ticks": ""
             }
            },
            "type": "scattergl"
           }
          ],
          "scattermapbox": [
           {
            "marker": {
             "colorbar": {
              "outlinewidth": 0,
              "ticks": ""
             }
            },
            "type": "scattermapbox"
           }
          ],
          "scatterpolar": [
           {
            "marker": {
             "colorbar": {
              "outlinewidth": 0,
              "ticks": ""
             }
            },
            "type": "scatterpolar"
           }
          ],
          "scatterpolargl": [
           {
            "marker": {
             "colorbar": {
              "outlinewidth": 0,
              "ticks": ""
             }
            },
            "type": "scatterpolargl"
           }
          ],
          "scatterternary": [
           {
            "marker": {
             "colorbar": {
              "outlinewidth": 0,
              "ticks": ""
             }
            },
            "type": "scatterternary"
           }
          ],
          "surface": [
           {
            "colorbar": {
             "outlinewidth": 0,
             "ticks": ""
            },
            "colorscale": [
             [
              0,
              "#0d0887"
             ],
             [
              0.1111111111111111,
              "#46039f"
             ],
             [
              0.2222222222222222,
              "#7201a8"
             ],
             [
              0.3333333333333333,
              "#9c179e"
             ],
             [
              0.4444444444444444,
              "#bd3786"
             ],
             [
              0.5555555555555556,
              "#d8576b"
             ],
             [
              0.6666666666666666,
              "#ed7953"
             ],
             [
              0.7777777777777778,
              "#fb9f3a"
             ],
             [
              0.8888888888888888,
              "#fdca26"
             ],
             [
              1,
              "#f0f921"
             ]
            ],
            "type": "surface"
           }
          ],
          "table": [
           {
            "cells": {
             "fill": {
              "color": "#EBF0F8"
             },
             "line": {
              "color": "white"
             }
            },
            "header": {
             "fill": {
              "color": "#C8D4E3"
             },
             "line": {
              "color": "white"
             }
            },
            "type": "table"
           }
          ]
         },
         "layout": {
          "annotationdefaults": {
           "arrowcolor": "#2a3f5f",
           "arrowhead": 0,
           "arrowwidth": 1
          },
          "autotypenumbers": "strict",
          "coloraxis": {
           "colorbar": {
            "outlinewidth": 0,
            "ticks": ""
           }
          },
          "colorscale": {
           "diverging": [
            [
             0,
             "#8e0152"
            ],
            [
             0.1,
             "#c51b7d"
            ],
            [
             0.2,
             "#de77ae"
            ],
            [
             0.3,
             "#f1b6da"
            ],
            [
             0.4,
             "#fde0ef"
            ],
            [
             0.5,
             "#f7f7f7"
            ],
            [
             0.6,
             "#e6f5d0"
            ],
            [
             0.7,
             "#b8e186"
            ],
            [
             0.8,
             "#7fbc41"
            ],
            [
             0.9,
             "#4d9221"
            ],
            [
             1,
             "#276419"
            ]
           ],
           "sequential": [
            [
             0,
             "#0d0887"
            ],
            [
             0.1111111111111111,
             "#46039f"
            ],
            [
             0.2222222222222222,
             "#7201a8"
            ],
            [
             0.3333333333333333,
             "#9c179e"
            ],
            [
             0.4444444444444444,
             "#bd3786"
            ],
            [
             0.5555555555555556,
             "#d8576b"
            ],
            [
             0.6666666666666666,
             "#ed7953"
            ],
            [
             0.7777777777777778,
             "#fb9f3a"
            ],
            [
             0.8888888888888888,
             "#fdca26"
            ],
            [
             1,
             "#f0f921"
            ]
           ],
           "sequentialminus": [
            [
             0,
             "#0d0887"
            ],
            [
             0.1111111111111111,
             "#46039f"
            ],
            [
             0.2222222222222222,
             "#7201a8"
            ],
            [
             0.3333333333333333,
             "#9c179e"
            ],
            [
             0.4444444444444444,
             "#bd3786"
            ],
            [
             0.5555555555555556,
             "#d8576b"
            ],
            [
             0.6666666666666666,
             "#ed7953"
            ],
            [
             0.7777777777777778,
             "#fb9f3a"
            ],
            [
             0.8888888888888888,
             "#fdca26"
            ],
            [
             1,
             "#f0f921"
            ]
           ]
          },
          "colorway": [
           "#636efa",
           "#EF553B",
           "#00cc96",
           "#ab63fa",
           "#FFA15A",
           "#19d3f3",
           "#FF6692",
           "#B6E880",
           "#FF97FF",
           "#FECB52"
          ],
          "font": {
           "color": "#2a3f5f"
          },
          "geo": {
           "bgcolor": "white",
           "lakecolor": "white",
           "landcolor": "#E5ECF6",
           "showlakes": true,
           "showland": true,
           "subunitcolor": "white"
          },
          "hoverlabel": {
           "align": "left"
          },
          "hovermode": "closest",
          "mapbox": {
           "style": "light"
          },
          "paper_bgcolor": "white",
          "plot_bgcolor": "#E5ECF6",
          "polar": {
           "angularaxis": {
            "gridcolor": "white",
            "linecolor": "white",
            "ticks": ""
           },
           "bgcolor": "#E5ECF6",
           "radialaxis": {
            "gridcolor": "white",
            "linecolor": "white",
            "ticks": ""
           }
          },
          "scene": {
           "xaxis": {
            "backgroundcolor": "#E5ECF6",
            "gridcolor": "white",
            "gridwidth": 2,
            "linecolor": "white",
            "showbackground": true,
            "ticks": "",
            "zerolinecolor": "white"
           },
           "yaxis": {
            "backgroundcolor": "#E5ECF6",
            "gridcolor": "white",
            "gridwidth": 2,
            "linecolor": "white",
            "showbackground": true,
            "ticks": "",
            "zerolinecolor": "white"
           },
           "zaxis": {
            "backgroundcolor": "#E5ECF6",
            "gridcolor": "white",
            "gridwidth": 2,
            "linecolor": "white",
            "showbackground": true,
            "ticks": "",
            "zerolinecolor": "white"
           }
          },
          "shapedefaults": {
           "line": {
            "color": "#2a3f5f"
           }
          },
          "ternary": {
           "aaxis": {
            "gridcolor": "white",
            "linecolor": "white",
            "ticks": ""
           },
           "baxis": {
            "gridcolor": "white",
            "linecolor": "white",
            "ticks": ""
           },
           "bgcolor": "#E5ECF6",
           "caxis": {
            "gridcolor": "white",
            "linecolor": "white",
            "ticks": ""
           }
          },
          "title": {
           "x": 0.05
          },
          "xaxis": {
           "automargin": true,
           "gridcolor": "white",
           "linecolor": "white",
           "ticks": "",
           "title": {
            "standoff": 15
           },
           "zerolinecolor": "white",
           "zerolinewidth": 2
          },
          "yaxis": {
           "automargin": true,
           "gridcolor": "white",
           "linecolor": "white",
           "ticks": "",
           "title": {
            "standoff": 15
           },
           "zerolinecolor": "white",
           "zerolinewidth": 2
          }
         }
        },
        "title": {
         "text": "Confusion Matrix"
        },
        "width": 800,
        "xaxis": {
         "anchor": "y",
         "constrain": "domain",
         "domain": [
          0,
          1
         ],
         "scaleanchor": "y",
         "title": {
          "text": "Predicted Label"
         }
        },
        "yaxis": {
         "anchor": "x",
         "autorange": "reversed",
         "constrain": "domain",
         "domain": [
          0,
          1
         ],
         "title": {
          "text": "True Label"
         }
        }
       }
      }
     },
     "metadata": {},
     "output_type": "display_data"
    }
   ],
   "source": [
    "print(\"Decision Tree - Best Params:\", DT_grid_search.best_params_)\n",
    "print(\"Decision Tree - Best Estimator:\", DT_grid_search.best_estimator_)\n",
    "print(\"Decision Tree - Best Score:\", DT_grid_search.best_score_)\n",
    "print(\"Accuracy:\",accuracy_DT)\n",
    "print(Confusion_DT)\n",
    "Plot_5(y_test,y_pred_DT)"
   ]
  },
  {
   "cell_type": "markdown",
   "metadata": {},
   "source": [
    "##  Random Forest"
   ]
  },
  {
   "cell_type": "code",
   "execution_count": 196,
   "metadata": {},
   "outputs": [
    {
     "name": "stdout",
     "output_type": "stream",
     "text": [
      "Fitting 5 folds for each of 54 candidates, totalling 270 fits\n",
      "[CV] END max_depth=10, max_features=sqrt, min_samples_split=2, n_estimators=100; total time=   0.5s\n",
      "[CV] END max_depth=10, max_features=sqrt, min_samples_split=2, n_estimators=100; total time=   0.5s\n",
      "[CV] END max_depth=10, max_features=sqrt, min_samples_split=2, n_estimators=100; total time=   0.6s\n",
      "[CV] END max_depth=10, max_features=sqrt, min_samples_split=2, n_estimators=100; total time=   0.5s\n",
      "[CV] END max_depth=10, max_features=sqrt, min_samples_split=2, n_estimators=100; total time=   0.6s\n",
      "[CV] END max_depth=10, max_features=sqrt, min_samples_split=2, n_estimators=200; total time=   1.3s\n",
      "[CV] END max_depth=10, max_features=sqrt, min_samples_split=2, n_estimators=200; total time=   1.3s\n",
      "[CV] END max_depth=10, max_features=sqrt, min_samples_split=2, n_estimators=200; total time=   1.5s\n",
      "[CV] END max_depth=10, max_features=sqrt, min_samples_split=2, n_estimators=200; total time=   1.3s\n",
      "[CV] END max_depth=10, max_features=sqrt, min_samples_split=2, n_estimators=200; total time=   1.3s\n",
      "[CV] END max_depth=10, max_features=sqrt, min_samples_split=2, n_estimators=300; total time=   2.2s\n",
      "[CV] END max_depth=10, max_features=sqrt, min_samples_split=2, n_estimators=300; total time=   2.0s\n",
      "[CV] END max_depth=10, max_features=sqrt, min_samples_split=2, n_estimators=300; total time=   2.6s\n",
      "[CV] END max_depth=10, max_features=sqrt, min_samples_split=2, n_estimators=300; total time=   2.0s\n",
      "[CV] END max_depth=10, max_features=sqrt, min_samples_split=2, n_estimators=300; total time=   2.0s\n",
      "[CV] END max_depth=10, max_features=sqrt, min_samples_split=5, n_estimators=100; total time=   0.6s\n",
      "[CV] END max_depth=10, max_features=sqrt, min_samples_split=5, n_estimators=100; total time=   0.6s\n",
      "[CV] END max_depth=10, max_features=sqrt, min_samples_split=5, n_estimators=100; total time=   0.6s\n",
      "[CV] END max_depth=10, max_features=sqrt, min_samples_split=5, n_estimators=100; total time=   0.6s\n",
      "[CV] END max_depth=10, max_features=sqrt, min_samples_split=5, n_estimators=100; total time=   0.6s\n",
      "[CV] END max_depth=10, max_features=sqrt, min_samples_split=5, n_estimators=200; total time=   1.3s\n",
      "[CV] END max_depth=10, max_features=sqrt, min_samples_split=5, n_estimators=200; total time=   1.4s\n",
      "[CV] END max_depth=10, max_features=sqrt, min_samples_split=5, n_estimators=200; total time=   1.2s\n",
      "[CV] END max_depth=10, max_features=sqrt, min_samples_split=5, n_estimators=200; total time=   1.2s\n",
      "[CV] END max_depth=10, max_features=sqrt, min_samples_split=5, n_estimators=200; total time=   1.4s\n",
      "[CV] END max_depth=10, max_features=sqrt, min_samples_split=5, n_estimators=300; total time=   2.2s\n",
      "[CV] END max_depth=10, max_features=sqrt, min_samples_split=5, n_estimators=300; total time=   1.8s\n",
      "[CV] END max_depth=10, max_features=sqrt, min_samples_split=5, n_estimators=300; total time=   2.6s\n",
      "[CV] END max_depth=10, max_features=sqrt, min_samples_split=5, n_estimators=300; total time=   2.5s\n",
      "[CV] END max_depth=10, max_features=sqrt, min_samples_split=5, n_estimators=300; total time=   2.6s\n",
      "[CV] END max_depth=10, max_features=sqrt, min_samples_split=10, n_estimators=100; total time=   0.7s\n",
      "[CV] END max_depth=10, max_features=sqrt, min_samples_split=10, n_estimators=100; total time=   0.7s\n",
      "[CV] END max_depth=10, max_features=sqrt, min_samples_split=10, n_estimators=100; total time=   0.6s\n",
      "[CV] END max_depth=10, max_features=sqrt, min_samples_split=10, n_estimators=100; total time=   0.6s\n",
      "[CV] END max_depth=10, max_features=sqrt, min_samples_split=10, n_estimators=100; total time=   0.6s\n",
      "[CV] END max_depth=10, max_features=sqrt, min_samples_split=10, n_estimators=200; total time=   1.4s\n",
      "[CV] END max_depth=10, max_features=sqrt, min_samples_split=10, n_estimators=200; total time=   1.6s\n",
      "[CV] END max_depth=10, max_features=sqrt, min_samples_split=10, n_estimators=200; total time=   1.4s\n",
      "[CV] END max_depth=10, max_features=sqrt, min_samples_split=10, n_estimators=200; total time=   1.7s\n",
      "[CV] END max_depth=10, max_features=sqrt, min_samples_split=10, n_estimators=200; total time=   1.8s\n",
      "[CV] END max_depth=10, max_features=sqrt, min_samples_split=10, n_estimators=300; total time=   2.4s\n",
      "[CV] END max_depth=10, max_features=sqrt, min_samples_split=10, n_estimators=300; total time=   2.7s\n",
      "[CV] END max_depth=10, max_features=sqrt, min_samples_split=10, n_estimators=300; total time=   2.6s\n",
      "[CV] END max_depth=10, max_features=sqrt, min_samples_split=10, n_estimators=300; total time=   2.0s\n",
      "[CV] END max_depth=10, max_features=sqrt, min_samples_split=10, n_estimators=300; total time=   2.8s\n",
      "[CV] END max_depth=10, max_features=log2, min_samples_split=2, n_estimators=100; total time=   1.0s\n",
      "[CV] END max_depth=10, max_features=log2, min_samples_split=2, n_estimators=100; total time=   0.6s\n",
      "[CV] END max_depth=10, max_features=log2, min_samples_split=2, n_estimators=100; total time=   0.6s\n",
      "[CV] END max_depth=10, max_features=log2, min_samples_split=2, n_estimators=100; total time=   0.6s\n",
      "[CV] END max_depth=10, max_features=log2, min_samples_split=2, n_estimators=100; total time=   0.6s\n",
      "[CV] END max_depth=10, max_features=log2, min_samples_split=2, n_estimators=200; total time=   1.5s\n",
      "[CV] END max_depth=10, max_features=log2, min_samples_split=2, n_estimators=200; total time=   1.5s\n",
      "[CV] END max_depth=10, max_features=log2, min_samples_split=2, n_estimators=200; total time=   1.6s\n",
      "[CV] END max_depth=10, max_features=log2, min_samples_split=2, n_estimators=200; total time=   1.6s\n",
      "[CV] END max_depth=10, max_features=log2, min_samples_split=2, n_estimators=200; total time=   1.5s\n",
      "[CV] END max_depth=10, max_features=log2, min_samples_split=2, n_estimators=300; total time=   2.1s\n",
      "[CV] END max_depth=10, max_features=log2, min_samples_split=2, n_estimators=300; total time=   2.2s\n",
      "[CV] END max_depth=10, max_features=log2, min_samples_split=2, n_estimators=300; total time=   2.1s\n",
      "[CV] END max_depth=10, max_features=log2, min_samples_split=2, n_estimators=300; total time=   2.2s\n",
      "[CV] END max_depth=10, max_features=log2, min_samples_split=2, n_estimators=300; total time=   2.0s\n",
      "[CV] END max_depth=10, max_features=log2, min_samples_split=5, n_estimators=100; total time=   0.6s\n",
      "[CV] END max_depth=10, max_features=log2, min_samples_split=5, n_estimators=100; total time=   0.6s\n",
      "[CV] END max_depth=10, max_features=log2, min_samples_split=5, n_estimators=100; total time=   0.6s\n",
      "[CV] END max_depth=10, max_features=log2, min_samples_split=5, n_estimators=100; total time=   0.6s\n",
      "[CV] END max_depth=10, max_features=log2, min_samples_split=5, n_estimators=100; total time=   0.8s\n",
      "[CV] END max_depth=10, max_features=log2, min_samples_split=5, n_estimators=200; total time=   2.1s\n",
      "[CV] END max_depth=10, max_features=log2, min_samples_split=5, n_estimators=200; total time=   2.0s\n",
      "[CV] END max_depth=10, max_features=log2, min_samples_split=5, n_estimators=200; total time=   1.9s\n",
      "[CV] END max_depth=10, max_features=log2, min_samples_split=5, n_estimators=200; total time=   1.5s\n",
      "[CV] END max_depth=10, max_features=log2, min_samples_split=5, n_estimators=200; total time=   1.5s\n",
      "[CV] END max_depth=10, max_features=log2, min_samples_split=5, n_estimators=300; total time=   2.2s\n",
      "[CV] END max_depth=10, max_features=log2, min_samples_split=5, n_estimators=300; total time=   2.3s\n",
      "[CV] END max_depth=10, max_features=log2, min_samples_split=5, n_estimators=300; total time=   2.2s\n",
      "[CV] END max_depth=10, max_features=log2, min_samples_split=5, n_estimators=300; total time=   2.0s\n",
      "[CV] END max_depth=10, max_features=log2, min_samples_split=5, n_estimators=300; total time=   2.4s\n",
      "[CV] END max_depth=10, max_features=log2, min_samples_split=10, n_estimators=100; total time=   0.7s\n",
      "[CV] END max_depth=10, max_features=log2, min_samples_split=10, n_estimators=100; total time=   0.6s\n",
      "[CV] END max_depth=10, max_features=log2, min_samples_split=10, n_estimators=100; total time=   0.6s\n",
      "[CV] END max_depth=10, max_features=log2, min_samples_split=10, n_estimators=100; total time=   0.7s\n",
      "[CV] END max_depth=10, max_features=log2, min_samples_split=10, n_estimators=100; total time=   0.8s\n",
      "[CV] END max_depth=10, max_features=log2, min_samples_split=10, n_estimators=200; total time=   1.5s\n",
      "[CV] END max_depth=10, max_features=log2, min_samples_split=10, n_estimators=200; total time=   1.6s\n",
      "[CV] END max_depth=10, max_features=log2, min_samples_split=10, n_estimators=200; total time=   1.5s\n",
      "[CV] END max_depth=10, max_features=log2, min_samples_split=10, n_estimators=200; total time=   1.6s\n",
      "[CV] END max_depth=10, max_features=log2, min_samples_split=10, n_estimators=200; total time=   1.8s\n",
      "[CV] END max_depth=10, max_features=log2, min_samples_split=10, n_estimators=300; total time=   2.2s\n",
      "[CV] END max_depth=10, max_features=log2, min_samples_split=10, n_estimators=300; total time=   2.9s\n",
      "[CV] END max_depth=10, max_features=log2, min_samples_split=10, n_estimators=300; total time=   2.2s\n",
      "[CV] END max_depth=10, max_features=log2, min_samples_split=10, n_estimators=300; total time=   2.5s\n",
      "[CV] END max_depth=10, max_features=log2, min_samples_split=10, n_estimators=300; total time=   2.7s\n",
      "[CV] END max_depth=20, max_features=sqrt, min_samples_split=2, n_estimators=100; total time=   0.8s\n",
      "[CV] END max_depth=20, max_features=sqrt, min_samples_split=2, n_estimators=100; total time=   0.8s\n",
      "[CV] END max_depth=20, max_features=sqrt, min_samples_split=2, n_estimators=100; total time=   0.9s\n",
      "[CV] END max_depth=20, max_features=sqrt, min_samples_split=2, n_estimators=100; total time=   0.9s\n",
      "[CV] END max_depth=20, max_features=sqrt, min_samples_split=2, n_estimators=100; total time=   0.9s\n",
      "[CV] END max_depth=20, max_features=sqrt, min_samples_split=2, n_estimators=200; total time=   2.5s\n",
      "[CV] END max_depth=20, max_features=sqrt, min_samples_split=2, n_estimators=200; total time=   2.0s\n",
      "[CV] END max_depth=20, max_features=sqrt, min_samples_split=2, n_estimators=200; total time=   1.6s\n",
      "[CV] END max_depth=20, max_features=sqrt, min_samples_split=2, n_estimators=200; total time=   1.8s\n",
      "[CV] END max_depth=20, max_features=sqrt, min_samples_split=2, n_estimators=200; total time=   1.8s\n",
      "[CV] END max_depth=20, max_features=sqrt, min_samples_split=2, n_estimators=300; total time=   2.9s\n",
      "[CV] END max_depth=20, max_features=sqrt, min_samples_split=2, n_estimators=300; total time=   2.5s\n",
      "[CV] END max_depth=20, max_features=sqrt, min_samples_split=2, n_estimators=300; total time=   2.5s\n",
      "[CV] END max_depth=20, max_features=sqrt, min_samples_split=2, n_estimators=300; total time=   2.5s\n",
      "[CV] END max_depth=20, max_features=sqrt, min_samples_split=2, n_estimators=300; total time=   2.9s\n",
      "[CV] END max_depth=20, max_features=sqrt, min_samples_split=5, n_estimators=100; total time=   1.1s\n",
      "[CV] END max_depth=20, max_features=sqrt, min_samples_split=5, n_estimators=100; total time=   1.0s\n",
      "[CV] END max_depth=20, max_features=sqrt, min_samples_split=5, n_estimators=100; total time=   0.9s\n",
      "[CV] END max_depth=20, max_features=sqrt, min_samples_split=5, n_estimators=100; total time=   0.7s\n",
      "[CV] END max_depth=20, max_features=sqrt, min_samples_split=5, n_estimators=100; total time=   0.7s\n",
      "[CV] END max_depth=20, max_features=sqrt, min_samples_split=5, n_estimators=200; total time=   1.8s\n",
      "[CV] END max_depth=20, max_features=sqrt, min_samples_split=5, n_estimators=200; total time=   1.8s\n",
      "[CV] END max_depth=20, max_features=sqrt, min_samples_split=5, n_estimators=200; total time=   1.6s\n",
      "[CV] END max_depth=20, max_features=sqrt, min_samples_split=5, n_estimators=200; total time=   1.9s\n",
      "[CV] END max_depth=20, max_features=sqrt, min_samples_split=5, n_estimators=200; total time=   2.2s\n",
      "[CV] END max_depth=20, max_features=sqrt, min_samples_split=5, n_estimators=300; total time=   3.0s\n",
      "[CV] END max_depth=20, max_features=sqrt, min_samples_split=5, n_estimators=300; total time=   3.3s\n",
      "[CV] END max_depth=20, max_features=sqrt, min_samples_split=5, n_estimators=300; total time=   3.1s\n",
      "[CV] END max_depth=20, max_features=sqrt, min_samples_split=5, n_estimators=300; total time=   2.9s\n",
      "[CV] END max_depth=20, max_features=sqrt, min_samples_split=5, n_estimators=300; total time=   2.5s\n",
      "[CV] END max_depth=20, max_features=sqrt, min_samples_split=10, n_estimators=100; total time=   0.8s\n",
      "[CV] END max_depth=20, max_features=sqrt, min_samples_split=10, n_estimators=100; total time=   0.8s\n",
      "[CV] END max_depth=20, max_features=sqrt, min_samples_split=10, n_estimators=100; total time=   0.7s\n",
      "[CV] END max_depth=20, max_features=sqrt, min_samples_split=10, n_estimators=100; total time=   0.7s\n",
      "[CV] END max_depth=20, max_features=sqrt, min_samples_split=10, n_estimators=100; total time=   0.7s\n",
      "[CV] END max_depth=20, max_features=sqrt, min_samples_split=10, n_estimators=200; total time=   1.8s\n",
      "[CV] END max_depth=20, max_features=sqrt, min_samples_split=10, n_estimators=200; total time=   1.8s\n",
      "[CV] END max_depth=20, max_features=sqrt, min_samples_split=10, n_estimators=200; total time=   1.5s\n",
      "[CV] END max_depth=20, max_features=sqrt, min_samples_split=10, n_estimators=200; total time=   2.0s\n",
      "[CV] END max_depth=20, max_features=sqrt, min_samples_split=10, n_estimators=200; total time=   2.0s\n",
      "[CV] END max_depth=20, max_features=sqrt, min_samples_split=10, n_estimators=300; total time=   3.1s\n",
      "[CV] END max_depth=20, max_features=sqrt, min_samples_split=10, n_estimators=300; total time=   2.8s\n",
      "[CV] END max_depth=20, max_features=sqrt, min_samples_split=10, n_estimators=300; total time=   2.4s\n",
      "[CV] END max_depth=20, max_features=sqrt, min_samples_split=10, n_estimators=300; total time=   2.7s\n",
      "[CV] END max_depth=20, max_features=sqrt, min_samples_split=10, n_estimators=300; total time=   2.6s\n",
      "[CV] END max_depth=20, max_features=log2, min_samples_split=2, n_estimators=100; total time=   1.0s\n",
      "[CV] END max_depth=20, max_features=log2, min_samples_split=2, n_estimators=100; total time=   0.9s\n",
      "[CV] END max_depth=20, max_features=log2, min_samples_split=2, n_estimators=100; total time=   0.8s\n",
      "[CV] END max_depth=20, max_features=log2, min_samples_split=2, n_estimators=100; total time=   0.9s\n",
      "[CV] END max_depth=20, max_features=log2, min_samples_split=2, n_estimators=100; total time=   1.0s\n",
      "[CV] END max_depth=20, max_features=log2, min_samples_split=2, n_estimators=200; total time=   2.2s\n",
      "[CV] END max_depth=20, max_features=log2, min_samples_split=2, n_estimators=200; total time=   2.3s\n",
      "[CV] END max_depth=20, max_features=log2, min_samples_split=2, n_estimators=200; total time=   2.0s\n",
      "[CV] END max_depth=20, max_features=log2, min_samples_split=2, n_estimators=200; total time=   2.4s\n",
      "[CV] END max_depth=20, max_features=log2, min_samples_split=2, n_estimators=200; total time=   2.3s\n",
      "[CV] END max_depth=20, max_features=log2, min_samples_split=2, n_estimators=300; total time=   2.7s\n",
      "[CV] END max_depth=20, max_features=log2, min_samples_split=2, n_estimators=300; total time=   3.3s\n",
      "[CV] END max_depth=20, max_features=log2, min_samples_split=2, n_estimators=300; total time=   3.2s\n",
      "[CV] END max_depth=20, max_features=log2, min_samples_split=2, n_estimators=300; total time=   3.0s\n",
      "[CV] END max_depth=20, max_features=log2, min_samples_split=2, n_estimators=300; total time=   3.7s\n",
      "[CV] END max_depth=20, max_features=log2, min_samples_split=5, n_estimators=100; total time=   1.2s\n",
      "[CV] END max_depth=20, max_features=log2, min_samples_split=5, n_estimators=100; total time=   1.1s\n",
      "[CV] END max_depth=20, max_features=log2, min_samples_split=5, n_estimators=100; total time=   0.9s\n",
      "[CV] END max_depth=20, max_features=log2, min_samples_split=5, n_estimators=100; total time=   0.7s\n",
      "[CV] END max_depth=20, max_features=log2, min_samples_split=5, n_estimators=100; total time=   0.9s\n",
      "[CV] END max_depth=20, max_features=log2, min_samples_split=5, n_estimators=200; total time=   2.1s\n",
      "[CV] END max_depth=20, max_features=log2, min_samples_split=5, n_estimators=200; total time=   1.6s\n",
      "[CV] END max_depth=20, max_features=log2, min_samples_split=5, n_estimators=200; total time=   1.8s\n",
      "[CV] END max_depth=20, max_features=log2, min_samples_split=5, n_estimators=200; total time=   1.7s\n",
      "[CV] END max_depth=20, max_features=log2, min_samples_split=5, n_estimators=200; total time=   1.7s\n",
      "[CV] END max_depth=20, max_features=log2, min_samples_split=5, n_estimators=300; total time=   2.5s\n",
      "[CV] END max_depth=20, max_features=log2, min_samples_split=5, n_estimators=300; total time=   2.5s\n",
      "[CV] END max_depth=20, max_features=log2, min_samples_split=5, n_estimators=300; total time=   2.5s\n",
      "[CV] END max_depth=20, max_features=log2, min_samples_split=5, n_estimators=300; total time=   2.4s\n",
      "[CV] END max_depth=20, max_features=log2, min_samples_split=5, n_estimators=300; total time=   2.5s\n",
      "[CV] END max_depth=20, max_features=log2, min_samples_split=10, n_estimators=100; total time=   0.7s\n",
      "[CV] END max_depth=20, max_features=log2, min_samples_split=10, n_estimators=100; total time=   0.7s\n",
      "[CV] END max_depth=20, max_features=log2, min_samples_split=10, n_estimators=100; total time=   0.7s\n",
      "[CV] END max_depth=20, max_features=log2, min_samples_split=10, n_estimators=100; total time=   0.7s\n",
      "[CV] END max_depth=20, max_features=log2, min_samples_split=10, n_estimators=100; total time=   0.7s\n",
      "[CV] END max_depth=20, max_features=log2, min_samples_split=10, n_estimators=200; total time=   1.7s\n",
      "[CV] END max_depth=20, max_features=log2, min_samples_split=10, n_estimators=200; total time=   1.6s\n",
      "[CV] END max_depth=20, max_features=log2, min_samples_split=10, n_estimators=200; total time=   1.8s\n",
      "[CV] END max_depth=20, max_features=log2, min_samples_split=10, n_estimators=200; total time=   1.6s\n",
      "[CV] END max_depth=20, max_features=log2, min_samples_split=10, n_estimators=200; total time=   1.7s\n",
      "[CV] END max_depth=20, max_features=log2, min_samples_split=10, n_estimators=300; total time=   2.3s\n",
      "[CV] END max_depth=20, max_features=log2, min_samples_split=10, n_estimators=300; total time=   2.3s\n",
      "[CV] END max_depth=20, max_features=log2, min_samples_split=10, n_estimators=300; total time=   2.6s\n",
      "[CV] END max_depth=20, max_features=log2, min_samples_split=10, n_estimators=300; total time=   2.3s\n",
      "[CV] END max_depth=20, max_features=log2, min_samples_split=10, n_estimators=300; total time=   2.3s\n",
      "[CV] END max_depth=30, max_features=sqrt, min_samples_split=2, n_estimators=100; total time=   0.8s\n",
      "[CV] END max_depth=30, max_features=sqrt, min_samples_split=2, n_estimators=100; total time=   0.8s\n",
      "[CV] END max_depth=30, max_features=sqrt, min_samples_split=2, n_estimators=100; total time=   0.8s\n",
      "[CV] END max_depth=30, max_features=sqrt, min_samples_split=2, n_estimators=100; total time=   0.7s\n",
      "[CV] END max_depth=30, max_features=sqrt, min_samples_split=2, n_estimators=100; total time=   0.7s\n",
      "[CV] END max_depth=30, max_features=sqrt, min_samples_split=2, n_estimators=200; total time=   1.8s\n",
      "[CV] END max_depth=30, max_features=sqrt, min_samples_split=2, n_estimators=200; total time=   1.7s\n",
      "[CV] END max_depth=30, max_features=sqrt, min_samples_split=2, n_estimators=200; total time=   1.6s\n",
      "[CV] END max_depth=30, max_features=sqrt, min_samples_split=2, n_estimators=200; total time=   1.7s\n",
      "[CV] END max_depth=30, max_features=sqrt, min_samples_split=2, n_estimators=200; total time=   1.7s\n",
      "[CV] END max_depth=30, max_features=sqrt, min_samples_split=2, n_estimators=300; total time=   2.6s\n",
      "[CV] END max_depth=30, max_features=sqrt, min_samples_split=2, n_estimators=300; total time=   2.4s\n",
      "[CV] END max_depth=30, max_features=sqrt, min_samples_split=2, n_estimators=300; total time=   2.5s\n",
      "[CV] END max_depth=30, max_features=sqrt, min_samples_split=2, n_estimators=300; total time=   2.6s\n",
      "[CV] END max_depth=30, max_features=sqrt, min_samples_split=2, n_estimators=300; total time=   2.6s\n",
      "[CV] END max_depth=30, max_features=sqrt, min_samples_split=5, n_estimators=100; total time=   0.7s\n",
      "[CV] END max_depth=30, max_features=sqrt, min_samples_split=5, n_estimators=100; total time=   0.7s\n",
      "[CV] END max_depth=30, max_features=sqrt, min_samples_split=5, n_estimators=100; total time=   0.8s\n",
      "[CV] END max_depth=30, max_features=sqrt, min_samples_split=5, n_estimators=100; total time=   0.7s\n",
      "[CV] END max_depth=30, max_features=sqrt, min_samples_split=5, n_estimators=100; total time=   0.8s\n",
      "[CV] END max_depth=30, max_features=sqrt, min_samples_split=5, n_estimators=200; total time=   1.9s\n",
      "[CV] END max_depth=30, max_features=sqrt, min_samples_split=5, n_estimators=200; total time=   1.6s\n",
      "[CV] END max_depth=30, max_features=sqrt, min_samples_split=5, n_estimators=200; total time=   1.6s\n",
      "[CV] END max_depth=30, max_features=sqrt, min_samples_split=5, n_estimators=200; total time=   1.9s\n",
      "[CV] END max_depth=30, max_features=sqrt, min_samples_split=5, n_estimators=200; total time=   1.6s\n",
      "[CV] END max_depth=30, max_features=sqrt, min_samples_split=5, n_estimators=300; total time=   2.4s\n",
      "[CV] END max_depth=30, max_features=sqrt, min_samples_split=5, n_estimators=300; total time=   2.7s\n",
      "[CV] END max_depth=30, max_features=sqrt, min_samples_split=5, n_estimators=300; total time=   2.4s\n",
      "[CV] END max_depth=30, max_features=sqrt, min_samples_split=5, n_estimators=300; total time=   2.4s\n",
      "[CV] END max_depth=30, max_features=sqrt, min_samples_split=5, n_estimators=300; total time=   2.6s\n",
      "[CV] END max_depth=30, max_features=sqrt, min_samples_split=10, n_estimators=100; total time=   0.7s\n",
      "[CV] END max_depth=30, max_features=sqrt, min_samples_split=10, n_estimators=100; total time=   0.7s\n",
      "[CV] END max_depth=30, max_features=sqrt, min_samples_split=10, n_estimators=100; total time=   0.8s\n",
      "[CV] END max_depth=30, max_features=sqrt, min_samples_split=10, n_estimators=100; total time=   0.8s\n",
      "[CV] END max_depth=30, max_features=sqrt, min_samples_split=10, n_estimators=100; total time=   0.7s\n",
      "[CV] END max_depth=30, max_features=sqrt, min_samples_split=10, n_estimators=200; total time=   1.5s\n",
      "[CV] END max_depth=30, max_features=sqrt, min_samples_split=10, n_estimators=200; total time=   1.7s\n",
      "[CV] END max_depth=30, max_features=sqrt, min_samples_split=10, n_estimators=200; total time=   1.8s\n",
      "[CV] END max_depth=30, max_features=sqrt, min_samples_split=10, n_estimators=200; total time=   1.5s\n",
      "[CV] END max_depth=30, max_features=sqrt, min_samples_split=10, n_estimators=200; total time=   1.6s\n",
      "[CV] END max_depth=30, max_features=sqrt, min_samples_split=10, n_estimators=300; total time=   2.4s\n",
      "[CV] END max_depth=30, max_features=sqrt, min_samples_split=10, n_estimators=300; total time=   2.2s\n",
      "[CV] END max_depth=30, max_features=sqrt, min_samples_split=10, n_estimators=300; total time=   2.5s\n",
      "[CV] END max_depth=30, max_features=sqrt, min_samples_split=10, n_estimators=300; total time=   2.3s\n",
      "[CV] END max_depth=30, max_features=sqrt, min_samples_split=10, n_estimators=300; total time=   2.4s\n",
      "[CV] END max_depth=30, max_features=log2, min_samples_split=2, n_estimators=100; total time=   0.8s\n",
      "[CV] END max_depth=30, max_features=log2, min_samples_split=2, n_estimators=100; total time=   0.8s\n",
      "[CV] END max_depth=30, max_features=log2, min_samples_split=2, n_estimators=100; total time=   0.8s\n",
      "[CV] END max_depth=30, max_features=log2, min_samples_split=2, n_estimators=100; total time=   0.8s\n",
      "[CV] END max_depth=30, max_features=log2, min_samples_split=2, n_estimators=100; total time=   0.8s\n",
      "[CV] END max_depth=30, max_features=log2, min_samples_split=2, n_estimators=200; total time=   1.6s\n",
      "[CV] END max_depth=30, max_features=log2, min_samples_split=2, n_estimators=200; total time=   2.0s\n",
      "[CV] END max_depth=30, max_features=log2, min_samples_split=2, n_estimators=200; total time=   1.6s\n",
      "[CV] END max_depth=30, max_features=log2, min_samples_split=2, n_estimators=200; total time=   1.6s\n",
      "[CV] END max_depth=30, max_features=log2, min_samples_split=2, n_estimators=200; total time=   1.8s\n",
      "[CV] END max_depth=30, max_features=log2, min_samples_split=2, n_estimators=300; total time=   2.5s\n",
      "[CV] END max_depth=30, max_features=log2, min_samples_split=2, n_estimators=300; total time=   2.7s\n",
      "[CV] END max_depth=30, max_features=log2, min_samples_split=2, n_estimators=300; total time=   2.9s\n",
      "[CV] END max_depth=30, max_features=log2, min_samples_split=2, n_estimators=300; total time=   2.6s\n",
      "[CV] END max_depth=30, max_features=log2, min_samples_split=2, n_estimators=300; total time=   2.7s\n",
      "[CV] END max_depth=30, max_features=log2, min_samples_split=5, n_estimators=100; total time=   0.7s\n",
      "[CV] END max_depth=30, max_features=log2, min_samples_split=5, n_estimators=100; total time=   0.7s\n",
      "[CV] END max_depth=30, max_features=log2, min_samples_split=5, n_estimators=100; total time=   0.7s\n",
      "[CV] END max_depth=30, max_features=log2, min_samples_split=5, n_estimators=100; total time=   0.7s\n",
      "[CV] END max_depth=30, max_features=log2, min_samples_split=5, n_estimators=100; total time=   0.8s\n",
      "[CV] END max_depth=30, max_features=log2, min_samples_split=5, n_estimators=200; total time=   1.8s\n",
      "[CV] END max_depth=30, max_features=log2, min_samples_split=5, n_estimators=200; total time=   1.6s\n",
      "[CV] END max_depth=30, max_features=log2, min_samples_split=5, n_estimators=200; total time=   1.6s\n",
      "[CV] END max_depth=30, max_features=log2, min_samples_split=5, n_estimators=200; total time=   1.9s\n",
      "[CV] END max_depth=30, max_features=log2, min_samples_split=5, n_estimators=200; total time=   1.6s\n",
      "[CV] END max_depth=30, max_features=log2, min_samples_split=5, n_estimators=300; total time=   2.5s\n",
      "[CV] END max_depth=30, max_features=log2, min_samples_split=5, n_estimators=300; total time=   2.4s\n",
      "[CV] END max_depth=30, max_features=log2, min_samples_split=5, n_estimators=300; total time=   2.5s\n",
      "[CV] END max_depth=30, max_features=log2, min_samples_split=5, n_estimators=300; total time=   2.5s\n",
      "[CV] END max_depth=30, max_features=log2, min_samples_split=5, n_estimators=300; total time=   2.5s\n",
      "[CV] END max_depth=30, max_features=log2, min_samples_split=10, n_estimators=100; total time=   0.7s\n",
      "[CV] END max_depth=30, max_features=log2, min_samples_split=10, n_estimators=100; total time=   0.7s\n",
      "[CV] END max_depth=30, max_features=log2, min_samples_split=10, n_estimators=100; total time=   0.8s\n",
      "[CV] END max_depth=30, max_features=log2, min_samples_split=10, n_estimators=100; total time=   0.7s\n",
      "[CV] END max_depth=30, max_features=log2, min_samples_split=10, n_estimators=100; total time=   0.7s\n",
      "[CV] END max_depth=30, max_features=log2, min_samples_split=10, n_estimators=200; total time=   1.6s\n",
      "[CV] END max_depth=30, max_features=log2, min_samples_split=10, n_estimators=200; total time=   1.5s\n",
      "[CV] END max_depth=30, max_features=log2, min_samples_split=10, n_estimators=200; total time=   1.6s\n",
      "[CV] END max_depth=30, max_features=log2, min_samples_split=10, n_estimators=200; total time=   1.6s\n",
      "[CV] END max_depth=30, max_features=log2, min_samples_split=10, n_estimators=200; total time=   1.5s\n",
      "[CV] END max_depth=30, max_features=log2, min_samples_split=10, n_estimators=300; total time=   2.6s\n",
      "[CV] END max_depth=30, max_features=log2, min_samples_split=10, n_estimators=300; total time=   2.3s\n",
      "[CV] END max_depth=30, max_features=log2, min_samples_split=10, n_estimators=300; total time=   2.4s\n",
      "[CV] END max_depth=30, max_features=log2, min_samples_split=10, n_estimators=300; total time=   2.5s\n",
      "[CV] END max_depth=30, max_features=log2, min_samples_split=10, n_estimators=300; total time=   2.4s\n"
     ]
    }
   ],
   "source": [
    "Model_RF = RandomForestClassifier()\n",
    "Model_RF.fit(X_train,y_train)\n",
    "\n",
    "\n",
    "RF_param_grid = {\n",
    "    'n_estimators': [100, 200, 300],\n",
    "    'max_depth': [10, 20, 30],\n",
    "    'min_samples_split': [2, 5, 10],\n",
    "    'max_features': [ 'sqrt', 'log2']   \n",
    "}\n",
    "\n",
    "RF_grid_search = GridSearchCV(estimator=RandomForestClassifier(), param_grid=RF_param_grid, scoring = 'accuracy',cv=5,verbose= 2)\n",
    "RF_grid_search.fit(X_train, y_train)\n",
    "\n",
    "\n",
    "y_pred_RF = RF_grid_search.predict(X_test)\n",
    "accuracy_RF = accuracy_score(y_test,y_pred_RF)\n",
    "Confusion_RF = confusion_matrix(y_test,y_pred_RF)"
   ]
  },
  {
   "cell_type": "code",
   "execution_count": 197,
   "metadata": {},
   "outputs": [
    {
     "name": "stdout",
     "output_type": "stream",
     "text": [
      "Accuracy: 0.9131313131313131\n",
      "[[904  49  16  13]\n",
      " [ 60 852  20  23]\n",
      " [ 24  45 892  29]\n",
      " [ 20  31  14 968]]\n",
      "Random Forest - Best Params: {'max_depth': 20, 'max_features': 'sqrt', 'min_samples_split': 2, 'n_estimators': 200}\n",
      "Random Forest - Best Estimator: RandomForestClassifier(max_depth=20, n_estimators=200)\n",
      "Random Forest - Best Score: 0.9185064935064936\n"
     ]
    },
    {
     "data": {
      "application/vnd.plotly.v1+json": {
       "config": {
        "plotlyServerURL": "https://plot.ly"
       },
       "data": [
        {
         "coloraxis": "coloraxis",
         "hovertemplate": "Predicted Label: %{x}<br>True Label: %{y}<br>Count: %{z}<extra></extra>",
         "name": "0",
         "texttemplate": "%{z}",
         "type": "heatmap",
         "x": [
          "Rainy",
          "Cloudy",
          "Sunny",
          "Snowy"
         ],
         "xaxis": "x",
         "y": [
          "Rainy",
          "Cloudy",
          "Sunny",
          "Snowy"
         ],
         "yaxis": "y",
         "z": [
          [
           904,
           49,
           16,
           13
          ],
          [
           60,
           852,
           20,
           23
          ],
          [
           24,
           45,
           892,
           29
          ],
          [
           20,
           31,
           14,
           968
          ]
         ]
        }
       ],
       "layout": {
        "coloraxis": {
         "colorbar": {
          "title": {
           "text": "Count"
          }
         },
         "colorscale": [
          [
           0,
           "#440154"
          ],
          [
           0.1111111111111111,
           "#482878"
          ],
          [
           0.2222222222222222,
           "#3e4989"
          ],
          [
           0.3333333333333333,
           "#31688e"
          ],
          [
           0.4444444444444444,
           "#26828e"
          ],
          [
           0.5555555555555556,
           "#1f9e89"
          ],
          [
           0.6666666666666666,
           "#35b779"
          ],
          [
           0.7777777777777778,
           "#6ece58"
          ],
          [
           0.8888888888888888,
           "#b5de2b"
          ],
          [
           1,
           "#fde725"
          ]
         ]
        },
        "height": 400,
        "margin": {
         "t": 60
        },
        "template": {
         "data": {
          "bar": [
           {
            "error_x": {
             "color": "#2a3f5f"
            },
            "error_y": {
             "color": "#2a3f5f"
            },
            "marker": {
             "line": {
              "color": "#E5ECF6",
              "width": 0.5
             },
             "pattern": {
              "fillmode": "overlay",
              "size": 10,
              "solidity": 0.2
             }
            },
            "type": "bar"
           }
          ],
          "barpolar": [
           {
            "marker": {
             "line": {
              "color": "#E5ECF6",
              "width": 0.5
             },
             "pattern": {
              "fillmode": "overlay",
              "size": 10,
              "solidity": 0.2
             }
            },
            "type": "barpolar"
           }
          ],
          "carpet": [
           {
            "aaxis": {
             "endlinecolor": "#2a3f5f",
             "gridcolor": "white",
             "linecolor": "white",
             "minorgridcolor": "white",
             "startlinecolor": "#2a3f5f"
            },
            "baxis": {
             "endlinecolor": "#2a3f5f",
             "gridcolor": "white",
             "linecolor": "white",
             "minorgridcolor": "white",
             "startlinecolor": "#2a3f5f"
            },
            "type": "carpet"
           }
          ],
          "choropleth": [
           {
            "colorbar": {
             "outlinewidth": 0,
             "ticks": ""
            },
            "type": "choropleth"
           }
          ],
          "contour": [
           {
            "colorbar": {
             "outlinewidth": 0,
             "ticks": ""
            },
            "colorscale": [
             [
              0,
              "#0d0887"
             ],
             [
              0.1111111111111111,
              "#46039f"
             ],
             [
              0.2222222222222222,
              "#7201a8"
             ],
             [
              0.3333333333333333,
              "#9c179e"
             ],
             [
              0.4444444444444444,
              "#bd3786"
             ],
             [
              0.5555555555555556,
              "#d8576b"
             ],
             [
              0.6666666666666666,
              "#ed7953"
             ],
             [
              0.7777777777777778,
              "#fb9f3a"
             ],
             [
              0.8888888888888888,
              "#fdca26"
             ],
             [
              1,
              "#f0f921"
             ]
            ],
            "type": "contour"
           }
          ],
          "contourcarpet": [
           {
            "colorbar": {
             "outlinewidth": 0,
             "ticks": ""
            },
            "type": "contourcarpet"
           }
          ],
          "heatmap": [
           {
            "colorbar": {
             "outlinewidth": 0,
             "ticks": ""
            },
            "colorscale": [
             [
              0,
              "#0d0887"
             ],
             [
              0.1111111111111111,
              "#46039f"
             ],
             [
              0.2222222222222222,
              "#7201a8"
             ],
             [
              0.3333333333333333,
              "#9c179e"
             ],
             [
              0.4444444444444444,
              "#bd3786"
             ],
             [
              0.5555555555555556,
              "#d8576b"
             ],
             [
              0.6666666666666666,
              "#ed7953"
             ],
             [
              0.7777777777777778,
              "#fb9f3a"
             ],
             [
              0.8888888888888888,
              "#fdca26"
             ],
             [
              1,
              "#f0f921"
             ]
            ],
            "type": "heatmap"
           }
          ],
          "heatmapgl": [
           {
            "colorbar": {
             "outlinewidth": 0,
             "ticks": ""
            },
            "colorscale": [
             [
              0,
              "#0d0887"
             ],
             [
              0.1111111111111111,
              "#46039f"
             ],
             [
              0.2222222222222222,
              "#7201a8"
             ],
             [
              0.3333333333333333,
              "#9c179e"
             ],
             [
              0.4444444444444444,
              "#bd3786"
             ],
             [
              0.5555555555555556,
              "#d8576b"
             ],
             [
              0.6666666666666666,
              "#ed7953"
             ],
             [
              0.7777777777777778,
              "#fb9f3a"
             ],
             [
              0.8888888888888888,
              "#fdca26"
             ],
             [
              1,
              "#f0f921"
             ]
            ],
            "type": "heatmapgl"
           }
          ],
          "histogram": [
           {
            "marker": {
             "pattern": {
              "fillmode": "overlay",
              "size": 10,
              "solidity": 0.2
             }
            },
            "type": "histogram"
           }
          ],
          "histogram2d": [
           {
            "colorbar": {
             "outlinewidth": 0,
             "ticks": ""
            },
            "colorscale": [
             [
              0,
              "#0d0887"
             ],
             [
              0.1111111111111111,
              "#46039f"
             ],
             [
              0.2222222222222222,
              "#7201a8"
             ],
             [
              0.3333333333333333,
              "#9c179e"
             ],
             [
              0.4444444444444444,
              "#bd3786"
             ],
             [
              0.5555555555555556,
              "#d8576b"
             ],
             [
              0.6666666666666666,
              "#ed7953"
             ],
             [
              0.7777777777777778,
              "#fb9f3a"
             ],
             [
              0.8888888888888888,
              "#fdca26"
             ],
             [
              1,
              "#f0f921"
             ]
            ],
            "type": "histogram2d"
           }
          ],
          "histogram2dcontour": [
           {
            "colorbar": {
             "outlinewidth": 0,
             "ticks": ""
            },
            "colorscale": [
             [
              0,
              "#0d0887"
             ],
             [
              0.1111111111111111,
              "#46039f"
             ],
             [
              0.2222222222222222,
              "#7201a8"
             ],
             [
              0.3333333333333333,
              "#9c179e"
             ],
             [
              0.4444444444444444,
              "#bd3786"
             ],
             [
              0.5555555555555556,
              "#d8576b"
             ],
             [
              0.6666666666666666,
              "#ed7953"
             ],
             [
              0.7777777777777778,
              "#fb9f3a"
             ],
             [
              0.8888888888888888,
              "#fdca26"
             ],
             [
              1,
              "#f0f921"
             ]
            ],
            "type": "histogram2dcontour"
           }
          ],
          "mesh3d": [
           {
            "colorbar": {
             "outlinewidth": 0,
             "ticks": ""
            },
            "type": "mesh3d"
           }
          ],
          "parcoords": [
           {
            "line": {
             "colorbar": {
              "outlinewidth": 0,
              "ticks": ""
             }
            },
            "type": "parcoords"
           }
          ],
          "pie": [
           {
            "automargin": true,
            "type": "pie"
           }
          ],
          "scatter": [
           {
            "fillpattern": {
             "fillmode": "overlay",
             "size": 10,
             "solidity": 0.2
            },
            "type": "scatter"
           }
          ],
          "scatter3d": [
           {
            "line": {
             "colorbar": {
              "outlinewidth": 0,
              "ticks": ""
             }
            },
            "marker": {
             "colorbar": {
              "outlinewidth": 0,
              "ticks": ""
             }
            },
            "type": "scatter3d"
           }
          ],
          "scattercarpet": [
           {
            "marker": {
             "colorbar": {
              "outlinewidth": 0,
              "ticks": ""
             }
            },
            "type": "scattercarpet"
           }
          ],
          "scattergeo": [
           {
            "marker": {
             "colorbar": {
              "outlinewidth": 0,
              "ticks": ""
             }
            },
            "type": "scattergeo"
           }
          ],
          "scattergl": [
           {
            "marker": {
             "colorbar": {
              "outlinewidth": 0,
              "ticks": ""
             }
            },
            "type": "scattergl"
           }
          ],
          "scattermapbox": [
           {
            "marker": {
             "colorbar": {
              "outlinewidth": 0,
              "ticks": ""
             }
            },
            "type": "scattermapbox"
           }
          ],
          "scatterpolar": [
           {
            "marker": {
             "colorbar": {
              "outlinewidth": 0,
              "ticks": ""
             }
            },
            "type": "scatterpolar"
           }
          ],
          "scatterpolargl": [
           {
            "marker": {
             "colorbar": {
              "outlinewidth": 0,
              "ticks": ""
             }
            },
            "type": "scatterpolargl"
           }
          ],
          "scatterternary": [
           {
            "marker": {
             "colorbar": {
              "outlinewidth": 0,
              "ticks": ""
             }
            },
            "type": "scatterternary"
           }
          ],
          "surface": [
           {
            "colorbar": {
             "outlinewidth": 0,
             "ticks": ""
            },
            "colorscale": [
             [
              0,
              "#0d0887"
             ],
             [
              0.1111111111111111,
              "#46039f"
             ],
             [
              0.2222222222222222,
              "#7201a8"
             ],
             [
              0.3333333333333333,
              "#9c179e"
             ],
             [
              0.4444444444444444,
              "#bd3786"
             ],
             [
              0.5555555555555556,
              "#d8576b"
             ],
             [
              0.6666666666666666,
              "#ed7953"
             ],
             [
              0.7777777777777778,
              "#fb9f3a"
             ],
             [
              0.8888888888888888,
              "#fdca26"
             ],
             [
              1,
              "#f0f921"
             ]
            ],
            "type": "surface"
           }
          ],
          "table": [
           {
            "cells": {
             "fill": {
              "color": "#EBF0F8"
             },
             "line": {
              "color": "white"
             }
            },
            "header": {
             "fill": {
              "color": "#C8D4E3"
             },
             "line": {
              "color": "white"
             }
            },
            "type": "table"
           }
          ]
         },
         "layout": {
          "annotationdefaults": {
           "arrowcolor": "#2a3f5f",
           "arrowhead": 0,
           "arrowwidth": 1
          },
          "autotypenumbers": "strict",
          "coloraxis": {
           "colorbar": {
            "outlinewidth": 0,
            "ticks": ""
           }
          },
          "colorscale": {
           "diverging": [
            [
             0,
             "#8e0152"
            ],
            [
             0.1,
             "#c51b7d"
            ],
            [
             0.2,
             "#de77ae"
            ],
            [
             0.3,
             "#f1b6da"
            ],
            [
             0.4,
             "#fde0ef"
            ],
            [
             0.5,
             "#f7f7f7"
            ],
            [
             0.6,
             "#e6f5d0"
            ],
            [
             0.7,
             "#b8e186"
            ],
            [
             0.8,
             "#7fbc41"
            ],
            [
             0.9,
             "#4d9221"
            ],
            [
             1,
             "#276419"
            ]
           ],
           "sequential": [
            [
             0,
             "#0d0887"
            ],
            [
             0.1111111111111111,
             "#46039f"
            ],
            [
             0.2222222222222222,
             "#7201a8"
            ],
            [
             0.3333333333333333,
             "#9c179e"
            ],
            [
             0.4444444444444444,
             "#bd3786"
            ],
            [
             0.5555555555555556,
             "#d8576b"
            ],
            [
             0.6666666666666666,
             "#ed7953"
            ],
            [
             0.7777777777777778,
             "#fb9f3a"
            ],
            [
             0.8888888888888888,
             "#fdca26"
            ],
            [
             1,
             "#f0f921"
            ]
           ],
           "sequentialminus": [
            [
             0,
             "#0d0887"
            ],
            [
             0.1111111111111111,
             "#46039f"
            ],
            [
             0.2222222222222222,
             "#7201a8"
            ],
            [
             0.3333333333333333,
             "#9c179e"
            ],
            [
             0.4444444444444444,
             "#bd3786"
            ],
            [
             0.5555555555555556,
             "#d8576b"
            ],
            [
             0.6666666666666666,
             "#ed7953"
            ],
            [
             0.7777777777777778,
             "#fb9f3a"
            ],
            [
             0.8888888888888888,
             "#fdca26"
            ],
            [
             1,
             "#f0f921"
            ]
           ]
          },
          "colorway": [
           "#636efa",
           "#EF553B",
           "#00cc96",
           "#ab63fa",
           "#FFA15A",
           "#19d3f3",
           "#FF6692",
           "#B6E880",
           "#FF97FF",
           "#FECB52"
          ],
          "font": {
           "color": "#2a3f5f"
          },
          "geo": {
           "bgcolor": "white",
           "lakecolor": "white",
           "landcolor": "#E5ECF6",
           "showlakes": true,
           "showland": true,
           "subunitcolor": "white"
          },
          "hoverlabel": {
           "align": "left"
          },
          "hovermode": "closest",
          "mapbox": {
           "style": "light"
          },
          "paper_bgcolor": "white",
          "plot_bgcolor": "#E5ECF6",
          "polar": {
           "angularaxis": {
            "gridcolor": "white",
            "linecolor": "white",
            "ticks": ""
           },
           "bgcolor": "#E5ECF6",
           "radialaxis": {
            "gridcolor": "white",
            "linecolor": "white",
            "ticks": ""
           }
          },
          "scene": {
           "xaxis": {
            "backgroundcolor": "#E5ECF6",
            "gridcolor": "white",
            "gridwidth": 2,
            "linecolor": "white",
            "showbackground": true,
            "ticks": "",
            "zerolinecolor": "white"
           },
           "yaxis": {
            "backgroundcolor": "#E5ECF6",
            "gridcolor": "white",
            "gridwidth": 2,
            "linecolor": "white",
            "showbackground": true,
            "ticks": "",
            "zerolinecolor": "white"
           },
           "zaxis": {
            "backgroundcolor": "#E5ECF6",
            "gridcolor": "white",
            "gridwidth": 2,
            "linecolor": "white",
            "showbackground": true,
            "ticks": "",
            "zerolinecolor": "white"
           }
          },
          "shapedefaults": {
           "line": {
            "color": "#2a3f5f"
           }
          },
          "ternary": {
           "aaxis": {
            "gridcolor": "white",
            "linecolor": "white",
            "ticks": ""
           },
           "baxis": {
            "gridcolor": "white",
            "linecolor": "white",
            "ticks": ""
           },
           "bgcolor": "#E5ECF6",
           "caxis": {
            "gridcolor": "white",
            "linecolor": "white",
            "ticks": ""
           }
          },
          "title": {
           "x": 0.05
          },
          "xaxis": {
           "automargin": true,
           "gridcolor": "white",
           "linecolor": "white",
           "ticks": "",
           "title": {
            "standoff": 15
           },
           "zerolinecolor": "white",
           "zerolinewidth": 2
          },
          "yaxis": {
           "automargin": true,
           "gridcolor": "white",
           "linecolor": "white",
           "ticks": "",
           "title": {
            "standoff": 15
           },
           "zerolinecolor": "white",
           "zerolinewidth": 2
          }
         }
        },
        "title": {
         "text": "Confusion Matrix"
        },
        "width": 800,
        "xaxis": {
         "anchor": "y",
         "constrain": "domain",
         "domain": [
          0,
          1
         ],
         "scaleanchor": "y",
         "title": {
          "text": "Predicted Label"
         }
        },
        "yaxis": {
         "anchor": "x",
         "autorange": "reversed",
         "constrain": "domain",
         "domain": [
          0,
          1
         ],
         "title": {
          "text": "True Label"
         }
        }
       }
      }
     },
     "metadata": {},
     "output_type": "display_data"
    }
   ],
   "source": [
    "print(\"Accuracy:\",accuracy_RF)\n",
    "print(Confusion_RF)\n",
    "\n",
    "print(\"Random Forest - Best Params:\", RF_grid_search.best_params_)\n",
    "print(\"Random Forest - Best Estimator:\",RF_grid_search.best_estimator_)\n",
    "print(\"Random Forest - Best Score:\",RF_grid_search.best_score_)\n",
    "Plot_5(y_test,y_pred_RF)"
   ]
  },
  {
   "cell_type": "markdown",
   "metadata": {},
   "source": [
    "### SVM"
   ]
  },
  {
   "cell_type": "code",
   "execution_count": 198,
   "metadata": {},
   "outputs": [
    {
     "name": "stdout",
     "output_type": "stream",
     "text": [
      "Fitting 2 folds for each of 108 candidates, totalling 216 fits\n",
      "[CV] END C=0.1, coef0=0.0, degree=2, gamma=scale, kernel=linear; total time=   0.5s\n",
      "[CV] END C=0.1, coef0=0.0, degree=2, gamma=scale, kernel=linear; total time=   0.6s\n",
      "[CV] END C=0.1, coef0=0.0, degree=2, gamma=scale, kernel=rbf; total time=   2.4s\n",
      "[CV] END C=0.1, coef0=0.0, degree=2, gamma=scale, kernel=rbf; total time=   2.2s\n",
      "[CV] END C=0.1, coef0=0.0, degree=2, gamma=auto, kernel=linear; total time=   0.5s\n",
      "[CV] END C=0.1, coef0=0.0, degree=2, gamma=auto, kernel=linear; total time=   0.6s\n",
      "[CV] END .C=0.1, coef0=0.0, degree=2, gamma=auto, kernel=rbf; total time=   2.8s\n",
      "[CV] END .C=0.1, coef0=0.0, degree=2, gamma=auto, kernel=rbf; total time=   2.8s\n",
      "[CV] END C=0.1, coef0=0.0, degree=3, gamma=scale, kernel=linear; total time=   0.5s\n",
      "[CV] END C=0.1, coef0=0.0, degree=3, gamma=scale, kernel=linear; total time=   0.6s\n",
      "[CV] END C=0.1, coef0=0.0, degree=3, gamma=scale, kernel=rbf; total time=   2.3s\n",
      "[CV] END C=0.1, coef0=0.0, degree=3, gamma=scale, kernel=rbf; total time=   2.4s\n",
      "[CV] END C=0.1, coef0=0.0, degree=3, gamma=auto, kernel=linear; total time=   0.5s\n",
      "[CV] END C=0.1, coef0=0.0, degree=3, gamma=auto, kernel=linear; total time=   0.6s\n",
      "[CV] END .C=0.1, coef0=0.0, degree=3, gamma=auto, kernel=rbf; total time=   2.7s\n",
      "[CV] END .C=0.1, coef0=0.0, degree=3, gamma=auto, kernel=rbf; total time=   3.0s\n",
      "[CV] END C=0.1, coef0=0.0, degree=4, gamma=scale, kernel=linear; total time=   0.6s\n",
      "[CV] END C=0.1, coef0=0.0, degree=4, gamma=scale, kernel=linear; total time=   0.6s\n",
      "[CV] END C=0.1, coef0=0.0, degree=4, gamma=scale, kernel=rbf; total time=   2.1s\n",
      "[CV] END C=0.1, coef0=0.0, degree=4, gamma=scale, kernel=rbf; total time=   2.4s\n",
      "[CV] END C=0.1, coef0=0.0, degree=4, gamma=auto, kernel=linear; total time=   0.6s\n",
      "[CV] END C=0.1, coef0=0.0, degree=4, gamma=auto, kernel=linear; total time=   0.7s\n",
      "[CV] END .C=0.1, coef0=0.0, degree=4, gamma=auto, kernel=rbf; total time=   2.9s\n",
      "[CV] END .C=0.1, coef0=0.0, degree=4, gamma=auto, kernel=rbf; total time=   3.0s\n",
      "[CV] END C=0.1, coef0=0.1, degree=2, gamma=scale, kernel=linear; total time=   0.6s\n",
      "[CV] END C=0.1, coef0=0.1, degree=2, gamma=scale, kernel=linear; total time=   0.8s\n",
      "[CV] END C=0.1, coef0=0.1, degree=2, gamma=scale, kernel=rbf; total time=   2.4s\n",
      "[CV] END C=0.1, coef0=0.1, degree=2, gamma=scale, kernel=rbf; total time=   2.6s\n",
      "[CV] END C=0.1, coef0=0.1, degree=2, gamma=auto, kernel=linear; total time=   0.6s\n",
      "[CV] END C=0.1, coef0=0.1, degree=2, gamma=auto, kernel=linear; total time=   0.6s\n",
      "[CV] END .C=0.1, coef0=0.1, degree=2, gamma=auto, kernel=rbf; total time=   2.7s\n",
      "[CV] END .C=0.1, coef0=0.1, degree=2, gamma=auto, kernel=rbf; total time=   2.8s\n",
      "[CV] END C=0.1, coef0=0.1, degree=3, gamma=scale, kernel=linear; total time=   0.5s\n",
      "[CV] END C=0.1, coef0=0.1, degree=3, gamma=scale, kernel=linear; total time=   0.5s\n",
      "[CV] END C=0.1, coef0=0.1, degree=3, gamma=scale, kernel=rbf; total time=   2.2s\n",
      "[CV] END C=0.1, coef0=0.1, degree=3, gamma=scale, kernel=rbf; total time=   2.3s\n",
      "[CV] END C=0.1, coef0=0.1, degree=3, gamma=auto, kernel=linear; total time=   0.6s\n",
      "[CV] END C=0.1, coef0=0.1, degree=3, gamma=auto, kernel=linear; total time=   0.5s\n",
      "[CV] END .C=0.1, coef0=0.1, degree=3, gamma=auto, kernel=rbf; total time=   2.7s\n",
      "[CV] END .C=0.1, coef0=0.1, degree=3, gamma=auto, kernel=rbf; total time=   2.8s\n",
      "[CV] END C=0.1, coef0=0.1, degree=4, gamma=scale, kernel=linear; total time=   0.5s\n",
      "[CV] END C=0.1, coef0=0.1, degree=4, gamma=scale, kernel=linear; total time=   0.6s\n",
      "[CV] END C=0.1, coef0=0.1, degree=4, gamma=scale, kernel=rbf; total time=   2.2s\n",
      "[CV] END C=0.1, coef0=0.1, degree=4, gamma=scale, kernel=rbf; total time=   2.5s\n",
      "[CV] END C=0.1, coef0=0.1, degree=4, gamma=auto, kernel=linear; total time=   0.5s\n",
      "[CV] END C=0.1, coef0=0.1, degree=4, gamma=auto, kernel=linear; total time=   0.6s\n",
      "[CV] END .C=0.1, coef0=0.1, degree=4, gamma=auto, kernel=rbf; total time=   4.1s\n",
      "[CV] END .C=0.1, coef0=0.1, degree=4, gamma=auto, kernel=rbf; total time=   3.9s\n",
      "[CV] END C=0.1, coef0=0.5, degree=2, gamma=scale, kernel=linear; total time=   0.8s\n",
      "[CV] END C=0.1, coef0=0.5, degree=2, gamma=scale, kernel=linear; total time=   0.6s\n",
      "[CV] END C=0.1, coef0=0.5, degree=2, gamma=scale, kernel=rbf; total time=   2.4s\n",
      "[CV] END C=0.1, coef0=0.5, degree=2, gamma=scale, kernel=rbf; total time=   2.3s\n",
      "[CV] END C=0.1, coef0=0.5, degree=2, gamma=auto, kernel=linear; total time=   0.6s\n",
      "[CV] END C=0.1, coef0=0.5, degree=2, gamma=auto, kernel=linear; total time=   0.6s\n",
      "[CV] END .C=0.1, coef0=0.5, degree=2, gamma=auto, kernel=rbf; total time=   3.0s\n",
      "[CV] END .C=0.1, coef0=0.5, degree=2, gamma=auto, kernel=rbf; total time=   2.6s\n",
      "[CV] END C=0.1, coef0=0.5, degree=3, gamma=scale, kernel=linear; total time=   0.5s\n",
      "[CV] END C=0.1, coef0=0.5, degree=3, gamma=scale, kernel=linear; total time=   0.6s\n",
      "[CV] END C=0.1, coef0=0.5, degree=3, gamma=scale, kernel=rbf; total time=   2.4s\n",
      "[CV] END C=0.1, coef0=0.5, degree=3, gamma=scale, kernel=rbf; total time=   2.1s\n",
      "[CV] END C=0.1, coef0=0.5, degree=3, gamma=auto, kernel=linear; total time=   0.5s\n",
      "[CV] END C=0.1, coef0=0.5, degree=3, gamma=auto, kernel=linear; total time=   0.6s\n",
      "[CV] END .C=0.1, coef0=0.5, degree=3, gamma=auto, kernel=rbf; total time=   3.0s\n",
      "[CV] END .C=0.1, coef0=0.5, degree=3, gamma=auto, kernel=rbf; total time=   2.6s\n",
      "[CV] END C=0.1, coef0=0.5, degree=4, gamma=scale, kernel=linear; total time=   0.5s\n",
      "[CV] END C=0.1, coef0=0.5, degree=4, gamma=scale, kernel=linear; total time=   0.6s\n",
      "[CV] END C=0.1, coef0=0.5, degree=4, gamma=scale, kernel=rbf; total time=   2.2s\n",
      "[CV] END C=0.1, coef0=0.5, degree=4, gamma=scale, kernel=rbf; total time=   2.4s\n",
      "[CV] END C=0.1, coef0=0.5, degree=4, gamma=auto, kernel=linear; total time=   0.5s\n",
      "[CV] END C=0.1, coef0=0.5, degree=4, gamma=auto, kernel=linear; total time=   0.6s\n",
      "[CV] END .C=0.1, coef0=0.5, degree=4, gamma=auto, kernel=rbf; total time=   2.7s\n",
      "[CV] END .C=0.1, coef0=0.5, degree=4, gamma=auto, kernel=rbf; total time=   2.9s\n",
      "[CV] END C=1, coef0=0.0, degree=2, gamma=scale, kernel=linear; total time=   0.5s\n",
      "[CV] END C=1, coef0=0.0, degree=2, gamma=scale, kernel=linear; total time=   0.5s\n",
      "[CV] END ..C=1, coef0=0.0, degree=2, gamma=scale, kernel=rbf; total time=   1.3s\n",
      "[CV] END ..C=1, coef0=0.0, degree=2, gamma=scale, kernel=rbf; total time=   1.5s\n",
      "[CV] END C=1, coef0=0.0, degree=2, gamma=auto, kernel=linear; total time=   0.5s\n",
      "[CV] END C=1, coef0=0.0, degree=2, gamma=auto, kernel=linear; total time=   0.5s\n",
      "[CV] END ...C=1, coef0=0.0, degree=2, gamma=auto, kernel=rbf; total time=   1.8s\n",
      "[CV] END ...C=1, coef0=0.0, degree=2, gamma=auto, kernel=rbf; total time=   1.9s\n",
      "[CV] END C=1, coef0=0.0, degree=3, gamma=scale, kernel=linear; total time=   0.5s\n",
      "[CV] END C=1, coef0=0.0, degree=3, gamma=scale, kernel=linear; total time=   0.5s\n",
      "[CV] END ..C=1, coef0=0.0, degree=3, gamma=scale, kernel=rbf; total time=   1.4s\n",
      "[CV] END ..C=1, coef0=0.0, degree=3, gamma=scale, kernel=rbf; total time=   1.7s\n",
      "[CV] END C=1, coef0=0.0, degree=3, gamma=auto, kernel=linear; total time=   0.5s\n",
      "[CV] END C=1, coef0=0.0, degree=3, gamma=auto, kernel=linear; total time=   0.5s\n",
      "[CV] END ...C=1, coef0=0.0, degree=3, gamma=auto, kernel=rbf; total time=   1.7s\n",
      "[CV] END ...C=1, coef0=0.0, degree=3, gamma=auto, kernel=rbf; total time=   2.0s\n",
      "[CV] END C=1, coef0=0.0, degree=4, gamma=scale, kernel=linear; total time=   0.4s\n",
      "[CV] END C=1, coef0=0.0, degree=4, gamma=scale, kernel=linear; total time=   0.5s\n",
      "[CV] END ..C=1, coef0=0.0, degree=4, gamma=scale, kernel=rbf; total time=   1.3s\n",
      "[CV] END ..C=1, coef0=0.0, degree=4, gamma=scale, kernel=rbf; total time=   1.5s\n",
      "[CV] END C=1, coef0=0.0, degree=4, gamma=auto, kernel=linear; total time=   0.5s\n",
      "[CV] END C=1, coef0=0.0, degree=4, gamma=auto, kernel=linear; total time=   0.5s\n",
      "[CV] END ...C=1, coef0=0.0, degree=4, gamma=auto, kernel=rbf; total time=   1.7s\n",
      "[CV] END ...C=1, coef0=0.0, degree=4, gamma=auto, kernel=rbf; total time=   2.3s\n",
      "[CV] END C=1, coef0=0.1, degree=2, gamma=scale, kernel=linear; total time=   0.8s\n",
      "[CV] END C=1, coef0=0.1, degree=2, gamma=scale, kernel=linear; total time=   0.8s\n",
      "[CV] END ..C=1, coef0=0.1, degree=2, gamma=scale, kernel=rbf; total time=   1.8s\n",
      "[CV] END ..C=1, coef0=0.1, degree=2, gamma=scale, kernel=rbf; total time=   1.7s\n",
      "[CV] END C=1, coef0=0.1, degree=2, gamma=auto, kernel=linear; total time=   0.5s\n",
      "[CV] END C=1, coef0=0.1, degree=2, gamma=auto, kernel=linear; total time=   0.5s\n",
      "[CV] END ...C=1, coef0=0.1, degree=2, gamma=auto, kernel=rbf; total time=   1.9s\n",
      "[CV] END ...C=1, coef0=0.1, degree=2, gamma=auto, kernel=rbf; total time=   2.1s\n",
      "[CV] END C=1, coef0=0.1, degree=3, gamma=scale, kernel=linear; total time=   0.4s\n",
      "[CV] END C=1, coef0=0.1, degree=3, gamma=scale, kernel=linear; total time=   0.5s\n",
      "[CV] END ..C=1, coef0=0.1, degree=3, gamma=scale, kernel=rbf; total time=   1.4s\n",
      "[CV] END ..C=1, coef0=0.1, degree=3, gamma=scale, kernel=rbf; total time=   1.7s\n",
      "[CV] END C=1, coef0=0.1, degree=3, gamma=auto, kernel=linear; total time=   0.5s\n",
      "[CV] END C=1, coef0=0.1, degree=3, gamma=auto, kernel=linear; total time=   0.5s\n",
      "[CV] END ...C=1, coef0=0.1, degree=3, gamma=auto, kernel=rbf; total time=   1.7s\n",
      "[CV] END ...C=1, coef0=0.1, degree=3, gamma=auto, kernel=rbf; total time=   2.1s\n",
      "[CV] END C=1, coef0=0.1, degree=4, gamma=scale, kernel=linear; total time=   0.5s\n",
      "[CV] END C=1, coef0=0.1, degree=4, gamma=scale, kernel=linear; total time=   0.5s\n",
      "[CV] END ..C=1, coef0=0.1, degree=4, gamma=scale, kernel=rbf; total time=   1.3s\n",
      "[CV] END ..C=1, coef0=0.1, degree=4, gamma=scale, kernel=rbf; total time=   1.6s\n",
      "[CV] END C=1, coef0=0.1, degree=4, gamma=auto, kernel=linear; total time=   0.5s\n",
      "[CV] END C=1, coef0=0.1, degree=4, gamma=auto, kernel=linear; total time=   0.5s\n",
      "[CV] END ...C=1, coef0=0.1, degree=4, gamma=auto, kernel=rbf; total time=   1.8s\n",
      "[CV] END ...C=1, coef0=0.1, degree=4, gamma=auto, kernel=rbf; total time=   2.0s\n",
      "[CV] END C=1, coef0=0.5, degree=2, gamma=scale, kernel=linear; total time=   0.4s\n",
      "[CV] END C=1, coef0=0.5, degree=2, gamma=scale, kernel=linear; total time=   0.5s\n",
      "[CV] END ..C=1, coef0=0.5, degree=2, gamma=scale, kernel=rbf; total time=   1.5s\n",
      "[CV] END ..C=1, coef0=0.5, degree=2, gamma=scale, kernel=rbf; total time=   1.6s\n",
      "[CV] END C=1, coef0=0.5, degree=2, gamma=auto, kernel=linear; total time=   0.5s\n",
      "[CV] END C=1, coef0=0.5, degree=2, gamma=auto, kernel=linear; total time=   0.5s\n",
      "[CV] END ...C=1, coef0=0.5, degree=2, gamma=auto, kernel=rbf; total time=   1.8s\n",
      "[CV] END ...C=1, coef0=0.5, degree=2, gamma=auto, kernel=rbf; total time=   2.1s\n",
      "[CV] END C=1, coef0=0.5, degree=3, gamma=scale, kernel=linear; total time=   0.5s\n",
      "[CV] END C=1, coef0=0.5, degree=3, gamma=scale, kernel=linear; total time=   0.5s\n",
      "[CV] END ..C=1, coef0=0.5, degree=3, gamma=scale, kernel=rbf; total time=   1.4s\n",
      "[CV] END ..C=1, coef0=0.5, degree=3, gamma=scale, kernel=rbf; total time=   1.6s\n",
      "[CV] END C=1, coef0=0.5, degree=3, gamma=auto, kernel=linear; total time=   0.5s\n",
      "[CV] END C=1, coef0=0.5, degree=3, gamma=auto, kernel=linear; total time=   0.5s\n",
      "[CV] END ...C=1, coef0=0.5, degree=3, gamma=auto, kernel=rbf; total time=   1.8s\n",
      "[CV] END ...C=1, coef0=0.5, degree=3, gamma=auto, kernel=rbf; total time=   1.9s\n",
      "[CV] END C=1, coef0=0.5, degree=4, gamma=scale, kernel=linear; total time=   0.5s\n",
      "[CV] END C=1, coef0=0.5, degree=4, gamma=scale, kernel=linear; total time=   0.5s\n",
      "[CV] END ..C=1, coef0=0.5, degree=4, gamma=scale, kernel=rbf; total time=   1.4s\n",
      "[CV] END ..C=1, coef0=0.5, degree=4, gamma=scale, kernel=rbf; total time=   1.6s\n",
      "[CV] END C=1, coef0=0.5, degree=4, gamma=auto, kernel=linear; total time=   0.5s\n",
      "[CV] END C=1, coef0=0.5, degree=4, gamma=auto, kernel=linear; total time=   0.5s\n",
      "[CV] END ...C=1, coef0=0.5, degree=4, gamma=auto, kernel=rbf; total time=   2.0s\n",
      "[CV] END ...C=1, coef0=0.5, degree=4, gamma=auto, kernel=rbf; total time=   2.4s\n",
      "[CV] END C=10, coef0=0.0, degree=2, gamma=scale, kernel=linear; total time=   0.7s\n",
      "[CV] END C=10, coef0=0.0, degree=2, gamma=scale, kernel=linear; total time=   0.8s\n",
      "[CV] END .C=10, coef0=0.0, degree=2, gamma=scale, kernel=rbf; total time=   1.7s\n",
      "[CV] END .C=10, coef0=0.0, degree=2, gamma=scale, kernel=rbf; total time=   1.3s\n",
      "[CV] END C=10, coef0=0.0, degree=2, gamma=auto, kernel=linear; total time=   0.6s\n",
      "[CV] END C=10, coef0=0.0, degree=2, gamma=auto, kernel=linear; total time=   0.7s\n",
      "[CV] END ..C=10, coef0=0.0, degree=2, gamma=auto, kernel=rbf; total time=   1.5s\n",
      "[CV] END ..C=10, coef0=0.0, degree=2, gamma=auto, kernel=rbf; total time=   1.6s\n",
      "[CV] END C=10, coef0=0.0, degree=3, gamma=scale, kernel=linear; total time=   0.6s\n",
      "[CV] END C=10, coef0=0.0, degree=3, gamma=scale, kernel=linear; total time=   0.6s\n",
      "[CV] END .C=10, coef0=0.0, degree=3, gamma=scale, kernel=rbf; total time=   1.0s\n",
      "[CV] END .C=10, coef0=0.0, degree=3, gamma=scale, kernel=rbf; total time=   1.1s\n",
      "[CV] END C=10, coef0=0.0, degree=3, gamma=auto, kernel=linear; total time=   0.8s\n",
      "[CV] END C=10, coef0=0.0, degree=3, gamma=auto, kernel=linear; total time=   0.7s\n",
      "[CV] END ..C=10, coef0=0.0, degree=3, gamma=auto, kernel=rbf; total time=   1.4s\n",
      "[CV] END ..C=10, coef0=0.0, degree=3, gamma=auto, kernel=rbf; total time=   1.6s\n",
      "[CV] END C=10, coef0=0.0, degree=4, gamma=scale, kernel=linear; total time=   0.6s\n",
      "[CV] END C=10, coef0=0.0, degree=4, gamma=scale, kernel=linear; total time=   0.6s\n",
      "[CV] END .C=10, coef0=0.0, degree=4, gamma=scale, kernel=rbf; total time=   1.1s\n",
      "[CV] END .C=10, coef0=0.0, degree=4, gamma=scale, kernel=rbf; total time=   1.1s\n",
      "[CV] END C=10, coef0=0.0, degree=4, gamma=auto, kernel=linear; total time=   0.8s\n",
      "[CV] END C=10, coef0=0.0, degree=4, gamma=auto, kernel=linear; total time=   0.6s\n",
      "[CV] END ..C=10, coef0=0.0, degree=4, gamma=auto, kernel=rbf; total time=   1.3s\n",
      "[CV] END ..C=10, coef0=0.0, degree=4, gamma=auto, kernel=rbf; total time=   1.7s\n",
      "[CV] END C=10, coef0=0.1, degree=2, gamma=scale, kernel=linear; total time=   0.8s\n",
      "[CV] END C=10, coef0=0.1, degree=2, gamma=scale, kernel=linear; total time=   0.6s\n",
      "[CV] END .C=10, coef0=0.1, degree=2, gamma=scale, kernel=rbf; total time=   1.0s\n",
      "[CV] END .C=10, coef0=0.1, degree=2, gamma=scale, kernel=rbf; total time=   1.1s\n",
      "[CV] END C=10, coef0=0.1, degree=2, gamma=auto, kernel=linear; total time=   0.6s\n",
      "[CV] END C=10, coef0=0.1, degree=2, gamma=auto, kernel=linear; total time=   0.6s\n",
      "[CV] END ..C=10, coef0=0.1, degree=2, gamma=auto, kernel=rbf; total time=   1.5s\n",
      "[CV] END ..C=10, coef0=0.1, degree=2, gamma=auto, kernel=rbf; total time=   1.4s\n",
      "[CV] END C=10, coef0=0.1, degree=3, gamma=scale, kernel=linear; total time=   0.6s\n",
      "[CV] END C=10, coef0=0.1, degree=3, gamma=scale, kernel=linear; total time=   0.6s\n",
      "[CV] END .C=10, coef0=0.1, degree=3, gamma=scale, kernel=rbf; total time=   1.0s\n",
      "[CV] END .C=10, coef0=0.1, degree=3, gamma=scale, kernel=rbf; total time=   1.3s\n",
      "[CV] END C=10, coef0=0.1, degree=3, gamma=auto, kernel=linear; total time=   0.6s\n",
      "[CV] END C=10, coef0=0.1, degree=3, gamma=auto, kernel=linear; total time=   0.6s\n",
      "[CV] END ..C=10, coef0=0.1, degree=3, gamma=auto, kernel=rbf; total time=   1.3s\n",
      "[CV] END ..C=10, coef0=0.1, degree=3, gamma=auto, kernel=rbf; total time=   1.6s\n",
      "[CV] END C=10, coef0=0.1, degree=4, gamma=scale, kernel=linear; total time=   0.6s\n",
      "[CV] END C=10, coef0=0.1, degree=4, gamma=scale, kernel=linear; total time=   0.8s\n",
      "[CV] END .C=10, coef0=0.1, degree=4, gamma=scale, kernel=rbf; total time=   1.0s\n",
      "[CV] END .C=10, coef0=0.1, degree=4, gamma=scale, kernel=rbf; total time=   1.3s\n",
      "[CV] END C=10, coef0=0.1, degree=4, gamma=auto, kernel=linear; total time=   0.6s\n",
      "[CV] END C=10, coef0=0.1, degree=4, gamma=auto, kernel=linear; total time=   0.7s\n",
      "[CV] END ..C=10, coef0=0.1, degree=4, gamma=auto, kernel=rbf; total time=   1.5s\n",
      "[CV] END ..C=10, coef0=0.1, degree=4, gamma=auto, kernel=rbf; total time=   1.4s\n",
      "[CV] END C=10, coef0=0.5, degree=2, gamma=scale, kernel=linear; total time=   0.6s\n",
      "[CV] END C=10, coef0=0.5, degree=2, gamma=scale, kernel=linear; total time=   0.6s\n",
      "[CV] END .C=10, coef0=0.5, degree=2, gamma=scale, kernel=rbf; total time=   1.0s\n",
      "[CV] END .C=10, coef0=0.5, degree=2, gamma=scale, kernel=rbf; total time=   1.3s\n",
      "[CV] END C=10, coef0=0.5, degree=2, gamma=auto, kernel=linear; total time=   0.6s\n",
      "[CV] END C=10, coef0=0.5, degree=2, gamma=auto, kernel=linear; total time=   0.6s\n",
      "[CV] END ..C=10, coef0=0.5, degree=2, gamma=auto, kernel=rbf; total time=   1.4s\n",
      "[CV] END ..C=10, coef0=0.5, degree=2, gamma=auto, kernel=rbf; total time=   1.7s\n",
      "[CV] END C=10, coef0=0.5, degree=3, gamma=scale, kernel=linear; total time=   0.9s\n",
      "[CV] END C=10, coef0=0.5, degree=3, gamma=scale, kernel=linear; total time=   0.9s\n",
      "[CV] END .C=10, coef0=0.5, degree=3, gamma=scale, kernel=rbf; total time=   1.3s\n",
      "[CV] END .C=10, coef0=0.5, degree=3, gamma=scale, kernel=rbf; total time=   1.4s\n",
      "[CV] END C=10, coef0=0.5, degree=3, gamma=auto, kernel=linear; total time=   0.7s\n",
      "[CV] END C=10, coef0=0.5, degree=3, gamma=auto, kernel=linear; total time=   0.7s\n",
      "[CV] END ..C=10, coef0=0.5, degree=3, gamma=auto, kernel=rbf; total time=   2.0s\n",
      "[CV] END ..C=10, coef0=0.5, degree=3, gamma=auto, kernel=rbf; total time=   1.7s\n",
      "[CV] END C=10, coef0=0.5, degree=4, gamma=scale, kernel=linear; total time=   0.7s\n",
      "[CV] END C=10, coef0=0.5, degree=4, gamma=scale, kernel=linear; total time=   0.8s\n",
      "[CV] END .C=10, coef0=0.5, degree=4, gamma=scale, kernel=rbf; total time=   1.5s\n",
      "[CV] END .C=10, coef0=0.5, degree=4, gamma=scale, kernel=rbf; total time=   1.3s\n",
      "[CV] END C=10, coef0=0.5, degree=4, gamma=auto, kernel=linear; total time=   0.6s\n",
      "[CV] END C=10, coef0=0.5, degree=4, gamma=auto, kernel=linear; total time=   0.6s\n",
      "[CV] END ..C=10, coef0=0.5, degree=4, gamma=auto, kernel=rbf; total time=   1.5s\n",
      "[CV] END ..C=10, coef0=0.5, degree=4, gamma=auto, kernel=rbf; total time=   1.4s\n"
     ]
    }
   ],
   "source": [
    "Model_SVM = SVC()\n",
    "Model_SVM.fit(X_train, y_train)\n",
    "\n",
    "svc_param_grid = {\n",
    "    'C': [0.1, 1, 10],\n",
    "    'kernel': ['linear', 'rbf'],\n",
    "    'gamma': ['scale', 'auto'],\n",
    "    'degree': [2, 3, 4],\n",
    "    'coef0': [0.0, 0.1, 0.5]\n",
    "}\n",
    "\n",
    "svc_grid_search = GridSearchCV(estimator=SVC(), param_grid=svc_param_grid, cv=2,verbose=2,scoring=\"accuracy\")\n",
    "history = svc_grid_search.fit(X_train, y_train)\n",
    "\n",
    "y_pred_SVM = svc_grid_search.predict(X_test)\n",
    "accuracy_SVM = accuracy_score(y_test, y_pred_SVM)"
   ]
  },
  {
   "cell_type": "code",
   "execution_count": 199,
   "metadata": {},
   "outputs": [
    {
     "name": "stdout",
     "output_type": "stream",
     "text": [
      "Accuracy: 0.9\n",
      "SVM - Best Params: {'C': 10, 'coef0': 0.0, 'degree': 2, 'gamma': 'scale', 'kernel': 'rbf'}\n",
      "SVM - Best Estimator: SVC(C=10, degree=2)\n",
      "SVM - Best Score: 0.9014069264069264\n"
     ]
    },
    {
     "data": {
      "application/vnd.plotly.v1+json": {
       "config": {
        "plotlyServerURL": "https://plot.ly"
       },
       "data": [
        {
         "coloraxis": "coloraxis",
         "hovertemplate": "Predicted Label: %{x}<br>True Label: %{y}<br>Count: %{z}<extra></extra>",
         "name": "0",
         "texttemplate": "%{z}",
         "type": "heatmap",
         "x": [
          "Rainy",
          "Cloudy",
          "Sunny",
          "Snowy"
         ],
         "xaxis": "x",
         "y": [
          "Rainy",
          "Cloudy",
          "Sunny",
          "Snowy"
         ],
         "yaxis": "y",
         "z": [
          [
           889,
           52,
           21,
           20
          ],
          [
           74,
           832,
           27,
           22
          ],
          [
           33,
           57,
           879,
           21
          ],
          [
           22,
           30,
           17,
           964
          ]
         ]
        }
       ],
       "layout": {
        "coloraxis": {
         "colorbar": {
          "title": {
           "text": "Count"
          }
         },
         "colorscale": [
          [
           0,
           "#440154"
          ],
          [
           0.1111111111111111,
           "#482878"
          ],
          [
           0.2222222222222222,
           "#3e4989"
          ],
          [
           0.3333333333333333,
           "#31688e"
          ],
          [
           0.4444444444444444,
           "#26828e"
          ],
          [
           0.5555555555555556,
           "#1f9e89"
          ],
          [
           0.6666666666666666,
           "#35b779"
          ],
          [
           0.7777777777777778,
           "#6ece58"
          ],
          [
           0.8888888888888888,
           "#b5de2b"
          ],
          [
           1,
           "#fde725"
          ]
         ]
        },
        "height": 400,
        "margin": {
         "t": 60
        },
        "template": {
         "data": {
          "bar": [
           {
            "error_x": {
             "color": "#2a3f5f"
            },
            "error_y": {
             "color": "#2a3f5f"
            },
            "marker": {
             "line": {
              "color": "#E5ECF6",
              "width": 0.5
             },
             "pattern": {
              "fillmode": "overlay",
              "size": 10,
              "solidity": 0.2
             }
            },
            "type": "bar"
           }
          ],
          "barpolar": [
           {
            "marker": {
             "line": {
              "color": "#E5ECF6",
              "width": 0.5
             },
             "pattern": {
              "fillmode": "overlay",
              "size": 10,
              "solidity": 0.2
             }
            },
            "type": "barpolar"
           }
          ],
          "carpet": [
           {
            "aaxis": {
             "endlinecolor": "#2a3f5f",
             "gridcolor": "white",
             "linecolor": "white",
             "minorgridcolor": "white",
             "startlinecolor": "#2a3f5f"
            },
            "baxis": {
             "endlinecolor": "#2a3f5f",
             "gridcolor": "white",
             "linecolor": "white",
             "minorgridcolor": "white",
             "startlinecolor": "#2a3f5f"
            },
            "type": "carpet"
           }
          ],
          "choropleth": [
           {
            "colorbar": {
             "outlinewidth": 0,
             "ticks": ""
            },
            "type": "choropleth"
           }
          ],
          "contour": [
           {
            "colorbar": {
             "outlinewidth": 0,
             "ticks": ""
            },
            "colorscale": [
             [
              0,
              "#0d0887"
             ],
             [
              0.1111111111111111,
              "#46039f"
             ],
             [
              0.2222222222222222,
              "#7201a8"
             ],
             [
              0.3333333333333333,
              "#9c179e"
             ],
             [
              0.4444444444444444,
              "#bd3786"
             ],
             [
              0.5555555555555556,
              "#d8576b"
             ],
             [
              0.6666666666666666,
              "#ed7953"
             ],
             [
              0.7777777777777778,
              "#fb9f3a"
             ],
             [
              0.8888888888888888,
              "#fdca26"
             ],
             [
              1,
              "#f0f921"
             ]
            ],
            "type": "contour"
           }
          ],
          "contourcarpet": [
           {
            "colorbar": {
             "outlinewidth": 0,
             "ticks": ""
            },
            "type": "contourcarpet"
           }
          ],
          "heatmap": [
           {
            "colorbar": {
             "outlinewidth": 0,
             "ticks": ""
            },
            "colorscale": [
             [
              0,
              "#0d0887"
             ],
             [
              0.1111111111111111,
              "#46039f"
             ],
             [
              0.2222222222222222,
              "#7201a8"
             ],
             [
              0.3333333333333333,
              "#9c179e"
             ],
             [
              0.4444444444444444,
              "#bd3786"
             ],
             [
              0.5555555555555556,
              "#d8576b"
             ],
             [
              0.6666666666666666,
              "#ed7953"
             ],
             [
              0.7777777777777778,
              "#fb9f3a"
             ],
             [
              0.8888888888888888,
              "#fdca26"
             ],
             [
              1,
              "#f0f921"
             ]
            ],
            "type": "heatmap"
           }
          ],
          "heatmapgl": [
           {
            "colorbar": {
             "outlinewidth": 0,
             "ticks": ""
            },
            "colorscale": [
             [
              0,
              "#0d0887"
             ],
             [
              0.1111111111111111,
              "#46039f"
             ],
             [
              0.2222222222222222,
              "#7201a8"
             ],
             [
              0.3333333333333333,
              "#9c179e"
             ],
             [
              0.4444444444444444,
              "#bd3786"
             ],
             [
              0.5555555555555556,
              "#d8576b"
             ],
             [
              0.6666666666666666,
              "#ed7953"
             ],
             [
              0.7777777777777778,
              "#fb9f3a"
             ],
             [
              0.8888888888888888,
              "#fdca26"
             ],
             [
              1,
              "#f0f921"
             ]
            ],
            "type": "heatmapgl"
           }
          ],
          "histogram": [
           {
            "marker": {
             "pattern": {
              "fillmode": "overlay",
              "size": 10,
              "solidity": 0.2
             }
            },
            "type": "histogram"
           }
          ],
          "histogram2d": [
           {
            "colorbar": {
             "outlinewidth": 0,
             "ticks": ""
            },
            "colorscale": [
             [
              0,
              "#0d0887"
             ],
             [
              0.1111111111111111,
              "#46039f"
             ],
             [
              0.2222222222222222,
              "#7201a8"
             ],
             [
              0.3333333333333333,
              "#9c179e"
             ],
             [
              0.4444444444444444,
              "#bd3786"
             ],
             [
              0.5555555555555556,
              "#d8576b"
             ],
             [
              0.6666666666666666,
              "#ed7953"
             ],
             [
              0.7777777777777778,
              "#fb9f3a"
             ],
             [
              0.8888888888888888,
              "#fdca26"
             ],
             [
              1,
              "#f0f921"
             ]
            ],
            "type": "histogram2d"
           }
          ],
          "histogram2dcontour": [
           {
            "colorbar": {
             "outlinewidth": 0,
             "ticks": ""
            },
            "colorscale": [
             [
              0,
              "#0d0887"
             ],
             [
              0.1111111111111111,
              "#46039f"
             ],
             [
              0.2222222222222222,
              "#7201a8"
             ],
             [
              0.3333333333333333,
              "#9c179e"
             ],
             [
              0.4444444444444444,
              "#bd3786"
             ],
             [
              0.5555555555555556,
              "#d8576b"
             ],
             [
              0.6666666666666666,
              "#ed7953"
             ],
             [
              0.7777777777777778,
              "#fb9f3a"
             ],
             [
              0.8888888888888888,
              "#fdca26"
             ],
             [
              1,
              "#f0f921"
             ]
            ],
            "type": "histogram2dcontour"
           }
          ],
          "mesh3d": [
           {
            "colorbar": {
             "outlinewidth": 0,
             "ticks": ""
            },
            "type": "mesh3d"
           }
          ],
          "parcoords": [
           {
            "line": {
             "colorbar": {
              "outlinewidth": 0,
              "ticks": ""
             }
            },
            "type": "parcoords"
           }
          ],
          "pie": [
           {
            "automargin": true,
            "type": "pie"
           }
          ],
          "scatter": [
           {
            "fillpattern": {
             "fillmode": "overlay",
             "size": 10,
             "solidity": 0.2
            },
            "type": "scatter"
           }
          ],
          "scatter3d": [
           {
            "line": {
             "colorbar": {
              "outlinewidth": 0,
              "ticks": ""
             }
            },
            "marker": {
             "colorbar": {
              "outlinewidth": 0,
              "ticks": ""
             }
            },
            "type": "scatter3d"
           }
          ],
          "scattercarpet": [
           {
            "marker": {
             "colorbar": {
              "outlinewidth": 0,
              "ticks": ""
             }
            },
            "type": "scattercarpet"
           }
          ],
          "scattergeo": [
           {
            "marker": {
             "colorbar": {
              "outlinewidth": 0,
              "ticks": ""
             }
            },
            "type": "scattergeo"
           }
          ],
          "scattergl": [
           {
            "marker": {
             "colorbar": {
              "outlinewidth": 0,
              "ticks": ""
             }
            },
            "type": "scattergl"
           }
          ],
          "scattermapbox": [
           {
            "marker": {
             "colorbar": {
              "outlinewidth": 0,
              "ticks": ""
             }
            },
            "type": "scattermapbox"
           }
          ],
          "scatterpolar": [
           {
            "marker": {
             "colorbar": {
              "outlinewidth": 0,
              "ticks": ""
             }
            },
            "type": "scatterpolar"
           }
          ],
          "scatterpolargl": [
           {
            "marker": {
             "colorbar": {
              "outlinewidth": 0,
              "ticks": ""
             }
            },
            "type": "scatterpolargl"
           }
          ],
          "scatterternary": [
           {
            "marker": {
             "colorbar": {
              "outlinewidth": 0,
              "ticks": ""
             }
            },
            "type": "scatterternary"
           }
          ],
          "surface": [
           {
            "colorbar": {
             "outlinewidth": 0,
             "ticks": ""
            },
            "colorscale": [
             [
              0,
              "#0d0887"
             ],
             [
              0.1111111111111111,
              "#46039f"
             ],
             [
              0.2222222222222222,
              "#7201a8"
             ],
             [
              0.3333333333333333,
              "#9c179e"
             ],
             [
              0.4444444444444444,
              "#bd3786"
             ],
             [
              0.5555555555555556,
              "#d8576b"
             ],
             [
              0.6666666666666666,
              "#ed7953"
             ],
             [
              0.7777777777777778,
              "#fb9f3a"
             ],
             [
              0.8888888888888888,
              "#fdca26"
             ],
             [
              1,
              "#f0f921"
             ]
            ],
            "type": "surface"
           }
          ],
          "table": [
           {
            "cells": {
             "fill": {
              "color": "#EBF0F8"
             },
             "line": {
              "color": "white"
             }
            },
            "header": {
             "fill": {
              "color": "#C8D4E3"
             },
             "line": {
              "color": "white"
             }
            },
            "type": "table"
           }
          ]
         },
         "layout": {
          "annotationdefaults": {
           "arrowcolor": "#2a3f5f",
           "arrowhead": 0,
           "arrowwidth": 1
          },
          "autotypenumbers": "strict",
          "coloraxis": {
           "colorbar": {
            "outlinewidth": 0,
            "ticks": ""
           }
          },
          "colorscale": {
           "diverging": [
            [
             0,
             "#8e0152"
            ],
            [
             0.1,
             "#c51b7d"
            ],
            [
             0.2,
             "#de77ae"
            ],
            [
             0.3,
             "#f1b6da"
            ],
            [
             0.4,
             "#fde0ef"
            ],
            [
             0.5,
             "#f7f7f7"
            ],
            [
             0.6,
             "#e6f5d0"
            ],
            [
             0.7,
             "#b8e186"
            ],
            [
             0.8,
             "#7fbc41"
            ],
            [
             0.9,
             "#4d9221"
            ],
            [
             1,
             "#276419"
            ]
           ],
           "sequential": [
            [
             0,
             "#0d0887"
            ],
            [
             0.1111111111111111,
             "#46039f"
            ],
            [
             0.2222222222222222,
             "#7201a8"
            ],
            [
             0.3333333333333333,
             "#9c179e"
            ],
            [
             0.4444444444444444,
             "#bd3786"
            ],
            [
             0.5555555555555556,
             "#d8576b"
            ],
            [
             0.6666666666666666,
             "#ed7953"
            ],
            [
             0.7777777777777778,
             "#fb9f3a"
            ],
            [
             0.8888888888888888,
             "#fdca26"
            ],
            [
             1,
             "#f0f921"
            ]
           ],
           "sequentialminus": [
            [
             0,
             "#0d0887"
            ],
            [
             0.1111111111111111,
             "#46039f"
            ],
            [
             0.2222222222222222,
             "#7201a8"
            ],
            [
             0.3333333333333333,
             "#9c179e"
            ],
            [
             0.4444444444444444,
             "#bd3786"
            ],
            [
             0.5555555555555556,
             "#d8576b"
            ],
            [
             0.6666666666666666,
             "#ed7953"
            ],
            [
             0.7777777777777778,
             "#fb9f3a"
            ],
            [
             0.8888888888888888,
             "#fdca26"
            ],
            [
             1,
             "#f0f921"
            ]
           ]
          },
          "colorway": [
           "#636efa",
           "#EF553B",
           "#00cc96",
           "#ab63fa",
           "#FFA15A",
           "#19d3f3",
           "#FF6692",
           "#B6E880",
           "#FF97FF",
           "#FECB52"
          ],
          "font": {
           "color": "#2a3f5f"
          },
          "geo": {
           "bgcolor": "white",
           "lakecolor": "white",
           "landcolor": "#E5ECF6",
           "showlakes": true,
           "showland": true,
           "subunitcolor": "white"
          },
          "hoverlabel": {
           "align": "left"
          },
          "hovermode": "closest",
          "mapbox": {
           "style": "light"
          },
          "paper_bgcolor": "white",
          "plot_bgcolor": "#E5ECF6",
          "polar": {
           "angularaxis": {
            "gridcolor": "white",
            "linecolor": "white",
            "ticks": ""
           },
           "bgcolor": "#E5ECF6",
           "radialaxis": {
            "gridcolor": "white",
            "linecolor": "white",
            "ticks": ""
           }
          },
          "scene": {
           "xaxis": {
            "backgroundcolor": "#E5ECF6",
            "gridcolor": "white",
            "gridwidth": 2,
            "linecolor": "white",
            "showbackground": true,
            "ticks": "",
            "zerolinecolor": "white"
           },
           "yaxis": {
            "backgroundcolor": "#E5ECF6",
            "gridcolor": "white",
            "gridwidth": 2,
            "linecolor": "white",
            "showbackground": true,
            "ticks": "",
            "zerolinecolor": "white"
           },
           "zaxis": {
            "backgroundcolor": "#E5ECF6",
            "gridcolor": "white",
            "gridwidth": 2,
            "linecolor": "white",
            "showbackground": true,
            "ticks": "",
            "zerolinecolor": "white"
           }
          },
          "shapedefaults": {
           "line": {
            "color": "#2a3f5f"
           }
          },
          "ternary": {
           "aaxis": {
            "gridcolor": "white",
            "linecolor": "white",
            "ticks": ""
           },
           "baxis": {
            "gridcolor": "white",
            "linecolor": "white",
            "ticks": ""
           },
           "bgcolor": "#E5ECF6",
           "caxis": {
            "gridcolor": "white",
            "linecolor": "white",
            "ticks": ""
           }
          },
          "title": {
           "x": 0.05
          },
          "xaxis": {
           "automargin": true,
           "gridcolor": "white",
           "linecolor": "white",
           "ticks": "",
           "title": {
            "standoff": 15
           },
           "zerolinecolor": "white",
           "zerolinewidth": 2
          },
          "yaxis": {
           "automargin": true,
           "gridcolor": "white",
           "linecolor": "white",
           "ticks": "",
           "title": {
            "standoff": 15
           },
           "zerolinecolor": "white",
           "zerolinewidth": 2
          }
         }
        },
        "title": {
         "text": "Confusion Matrix"
        },
        "width": 800,
        "xaxis": {
         "anchor": "y",
         "constrain": "domain",
         "domain": [
          0,
          1
         ],
         "scaleanchor": "y",
         "title": {
          "text": "Predicted Label"
         }
        },
        "yaxis": {
         "anchor": "x",
         "autorange": "reversed",
         "constrain": "domain",
         "domain": [
          0,
          1
         ],
         "title": {
          "text": "True Label"
         }
        }
       }
      }
     },
     "metadata": {},
     "output_type": "display_data"
    }
   ],
   "source": [
    "print(\"Accuracy:\", accuracy_SVM)\n",
    "print(\"SVM - Best Params:\", svc_grid_search.best_params_)\n",
    "print(\"SVM - Best Estimator:\", svc_grid_search.best_estimator_)\n",
    "print(\"SVM - Best Score:\", svc_grid_search.best_score_)\n",
    "Plot_5(y_test, y_pred_SVM)"
   ]
  }
 ],
 "metadata": {
  "kernelspec": {
   "display_name": "Python 3",
   "language": "python",
   "name": "python3"
  },
  "language_info": {
   "codemirror_mode": {
    "name": "ipython",
    "version": 3
   },
   "file_extension": ".py",
   "mimetype": "text/x-python",
   "name": "python",
   "nbconvert_exporter": "python",
   "pygments_lexer": "ipython3",
   "version": "3.12.0"
  }
 },
 "nbformat": 4,
 "nbformat_minor": 2
}
